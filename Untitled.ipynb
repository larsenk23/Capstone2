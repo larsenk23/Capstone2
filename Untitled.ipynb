{
 "cells": [
  {
   "cell_type": "code",
   "execution_count": 1,
   "id": "e507cf24",
   "metadata": {},
   "outputs": [],
   "source": [
    "import pandas as pd\n",
    "import numpy as np\n",
    "import matplotlib.pyplot as plt\n",
    "import seaborn as sns\n",
    "from matplotlib.pyplot import figure\n",
    "import math\n",
    "\n",
    "from sklearn.model_selection import train_test_split\n",
    "from sklearn import preprocessing\n",
    "from sklearn.model_selection import RandomizedSearchCV \n",
    "from sklearn.linear_model import LinearRegression\n",
    "from sklearn.metrics import make_scorer\n",
    "from sklearn.preprocessing import StandardScaler, FunctionTransformer\n",
    "from sklearn.feature_selection import SelectFromModel\n",
    "from sklearn.ensemble import RandomForestRegressor, GradientBoostingRegressor\n",
    "from sklearn import model_selection\n",
    "from sklearn.metrics import mean_squared_error, mean_absolute_error, r2_score\n",
    "from sklearn import tree, metrics\n",
    "from sklearn.tree import DecisionTreeRegressor\n",
    "from sklearn.neural_network import MLPRegressor\n",
    "from sklearn.metrics import mean_absolute_percentage_error"
   ]
  },
  {
   "cell_type": "code",
   "execution_count": 2,
   "id": "4a3374b0",
   "metadata": {},
   "outputs": [
    {
     "name": "stderr",
     "output_type": "stream",
     "text": [
      "/Users/kasey.larsen/opt/anaconda3/lib/python3.8/site-packages/IPython/core/interactiveshell.py:3165: DtypeWarning: Columns (0) have mixed types.Specify dtype option on import or set low_memory=False.\n",
      "  has_raised = await self.run_ast_nodes(code_ast.body, cell_name,\n"
     ]
    }
   ],
   "source": [
    "df = pd.read_csv('df_combined.csv')"
   ]
  },
  {
   "cell_type": "code",
   "execution_count": 3,
   "id": "b288999f",
   "metadata": {},
   "outputs": [],
   "source": [
    "df = df.sample(frac = 0.15)"
   ]
  },
  {
   "cell_type": "code",
   "execution_count": 4,
   "id": "907aafed",
   "metadata": {},
   "outputs": [],
   "source": [
    "df = df.drop(['fullVisitorId'], axis=1)"
   ]
  },
  {
   "cell_type": "code",
   "execution_count": 10,
   "id": "1e5d95b5",
   "metadata": {},
   "outputs": [],
   "source": [
    "df['transactions_completed'] = np.nan"
   ]
  },
  {
   "cell_type": "code",
   "execution_count": 13,
   "id": "fb79b430",
   "metadata": {},
   "outputs": [
    {
     "name": "stdout",
     "output_type": "stream",
     "text": [
      "<class 'pandas.core.frame.DataFrame'>\n",
      "Int64Index: 12409 entries, 41047 to 11727\n",
      "Data columns (total 35 columns):\n",
      " #   Column                  Non-Null Count  Dtype  \n",
      "---  ------                  --------------  -----  \n",
      " 0   channelGrouping         12409 non-null  object \n",
      " 1   socialEngagementType    12409 non-null  object \n",
      " 2   visitNumber             12409 non-null  int64  \n",
      " 3   visitStartTime          12409 non-null  float64\n",
      " 4   browser                 12409 non-null  object \n",
      " 5   operatingSystem         12409 non-null  object \n",
      " 6   isMobile                12409 non-null  int64  \n",
      " 7   deviceCategory          12409 non-null  object \n",
      " 8   continent               12409 non-null  object \n",
      " 9   subContinent            12409 non-null  object \n",
      " 10  country                 12409 non-null  object \n",
      " 11  region                  12409 non-null  object \n",
      " 12  metro                   12409 non-null  object \n",
      " 13  city                    12409 non-null  object \n",
      " 14  networkDomain           12409 non-null  object \n",
      " 15  hits                    12409 non-null  int64  \n",
      " 16  pageviews               12409 non-null  int64  \n",
      " 17  bounces                 12409 non-null  int64  \n",
      " 18  newVisits               12409 non-null  int64  \n",
      " 19  sessionQualityDim       12409 non-null  float64\n",
      " 20  timeOnSite              12409 non-null  int64  \n",
      " 21  transactions            12409 non-null  int64  \n",
      " 22  transactionRevenue      12409 non-null  int64  \n",
      " 23  source                  12409 non-null  object \n",
      " 24  campaign                12409 non-null  object \n",
      " 25  medium                  12409 non-null  object \n",
      " 26  keyword                 12409 non-null  object \n",
      " 27  referralPath            12409 non-null  object \n",
      " 28  isTrueDirect            12409 non-null  object \n",
      " 29  campaignCode            12409 non-null  int64  \n",
      " 30  weekday                 12409 non-null  int64  \n",
      " 31  day                     12409 non-null  int64  \n",
      " 32  month                   12409 non-null  int64  \n",
      " 33  year                    12409 non-null  int64  \n",
      " 34  transactions_completed  0 non-null      float64\n",
      "dtypes: float64(3), int64(14), object(18)\n",
      "memory usage: 3.4+ MB\n"
     ]
    }
   ],
   "source": [
    "df.info()"
   ]
  },
  {
   "cell_type": "code",
   "execution_count": 18,
   "id": "78e79cb4",
   "metadata": {},
   "outputs": [],
   "source": [
    "df['transactions_completed'] = np.where(df['transactions'] == 0, 0, df['transactions_completed'])\n",
    "df['transactions_completed'] = np.where(df['transactions'] != 0, 1, df['transactions_completed'])"
   ]
  },
  {
   "cell_type": "code",
   "execution_count": 20,
   "id": "ef0f5fa9",
   "metadata": {},
   "outputs": [],
   "source": [
    "categorical_feat = ['channelGrouping', 'socialEngagementType', 'browser', 'operatingSystem', \n",
    "                    'deviceCategory', 'continent', 'subContinent', 'country', 'region', 'metro',\n",
    "                   'city', 'networkDomain', 'campaign', 'source', 'medium', 'keyword', 'referralPath', 'isTrueDirect']"
   ]
  },
  {
   "cell_type": "code",
   "execution_count": 21,
   "id": "1e5b61a7",
   "metadata": {},
   "outputs": [
    {
     "name": "stdout",
     "output_type": "stream",
     "text": [
      "for this feature : channelGrouping label-encoding was done succesfully\n",
      "for this feature : socialEngagementType label-encoding was done succesfully\n",
      "for this feature : browser label-encoding was done succesfully\n",
      "for this feature : operatingSystem label-encoding was done succesfully\n",
      "for this feature : deviceCategory label-encoding was done succesfully\n",
      "for this feature : continent label-encoding was done succesfully\n",
      "for this feature : subContinent label-encoding was done succesfully\n",
      "for this feature : country label-encoding was done succesfully\n",
      "for this feature : region label-encoding was done succesfully\n",
      "for this feature : metro label-encoding was done succesfully\n",
      "for this feature : city label-encoding was done succesfully\n",
      "for this feature : networkDomain label-encoding was done succesfully\n",
      "for this feature : campaign label-encoding was done succesfully\n",
      "for this feature : source label-encoding was done succesfully\n",
      "for this feature : medium label-encoding was done succesfully\n",
      "for this feature : keyword label-encoding was done succesfully\n",
      "for this feature : referralPath label-encoding was done succesfully\n",
      "for this feature : isTrueDirect label-encoding was done succesfully\n"
     ]
    }
   ],
   "source": [
    "for feature in categorical_feat:\n",
    "    label_encoder = preprocessing.LabelEncoder()\n",
    "    label_encoder.fit(list(df[feature].values.astype('str')))\n",
    "    df[feature] = label_encoder.transform(list(df[feature].values.astype('str'))) \n",
    "    print(\"for this feature : {0} label-encoding was done succesfully\".format(feature))"
   ]
  },
  {
   "cell_type": "code",
   "execution_count": 22,
   "id": "a1959c3c",
   "metadata": {},
   "outputs": [],
   "source": [
    "df = df.drop(['transactions', 'transactionRevenue'], axis=1)"
   ]
  },
  {
   "cell_type": "code",
   "execution_count": 25,
   "id": "e416e2ff",
   "metadata": {},
   "outputs": [],
   "source": [
    "X = df.drop(columns='transactions_completed', axis = 1)\n",
    "y = df['transactions_completed']"
   ]
  },
  {
   "cell_type": "code",
   "execution_count": 26,
   "id": "48ddc99f",
   "metadata": {},
   "outputs": [],
   "source": [
    "X_train, X_test, y_train, y_test = train_test_split(X, y, test_size=0.3, random_state=47)"
   ]
  },
  {
   "cell_type": "code",
   "execution_count": 27,
   "id": "fdabec77",
   "metadata": {},
   "outputs": [],
   "source": [
    "#Call the StandardScaler`s fit method\n",
    "scaler = StandardScaler()\n",
    "scaler.fit(X_train)\n",
    "X_train = scaler.transform(X_train)\n",
    "X_test = scaler.transform(X_test)"
   ]
  },
  {
   "cell_type": "markdown",
   "id": "31f296d3",
   "metadata": {},
   "source": [
    "k-Nearest Neighbors.\n",
    "Decision Trees.\n",
    "Naive Bayes.\n",
    "Random Forest.\n",
    "Gradient Boosting."
   ]
  },
  {
   "cell_type": "code",
   "execution_count": null,
   "id": "02ccc5a2",
   "metadata": {},
   "outputs": [],
   "source": [
    "from sklearn.linear_model import LogisticRegression\n"
   ]
  }
 ],
 "metadata": {
  "kernelspec": {
   "display_name": "Python 3",
   "language": "python",
   "name": "python3"
  },
  "language_info": {
   "codemirror_mode": {
    "name": "ipython",
    "version": 3
   },
   "file_extension": ".py",
   "mimetype": "text/x-python",
   "name": "python",
   "nbconvert_exporter": "python",
   "pygments_lexer": "ipython3",
   "version": "3.8.8"
  }
 },
 "nbformat": 4,
 "nbformat_minor": 5
}
