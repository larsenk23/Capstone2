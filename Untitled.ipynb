{
 "cells": [
  {
   "cell_type": "code",
   "execution_count": 31,
   "id": "e507cf24",
   "metadata": {},
   "outputs": [],
   "source": [
    "import pandas as pd\n",
    "import numpy as np\n",
    "import os\n",
    "import pickle\n",
    "import matplotlib.pyplot as plt\n",
    "import seaborn as sns"
   ]
  },
  {
   "cell_type": "code",
   "execution_count": 32,
   "id": "4a3374b0",
   "metadata": {},
   "outputs": [
    {
     "name": "stderr",
     "output_type": "stream",
     "text": [
      "/Users/kasey.larsen/opt/anaconda3/lib/python3.8/site-packages/IPython/core/interactiveshell.py:3165: DtypeWarning: Columns (0) have mixed types.Specify dtype option on import or set low_memory=False.\n",
      "  has_raised = await self.run_ast_nodes(code_ast.body, cell_name,\n"
     ]
    }
   ],
   "source": [
    "df = pd.read_csv('df.csv')"
   ]
  },
  {
   "cell_type": "code",
   "execution_count": 33,
   "id": "3d93bf40",
   "metadata": {},
   "outputs": [],
   "source": [
    "df['pageviews'] = df['pageviews'].astype(int)\n",
    "df['newVisits'] = df['newVisits'].astype(int)\n",
    "df['bounces'] = df['bounces'].astype(int)\n",
    "df['hits_y'] = df['hits_y'].astype(int)\n",
    "df['sessionQualityDim'] = df['sessionQualityDim'].astype(int)\n",
    "df['timeOnSite'] = df['timeOnSite'].astype(int)\n",
    "df['transactions'] = df['transactions'].astype(int)\n",
    "df['totalTransactionRevenue'] = df['totalTransactionRevenue'].astype(int)\n",
    "df['fullVisitorId'] = df['fullVisitorId'].astype(str)\n",
    "df['visitId'] = df['visitId'].astype(str)"
   ]
  },
  {
   "cell_type": "code",
   "execution_count": 34,
   "id": "f68877ff",
   "metadata": {},
   "outputs": [
    {
     "name": "stdout",
     "output_type": "stream",
     "text": [
      "<class 'pandas.core.frame.DataFrame'>\n",
      "RangeIndex: 82707 entries, 0 to 82706\n",
      "Data columns (total 23 columns):\n",
      " #   Column                   Non-Null Count  Dtype  \n",
      "---  ------                   --------------  -----  \n",
      " 0   fullVisitorId            82707 non-null  object \n",
      " 1   channelGrouping          82707 non-null  object \n",
      " 2   visitId                  82707 non-null  object \n",
      " 3   visitNumber              82707 non-null  int64  \n",
      " 4   visitStartTime           82707 non-null  float64\n",
      " 5   browser                  82707 non-null  object \n",
      " 6   operatingSystem          82707 non-null  object \n",
      " 7   isMobile                 82707 non-null  int64  \n",
      " 8   deviceCategory           82707 non-null  object \n",
      " 9   subContinent             82707 non-null  object \n",
      " 10  hits_y                   82707 non-null  int64  \n",
      " 11  pageviews                82707 non-null  int64  \n",
      " 12  bounces                  82707 non-null  int64  \n",
      " 13  newVisits                82707 non-null  int64  \n",
      " 14  sessionQualityDim        82707 non-null  int64  \n",
      " 15  timeOnSite               82707 non-null  int64  \n",
      " 16  transactions             82707 non-null  int64  \n",
      " 17  totalTransactionRevenue  82707 non-null  int64  \n",
      " 18  source                   82707 non-null  object \n",
      " 19  weekday                  82707 non-null  int64  \n",
      " 20  day                      82707 non-null  int64  \n",
      " 21  month                    82707 non-null  int64  \n",
      " 22  year                     82707 non-null  int64  \n",
      "dtypes: float64(1), int64(14), object(8)\n",
      "memory usage: 14.5+ MB\n"
     ]
    }
   ],
   "source": [
    "df.info()"
   ]
  },
  {
   "cell_type": "code",
   "execution_count": 35,
   "id": "615b3fbb",
   "metadata": {},
   "outputs": [],
   "source": [
    "df = df.drop(['visitId'], axis =1)"
   ]
  },
  {
   "cell_type": "code",
   "execution_count": 36,
   "id": "0eb9bf66",
   "metadata": {},
   "outputs": [],
   "source": [
    "df = pd.get_dummies(df, columns=['channelGrouping'], prefix=['channel'])\n",
    "df = pd.get_dummies(df, columns=['browser'], prefix=['browser'])\n",
    "df = pd.get_dummies(df, columns=['operatingSystem'], prefix=['operatingSystem'])\n",
    "df = pd.get_dummies(df, columns=['deviceCategory'], prefix=['deviceCategory'])\n",
    "df = pd.get_dummies(df, columns=['subContinent'], prefix=['subContinent'])\n",
    "df = pd.get_dummies(df, columns=['source'], prefix=['source'])"
   ]
  },
  {
   "cell_type": "code",
   "execution_count": 37,
   "id": "879dce40",
   "metadata": {},
   "outputs": [],
   "source": [
    "X = df.drop(columns='totalTransactionRevenue', axis = 1)\n",
    "y = df.totalTransactionRevenue"
   ]
  },
  {
   "cell_type": "code",
   "execution_count": 38,
   "id": "256f3fe7",
   "metadata": {},
   "outputs": [],
   "source": [
    "from sklearn.model_selection import train_test_split\n",
    "\n",
    "X_train, X_test, y_train, y_test = train_test_split(X, y, test_size=0.3, random_state=47)"
   ]
  },
  {
   "cell_type": "code",
   "execution_count": 39,
   "id": "a7d3f17e",
   "metadata": {},
   "outputs": [
    {
     "data": {
      "text/plain": [
       "((57894, 75), (24813, 75))"
      ]
     },
     "execution_count": 39,
     "metadata": {},
     "output_type": "execute_result"
    }
   ],
   "source": [
    "id_list = ['fullVisitorId']\n",
    "id_train = X_train[id_list]\n",
    "id_test = X_test[id_list]\n",
    "X_train = X_train.drop(columns=id_list)\n",
    "X_test = X_test.drop(columns=id_list)\n",
    "X_train.shape, X_test.shape"
   ]
  },
  {
   "cell_type": "code",
   "execution_count": 40,
   "id": "f7148845",
   "metadata": {},
   "outputs": [],
   "source": [
    "from sklearn.preprocessing import StandardScaler\n",
    "\n",
    "sc = StandardScaler()\n",
    "X_train = sc.fit_transform(X_train)\n",
    "X_test = sc.transform(X_test)"
   ]
  },
  {
   "cell_type": "code",
   "execution_count": 41,
   "id": "086a817d",
   "metadata": {},
   "outputs": [],
   "source": [
    "from sklearn.decomposition import PCA\n",
    "\n",
    "pca = PCA(n_components=0.95)\n",
    "X_train = pca.fit_transform(X_train)\n",
    "X_test = pca.transform(X_test)"
   ]
  },
  {
   "cell_type": "code",
   "execution_count": 48,
   "id": "2dec286d",
   "metadata": {},
   "outputs": [],
   "source": [
    "from sklearn.ensemble import RandomForestRegressor\n",
    "\n",
    "classifier = RandomForestRegressor(max_depth=2, random_state=0)\n",
    "classifier.fit(X_train, y_train)\n",
    "\n",
    "# Predicting the Test set results\n",
    "y_pred = classifier.predict(X_test)"
   ]
  },
  {
   "cell_type": "code",
   "execution_count": 49,
   "id": "658bcc7d",
   "metadata": {},
   "outputs": [
    {
     "name": "stdout",
     "output_type": "stream",
     "text": [
      "Train accuracy: 0.825\n",
      "Test accuracy: -0.130\n"
     ]
    }
   ],
   "source": [
    "print(\"Train accuracy: %0.3f\" % classifier.score(X_train, y_train))\n",
    "print(\"Test accuracy: %0.3f\" % classifier.score(X_test, y_test))"
   ]
  },
  {
   "cell_type": "code",
   "execution_count": 50,
   "id": "c4ab6444",
   "metadata": {},
   "outputs": [],
   "source": [
    "classifier = RandomForestRegressor(max_depth=3, random_state=0)\n",
    "classifier.fit(X_train, y_train)\n",
    "\n",
    "# Predicting the Test set results\n",
    "y_pred = classifier.predict(X_test)"
   ]
  },
  {
   "cell_type": "code",
   "execution_count": null,
   "id": "671979ca",
   "metadata": {},
   "outputs": [],
   "source": []
  }
 ],
 "metadata": {
  "kernelspec": {
   "display_name": "Python 3",
   "language": "python",
   "name": "python3"
  },
  "language_info": {
   "codemirror_mode": {
    "name": "ipython",
    "version": 3
   },
   "file_extension": ".py",
   "mimetype": "text/x-python",
   "name": "python",
   "nbconvert_exporter": "python",
   "pygments_lexer": "ipython3",
   "version": "3.8.8"
  }
 },
 "nbformat": 4,
 "nbformat_minor": 5
}
