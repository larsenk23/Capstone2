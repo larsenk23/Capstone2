{
 "cells": [
  {
   "cell_type": "code",
   "execution_count": 1,
   "id": "ea551722",
   "metadata": {},
   "outputs": [],
   "source": [
    "import pandas as pd\n",
    "import numpy as np\n",
    "import matplotlib.pyplot as plt\n",
    "import seaborn as sns\n",
    "from matplotlib.pyplot import figure\n",
    "import math\n",
    "\n",
    "from sklearn.model_selection import train_test_split\n",
    "from sklearn import preprocessing\n",
    "from sklearn.model_selection import RandomizedSearchCV \n",
    "from sklearn.linear_model import LinearRegression\n",
    "from sklearn.metrics import make_scorer\n",
    "from sklearn.preprocessing import StandardScaler, FunctionTransformer\n",
    "from sklearn.feature_selection import SelectFromModel\n",
    "from sklearn.ensemble import RandomForestRegressor, GradientBoostingRegressor\n",
    "from sklearn import model_selection\n",
    "from sklearn.metrics import mean_squared_error, mean_absolute_error, r2_score\n",
    "from sklearn import tree, metrics\n",
    "from sklearn.tree import DecisionTreeRegressor\n",
    "from sklearn.neural_network import MLPRegressor\n",
    "from sklearn.metrics import mean_absolute_percentage_error"
   ]
  },
  {
   "cell_type": "code",
   "execution_count": 2,
   "id": "acdc0880",
   "metadata": {},
   "outputs": [
    {
     "name": "stderr",
     "output_type": "stream",
     "text": [
      "/Users/kasey.larsen/opt/anaconda3/lib/python3.8/site-packages/IPython/core/interactiveshell.py:3165: DtypeWarning: Columns (1) have mixed types.Specify dtype option on import or set low_memory=False.\n",
      "  has_raised = await self.run_ast_nodes(code_ast.body, cell_name,\n"
     ]
    }
   ],
   "source": [
    "df = pd.read_csv('df_full.csv')"
   ]
  },
  {
   "cell_type": "code",
   "execution_count": 3,
   "id": "d24f179b",
   "metadata": {},
   "outputs": [
    {
     "name": "stdout",
     "output_type": "stream",
     "text": [
      "<class 'pandas.core.frame.DataFrame'>\n",
      "RangeIndex: 85417 entries, 0 to 85416\n",
      "Data columns (total 40 columns):\n",
      " #   Column                          Non-Null Count  Dtype  \n",
      "---  ------                          --------------  -----  \n",
      " 0   channelGrouping                 85417 non-null  object \n",
      " 1   fullVisitorId                   85417 non-null  object \n",
      " 2   visitNumber                     85417 non-null  int64  \n",
      " 3   browser                         85417 non-null  object \n",
      " 4   operatingSystem                 85417 non-null  object \n",
      " 5   isMobile                        85417 non-null  int64  \n",
      " 6   deviceCategory                  85417 non-null  object \n",
      " 7   continent                       85417 non-null  object \n",
      " 8   subContinent                    85417 non-null  object \n",
      " 9   country                         85417 non-null  object \n",
      " 10  region                          85417 non-null  object \n",
      " 11  metro                           85417 non-null  object \n",
      " 12  city                            85417 non-null  object \n",
      " 13  networkDomain                   85417 non-null  object \n",
      " 14  hits_y                          85417 non-null  int64  \n",
      " 15  pageviews                       85417 non-null  int64  \n",
      " 16  newVisits                       85417 non-null  int64  \n",
      " 17  sessionQualityDim               85417 non-null  int64  \n",
      " 18  timeOnSite                      85417 non-null  int64  \n",
      " 19  transactions                    85417 non-null  int64  \n",
      " 20  transactionRevenue              85417 non-null  int64  \n",
      " 21  totalTransactionRevenue         85417 non-null  int64  \n",
      " 22  campaign                        85417 non-null  object \n",
      " 23  source                          85417 non-null  object \n",
      " 24  medium                          85417 non-null  object \n",
      " 25  keyword                         85417 non-null  object \n",
      " 26  referralPath                    85417 non-null  object \n",
      " 27  isTrueDirect                    85417 non-null  int64  \n",
      " 28  adContent                       85417 non-null  object \n",
      " 29  adwordsClickInfo.page           85417 non-null  int64  \n",
      " 30  adwordsClickInfo.slot           85417 non-null  object \n",
      " 31  adwordsClickInfo.gclId          85417 non-null  object \n",
      " 32  adwordsClickInfo.adNetworkType  85417 non-null  object \n",
      " 33  weekday                         85417 non-null  int64  \n",
      " 34  day                             85417 non-null  int64  \n",
      " 35  month                           85417 non-null  int64  \n",
      " 36  year                            85417 non-null  int64  \n",
      " 37  total_transactions              85417 non-null  int64  \n",
      " 38  previousCustomer                85417 non-null  float64\n",
      " 39  transaction_Complete            85417 non-null  int64  \n",
      "dtypes: float64(1), int64(18), object(21)\n",
      "memory usage: 26.1+ MB\n"
     ]
    }
   ],
   "source": [
    "df.info()"
   ]
  },
  {
   "cell_type": "code",
   "execution_count": 4,
   "id": "b58c83c2",
   "metadata": {},
   "outputs": [],
   "source": [
    "df = df.drop(['fullVisitorId', 'transactions', 'total_transactions', 'transactionRevenue', 'totalTransactionRevenue'], axis=1)"
   ]
  },
  {
   "cell_type": "code",
   "execution_count": 5,
   "id": "387075e3",
   "metadata": {},
   "outputs": [],
   "source": [
    "categorical_feat = ['channelGrouping', 'browser_category', 'browser_operatingSystem', 'continent', 'subContinent',\n",
    "                    'source_country', 'region', 'metro', 'city', 'campaign', 'medium', 'keyword', \n",
    "                    'referralPath', 'adContent', 'adwordsClickInfo.slot', 'adwordsClickInfo.adNetworkType']"
   ]
  },
  {
   "cell_type": "code",
   "execution_count": 6,
   "id": "8da6480e",
   "metadata": {},
   "outputs": [],
   "source": [
    "df = pd.get_dummies(df)"
   ]
  },
  {
   "cell_type": "markdown",
   "id": "0f3fa1ab",
   "metadata": {},
   "source": [
    "## Label Encoder"
   ]
  },
  {
   "cell_type": "code",
   "execution_count": null,
   "id": "e1c01df3",
   "metadata": {},
   "outputs": [],
   "source": [
    "for feature in categorical_feat:\n",
    "    label_encoder = preprocessing.LabelEncoder()\n",
    "    label_encoder.fit(list(df[feature].values.astype('str')))\n",
    "    df[feature] = label_encoder.transform(list(df[feature].values.astype('str'))) \n",
    "    print(\"for this feature : {0} label-encoding was done succesfully\".format(feature))"
   ]
  },
  {
   "cell_type": "code",
   "execution_count": 8,
   "id": "f53c3ada",
   "metadata": {},
   "outputs": [],
   "source": [
    "X = df.drop(columns='transaction_Complete', axis = 1)\n",
    "y = df['transaction_Complete']"
   ]
  },
  {
   "cell_type": "code",
   "execution_count": null,
   "id": "6e17f295",
   "metadata": {},
   "outputs": [],
   "source": [
    "X_train, X_test, y_train, y_test = train_test_split(X, y, test_size=0.3, random_state=47)"
   ]
  },
  {
   "cell_type": "markdown",
   "id": "dbf46e7b",
   "metadata": {},
   "source": [
    "## Standardize"
   ]
  },
  {
   "cell_type": "code",
   "execution_count": null,
   "id": "134f6c5e",
   "metadata": {},
   "outputs": [],
   "source": [
    "#Call the StandardScaler`s fit method\n",
    "scaler = StandardScaler()\n",
    "scaler.fit(X_train)\n",
    "X_train = scaler.transform(X_train)\n",
    "X_test = scaler.transform(X_test)"
   ]
  },
  {
   "cell_type": "markdown",
   "id": "c6225823",
   "metadata": {},
   "source": [
    "## Linear Regression"
   ]
  },
  {
   "cell_type": "code",
   "execution_count": null,
   "id": "b230f6b1",
   "metadata": {},
   "outputs": [],
   "source": [
    "# feature selection\n",
    "def select_features(X_train, y_train, X_test):\n",
    "    fs = SelectFromModel(RandomForestRegressor(n_estimators=1000), max_features=5)\n",
    "    fs.fit(X_train, y_train)\n",
    "    X_train_fs = fs.transform(X_train)\n",
    "    X_test_fs = fs.transform(X_test)\n",
    "    return X_train_fs, X_test_fs, fs\n",
    "\n",
    "# feature selection\n",
    "X_train_fs, X_test_fs, fs = select_features(X_train, y_train, X_test)"
   ]
  },
  {
   "cell_type": "code",
   "execution_count": null,
   "id": "5dfdb7dd",
   "metadata": {},
   "outputs": [],
   "source": [
    "model = LinearRegression()\n",
    "model.fit(X_train_fs, y_train)\n",
    "y_pred = model.predict(X_test_fs)"
   ]
  },
  {
   "cell_type": "code",
   "execution_count": null,
   "id": "3afaedb8",
   "metadata": {},
   "outputs": [],
   "source": [
    "mse = mean_squared_error(y_test, y_pred)\n",
    "mae = mean_absolute_error(y_test, y_pred)\n",
    "r2 = r2_score(y_test, y_pred)\n",
    "print('MSE: ', mse)\n",
    "print('MAE: ', mae)\n",
    "print('r2 Score: ', r2)"
   ]
  },
  {
   "cell_type": "code",
   "execution_count": null,
   "id": "fe42cc21",
   "metadata": {},
   "outputs": [],
   "source": [
    "fig, ax = plt.subplots()\n",
    "ax.scatter(y_test, y_pred, edgecolors=(0, 0, 0))\n",
    "ax.plot([y_test.min(), y_test.max()], [y_test.min(), y_test.max()], 'k--', lw=4)\n",
    "ax.set_xlabel('Measured')\n",
    "ax.set_ylabel('Predicted')\n",
    "plt.show()"
   ]
  },
  {
   "cell_type": "markdown",
   "id": "bd25e3f0",
   "metadata": {},
   "source": [
    "## Decision Tree"
   ]
  },
  {
   "cell_type": "code",
   "execution_count": null,
   "id": "410767f9",
   "metadata": {},
   "outputs": [],
   "source": [
    "model = DecisionTreeRegressor()\n",
    "\n",
    "parameters = {'max_features': ['auto', 'sqrt', 'log2'],\n",
    "               'max_depth': [3,4,5,10,15,20,25,50,75,100,125,150,200, None],\n",
    "               'min_samples_split': [3,10,50,100,150,200,250,300,350,400,450,500,550,600,650,700],\n",
    "               'min_samples_leaf': [1,2,3,4,5,10,20,25, 30, 50, 75, 100],\n",
    "               'criterion': ['mse', 'friedman_mse', 'mae', 'poisson'],\n",
    "               'splitter': ['best', 'random']}"
   ]
  },
  {
   "cell_type": "code",
   "execution_count": null,
   "id": "fe676072",
   "metadata": {
    "scrolled": true
   },
   "outputs": [],
   "source": [
    "dt_random = RandomizedSearchCV(estimator = model, param_distributions = parameters, n_iter = 10, cv = 5, \n",
    "                               verbose=False, random_state=42, n_jobs = -1)\n",
    "dt_random.fit(X, y)\n",
    "\n",
    "print(\" Results from Random Search \" )\n",
    "print(\"\\n The best estimator across ALL searched params:\\n\", dt_random.best_estimator_)"
   ]
  },
  {
   "cell_type": "code",
   "execution_count": null,
   "id": "ebdf4054",
   "metadata": {},
   "outputs": [],
   "source": [
    "y_pred = dt_random.predict(X)"
   ]
  },
  {
   "cell_type": "code",
   "execution_count": null,
   "id": "3ec32918",
   "metadata": {},
   "outputs": [],
   "source": [
    "mse = mean_squared_error(y, y_pred)\n",
    "mae = mean_absolute_error(y, y_pred)\n",
    "r2 = r2_score(y, y_pred)\n",
    "print('MSE: ', mse)\n",
    "print('MAE: ', mae)\n",
    "print('r2 Score: ', r2)"
   ]
  },
  {
   "cell_type": "code",
   "execution_count": null,
   "id": "31815297",
   "metadata": {},
   "outputs": [],
   "source": [
    "fig, ax = plt.subplots()\n",
    "ax.scatter(y, y_pred, edgecolors=(0, 0, 0))\n",
    "ax.plot([y.min(), y.max()], [y.min(), y.max()], 'k--', lw=4)\n",
    "ax.set_xlabel('Measured')\n",
    "ax.set_ylabel('Predicted')\n",
    "plt.show()"
   ]
  },
  {
   "cell_type": "markdown",
   "id": "b878ebf8",
   "metadata": {},
   "source": [
    "## Random Forest Regession"
   ]
  },
  {
   "cell_type": "code",
   "execution_count": null,
   "id": "a6e81f86",
   "metadata": {},
   "outputs": [],
   "source": [
    "model = RandomForestRegressor()\n",
    "\n",
    "parameters = {'n_estimators': [5,6,7,8,9,10,15,20,25,30,35,40,45,50,75,100,200],\n",
    "               'max_features': ['auto', 'sqrt', 'log2'],\n",
    "               'max_depth': [3,4,5,10,15,20,25,50,75,100,125,150,200, None],\n",
    "               'min_samples_split': [3,10,50,100,150,200,250,300,350,400,450,500,550,600,650,700],\n",
    "               'min_samples_leaf': [1,2,3,4,5,10,20,25, 30, 50, 75, 100],\n",
    "               'criterion': ['mse', 'mae']}\n"
   ]
  },
  {
   "cell_type": "code",
   "execution_count": null,
   "id": "0dccf686",
   "metadata": {},
   "outputs": [],
   "source": [
    "rf_random = RandomizedSearchCV(estimator = model, param_distributions = parameters, n_iter = 10, cv = 5, \n",
    "                               verbose=False, random_state=42, n_jobs = -1)\n",
    "rf_random.fit(X_train, y_train)\n",
    "\n",
    "print(\" Results from Random Search \" )\n",
    "print(\"\\n The best estimator across ALL searched params:\\n\", rf_random.best_estimator_)"
   ]
  },
  {
   "cell_type": "code",
   "execution_count": null,
   "id": "7a86bd44",
   "metadata": {},
   "outputs": [],
   "source": [
    "y_pred = rf_random.predict(X_test)"
   ]
  },
  {
   "cell_type": "code",
   "execution_count": null,
   "id": "d777557e",
   "metadata": {},
   "outputs": [],
   "source": [
    "mse = mean_squared_error(y_test, y_pred)\n",
    "mae = mean_absolute_error(y_test, y_pred)\n",
    "r2 = r2_score(y_test, y_pred)\n",
    "print('MSE: ', mse)\n",
    "print('MAE: ', mae)\n",
    "print('r2 Score: ', r2)"
   ]
  },
  {
   "cell_type": "code",
   "execution_count": null,
   "id": "46e036ca",
   "metadata": {
    "scrolled": true
   },
   "outputs": [],
   "source": [
    "fig, ax = plt.subplots()\n",
    "ax.scatter(y_test, y_pred, edgecolors=(0, 0, 0))\n",
    "ax.plot([y_test.min(), y_test.max()], [y_test.min(), y_test.max()], 'k--', lw=4)\n",
    "ax.set_xlabel('Measured')\n",
    "ax.set_ylabel('Predicted')\n",
    "plt.show()"
   ]
  },
  {
   "cell_type": "markdown",
   "id": "bde718d9",
   "metadata": {},
   "source": [
    "## Gradient Boosting Regession"
   ]
  },
  {
   "cell_type": "code",
   "execution_count": null,
   "id": "f181e7a3",
   "metadata": {},
   "outputs": [],
   "source": [
    "model = GradientBoostingRegressor()\n",
    "\n",
    "parameters = {'loss': ['ls', 'lad', 'huber', 'quantile'],\n",
    "              'learning_rate': [0.001,0.01,0.05,0.1,0.2,0.3],\n",
    "               'n_estimators': [5,6,7,8,9,10,15,20,25,30,35,40,45,50,75,100,200],\n",
    "               'max_features': ['auto', 'sqrt', 'log2'],\n",
    "               'max_depth': [3,4,5,10,15,20,25,50,75,100,125,150,200, None],\n",
    "               'min_samples_split': [3,10,50,100,150,200,250,300,350,400,450,500,550,600,650,700],\n",
    "               'min_samples_leaf': [1,2,3,4,5,10,20,25, 30, 50, 75, 100],\n",
    "               'criterion': ['friedman_mse', 'mse', 'mae']}"
   ]
  },
  {
   "cell_type": "code",
   "execution_count": null,
   "id": "f01490c6",
   "metadata": {},
   "outputs": [],
   "source": [
    "gb_random = RandomizedSearchCV(estimator = model, param_distributions = parameters, n_iter = 10, cv = 5, \n",
    "                               random_state=42, n_jobs = -1)\n",
    "gb_random.fit(X_train, y_train)\n",
    "\n",
    "print(\" Results from Random Search \" )\n",
    "print(\"\\n The best estimator across ALL searched params:\\n\", gb_random.best_estimator_)"
   ]
  },
  {
   "cell_type": "code",
   "execution_count": null,
   "id": "1c1c4532",
   "metadata": {},
   "outputs": [],
   "source": [
    "y_pred = gb_random.predict(X_test)"
   ]
  },
  {
   "cell_type": "code",
   "execution_count": null,
   "id": "90911fa3",
   "metadata": {},
   "outputs": [],
   "source": [
    "mse = mean_squared_error(y_test, y_pred)\n",
    "mae = mean_absolute_error(y_test, y_pred)\n",
    "r2 = r2_score(y_test, y_pred)\n",
    "print('MSE: ', mse)\n",
    "print('MAE: ', mae)\n",
    "print('r2 Score: ', r2)"
   ]
  },
  {
   "cell_type": "code",
   "execution_count": null,
   "id": "8778e8b2",
   "metadata": {},
   "outputs": [],
   "source": [
    "fig, ax = plt.subplots()\n",
    "ax.scatter(y_test, y_pred, edgecolors=(0, 0, 0))\n",
    "ax.plot([y_test.min(), y_test.max()], [y_test.min(), y_test.max()], 'k--', lw=4)\n",
    "ax.set_xlabel('Measured')\n",
    "ax.set_ylabel('Predicted')\n",
    "plt.show()"
   ]
  },
  {
   "cell_type": "markdown",
   "id": "f4e3498c",
   "metadata": {},
   "source": [
    "## MLPRegressor"
   ]
  },
  {
   "cell_type": "code",
   "execution_count": null,
   "id": "f5724e13",
   "metadata": {},
   "outputs": [],
   "source": [
    "model = MLPRegressor(max_iter=100)\n",
    "\n",
    "parameters = {'hidden_layer_sizes': [(50,50,50), (50,100,50), (100,)],\n",
    "              'alpha': [0.001,0.01,0.05,0.1,0.2,0.3],\n",
    "              'activation' : ['identity', 'logistic', 'tanh', 'relu'],\n",
    "              'solver' : ['lbfgs', 'sgd', 'adam'],\n",
    "              'learning_rate': ['constant', 'invscaling', 'adaptive']}"
   ]
  },
  {
   "cell_type": "code",
   "execution_count": null,
   "id": "b79055f9",
   "metadata": {},
   "outputs": [],
   "source": [
    "mlp_random = RandomizedSearchCV(estimator = model, param_distributions = parameters, cv = 5, \n",
    "                               random_state=42, n_jobs = -1)\n",
    "mlp_random.fit(X_train, y_train)\n",
    "\n",
    "print(\" Results from Random Search \" )\n",
    "print(\"\\n The best estimator across ALL searched params:\\n\", mlp_random.best_estimator_)"
   ]
  },
  {
   "cell_type": "code",
   "execution_count": null,
   "id": "14fa4bfd",
   "metadata": {},
   "outputs": [],
   "source": [
    "y_pred = mlp_random.predict(X_test)"
   ]
  },
  {
   "cell_type": "code",
   "execution_count": null,
   "id": "a4f9346c",
   "metadata": {},
   "outputs": [],
   "source": [
    "mse = mean_squared_error(y_test, y_pred)\n",
    "mae = mean_absolute_error(y_test, y_pred)\n",
    "r2 = r2_score(y_test, y_pred)\n",
    "print('MSE: ', mse)\n",
    "print('MAE: ', mae)\n",
    "print('r2 Score: ', r2)"
   ]
  },
  {
   "cell_type": "code",
   "execution_count": null,
   "id": "42df859a",
   "metadata": {},
   "outputs": [],
   "source": [
    "fig, ax = plt.subplots()\n",
    "ax.scatter(y_test, y_pred, edgecolors=(0, 0, 0))\n",
    "ax.plot([y_test.min(), y_test.max()], [y_test.min(), y_test.max()], 'k--', lw=4)\n",
    "ax.set_xlabel('Measured')\n",
    "ax.set_ylabel('Predicted')\n",
    "plt.show()"
   ]
  },
  {
   "cell_type": "markdown",
   "id": "c43d8005",
   "metadata": {},
   "source": [
    "# PCA"
   ]
  },
  {
   "cell_type": "code",
   "execution_count": null,
   "id": "8abbc1c8",
   "metadata": {},
   "outputs": [],
   "source": [
    "from sklearn.decomposition import PCA\n",
    "\n",
    "pca = PCA(n_components=0.95)\n",
    "X_train = pca.fit_transform(X_train)\n",
    "X_test = pca.transform(X_test)"
   ]
  },
  {
   "cell_type": "markdown",
   "id": "9fb07040",
   "metadata": {},
   "source": [
    "## Decision Tree Regressor With PCA"
   ]
  },
  {
   "cell_type": "code",
   "execution_count": null,
   "id": "b1ca0a62",
   "metadata": {},
   "outputs": [],
   "source": [
    "model = DecisionTreeRegressor()\n",
    "\n",
    "parameters = {'max_features': ['auto', 'sqrt', 'log2'],\n",
    "               'max_depth': [3,4,5,10,15,20,25,50,75,100,125,150,200, None],\n",
    "               'min_samples_split': [3,10,50,100,150,200,250,300,350,400,450,500,550,600,650,700],\n",
    "               'min_samples_leaf': [1,2,3,4,5,10,20,25, 30, 50, 75, 100],\n",
    "               'criterion': ['mse', 'friedman_mse', 'mae', 'poisson'],\n",
    "               'splitter': ['best', 'random']}"
   ]
  },
  {
   "cell_type": "code",
   "execution_count": null,
   "id": "f57f98e0",
   "metadata": {},
   "outputs": [],
   "source": [
    "dt_random = RandomizedSearchCV(estimator = model, param_distributions = parameters, n_iter = 10, cv = 5, \n",
    "                               verbose=2, random_state=42, n_jobs = -1)\n",
    "dt_random.fit(X_train, y_train)\n",
    "\n",
    "print(\" Results from Random Search \" )\n",
    "print(\"\\n The best estimator across ALL searched params:\\n\", dt_random.best_estimator_)"
   ]
  },
  {
   "cell_type": "code",
   "execution_count": null,
   "id": "722753bf",
   "metadata": {},
   "outputs": [],
   "source": [
    "y_pred = dt_random.predict(X_test)"
   ]
  },
  {
   "cell_type": "code",
   "execution_count": null,
   "id": "2f2b834c",
   "metadata": {},
   "outputs": [],
   "source": [
    "mse = mean_squared_error(y_test, y_pred)\n",
    "mae = mean_absolute_error(y_test, y_pred)\n",
    "r2 = r2_score(y_test, y_pred)\n",
    "print('MSE: ', mse)\n",
    "print('MAE: ', mae)\n",
    "print('r2 Score: ', r2)"
   ]
  },
  {
   "cell_type": "code",
   "execution_count": null,
   "id": "4df52857",
   "metadata": {},
   "outputs": [],
   "source": [
    "fig, ax = plt.subplots()\n",
    "ax.scatter(y_test, y_pred, edgecolors=(0, 0, 0))\n",
    "ax.plot([y_test.min(), y_test.max()], [y_test.min(), y_test.max()], 'k--', lw=4)\n",
    "ax.set_xlabel('Measured')\n",
    "ax.set_ylabel('Predicted')\n",
    "plt.show()"
   ]
  },
  {
   "cell_type": "markdown",
   "id": "bea72baa",
   "metadata": {},
   "source": [
    "## Random Forest Regession With PCA"
   ]
  },
  {
   "cell_type": "code",
   "execution_count": null,
   "id": "8ecadde7",
   "metadata": {},
   "outputs": [],
   "source": [
    "model = RandomForestRegressor()\n",
    "\n",
    "parameters = {'n_estimators': [5,6,7,8,9,10,15,20,25,30,35,40,45,50,75,100,200],\n",
    "               'max_features': ['auto', 'sqrt', 'log2'],\n",
    "               'max_depth': [3,4,5,10,15,20,25,50,75,100,125,150,200, None],\n",
    "               'min_samples_split': [3,10,50,100,150,200,250,300,350,400,450,500,550,600,650,700],\n",
    "               'min_samples_leaf': [1,2,3,4,5,10,20,25, 30, 50, 75, 100],\n",
    "               'criterion': ['mse', 'mae']}\n"
   ]
  },
  {
   "cell_type": "code",
   "execution_count": null,
   "id": "adbb7eaf",
   "metadata": {},
   "outputs": [],
   "source": [
    "rf_random = RandomizedSearchCV(estimator = model, param_distributions = parameters, n_iter = 10, cv = 5, \n",
    "                               verbose=2, random_state=42, n_jobs = -1)\n",
    "rf_random.fit(X_train, y_train)\n",
    "\n",
    "print(\" Results from Random Search \" )\n",
    "print(\"\\n The best estimator across ALL searched params:\\n\", rf_random.best_estimator_)"
   ]
  },
  {
   "cell_type": "code",
   "execution_count": null,
   "id": "7334320b",
   "metadata": {},
   "outputs": [],
   "source": [
    "y_pred = rf_random.predict(X_test)"
   ]
  },
  {
   "cell_type": "code",
   "execution_count": null,
   "id": "79f50ace",
   "metadata": {},
   "outputs": [],
   "source": [
    "mse = mean_squared_error(y_test, y_pred)\n",
    "mae = mean_absolute_error(y_test, y_pred)\n",
    "r2 = r2_score(y_test, y_pred)\n",
    "print('MSE: ', mse)\n",
    "print('MAE: ', mae)\n",
    "print('r2 Score: ', r2)"
   ]
  },
  {
   "cell_type": "code",
   "execution_count": null,
   "id": "5e1e9c2a",
   "metadata": {},
   "outputs": [],
   "source": [
    "fig, ax = plt.subplots()\n",
    "ax.scatter(y_test, y_pred, edgecolors=(0, 0, 0))\n",
    "ax.plot([y_test.min(), y_test.max()], [y_test.min(), y_test.max()], 'k--', lw=4)\n",
    "ax.set_xlabel('Measured')\n",
    "ax.set_ylabel('Predicted')\n",
    "plt.show()"
   ]
  },
  {
   "cell_type": "markdown",
   "id": "b6e76431",
   "metadata": {},
   "source": [
    "## Gradient Boosting Regession With PCA"
   ]
  },
  {
   "cell_type": "code",
   "execution_count": null,
   "id": "ccf370dd",
   "metadata": {},
   "outputs": [],
   "source": [
    "model = GradientBoostingRegressor()\n",
    "\n",
    "parameters = {'loss': ['ls', 'lad', 'huber', 'quantile'],\n",
    "              'learning_rate': [0.001,0.01,0.05,0.1,0.2,0.3],\n",
    "               'n_estimators': [5,6,7,8,9,10,15,20,25,30,35,40,45,50,75,100,200],\n",
    "               'max_features': ['auto', 'sqrt', 'log2'],\n",
    "               'max_depth': [3,4,5,10,15,20,25,50,75,100,125,150,200, None],\n",
    "               'min_samples_split': [3,10,50,100,150,200,250,300,350,400,450,500,550,600,650,700],\n",
    "               'min_samples_leaf': [1,2,3,4,5,10,20,25, 30, 50, 75, 100],\n",
    "               'criterion': ['friedman_mse', 'mse', 'mae']}"
   ]
  },
  {
   "cell_type": "code",
   "execution_count": null,
   "id": "74434832",
   "metadata": {},
   "outputs": [],
   "source": [
    "gb_random = RandomizedSearchCV(estimator = model, param_distributions = parameters, n_iter = 10, cv = 5, \n",
    "                               random_state=42, n_jobs = -1)\n",
    "gb_random.fit(X_train, y_train)\n",
    "\n",
    "print(\" Results from Random Search \" )\n",
    "print(\"\\n The best estimator across ALL searched params:\\n\", gb_random.best_estimator_)"
   ]
  },
  {
   "cell_type": "code",
   "execution_count": null,
   "id": "69db34ad",
   "metadata": {},
   "outputs": [],
   "source": [
    "y_pred = gb_random.predict(X_test)"
   ]
  },
  {
   "cell_type": "code",
   "execution_count": null,
   "id": "5dfea63d",
   "metadata": {},
   "outputs": [],
   "source": [
    "mse = mean_squared_error(y_test, y_pred)\n",
    "mae = mean_absolute_error(y_test, y_pred)\n",
    "r2 = r2_score(y_test, y_pred)\n",
    "print('MSE: ', mse)\n",
    "print('MAE: ', mae)\n",
    "print('r2 Score: ', r2)"
   ]
  },
  {
   "cell_type": "code",
   "execution_count": null,
   "id": "a31f6cf7",
   "metadata": {},
   "outputs": [],
   "source": [
    "fig, ax = plt.subplots()\n",
    "ax.scatter(y_test, y_pred, edgecolors=(0, 0, 0))\n",
    "ax.plot([y_test.min(), y_test.max()], [y_test.min(), y_test.max()], 'k--', lw=4)\n",
    "ax.set_xlabel('Measured')\n",
    "ax.set_ylabel('Predicted')\n",
    "plt.show()"
   ]
  },
  {
   "cell_type": "markdown",
   "id": "1d6c2218",
   "metadata": {},
   "source": [
    "## MLPRegressor With PCA"
   ]
  },
  {
   "cell_type": "code",
   "execution_count": null,
   "id": "ec22818a",
   "metadata": {},
   "outputs": [],
   "source": [
    "model = MLPRegressor(max_iter=100)\n",
    "\n",
    "parameters = {'hidden_layer_sizes': [(50,50,50), (50,100,50), (100,)],\n",
    "              'alpha': [0.001,0.01,0.05,0.1,0.2,0.3],\n",
    "              'activation' : ['identity', 'logistic', 'tanh', 'relu'],\n",
    "              'solver' : ['lbfgs', 'sgd', 'adam'],\n",
    "              'learning_rate': ['constant', 'invscaling', 'adaptive']}"
   ]
  },
  {
   "cell_type": "code",
   "execution_count": null,
   "id": "50feaa63",
   "metadata": {},
   "outputs": [],
   "source": [
    "mlp_random = RandomizedSearchCV(estimator = model, param_distributions = parameters, cv = 5, \n",
    "                               random_state=42, n_jobs = -1)\n",
    "mlp_random.fit(X_train, y_train)\n",
    "\n",
    "print(\" Results from Random Search \" )\n",
    "print(\"\\n The best estimator across ALL searched params:\\n\", mlp_random.best_estimator_)"
   ]
  },
  {
   "cell_type": "code",
   "execution_count": null,
   "id": "74d4aac8",
   "metadata": {},
   "outputs": [],
   "source": [
    "y_pred = mlp_random.predict(X_test)"
   ]
  },
  {
   "cell_type": "code",
   "execution_count": null,
   "id": "e4b7614b",
   "metadata": {},
   "outputs": [],
   "source": [
    "mse = mean_squared_error(y_test, y_pred)\n",
    "mae = mean_absolute_error(y_test, y_pred)\n",
    "r2 = r2_score(y_test, y_pred)\n",
    "print('MSE: ', mse)\n",
    "print('MAE: ', mae)\n",
    "print('r2 Score: ', r2)"
   ]
  },
  {
   "cell_type": "code",
   "execution_count": null,
   "id": "2aa481b6",
   "metadata": {},
   "outputs": [],
   "source": [
    "fig, ax = plt.subplots()\n",
    "ax.scatter(y_test, y_pred, edgecolors=(0, 0, 0))\n",
    "ax.plot([y_test.min(), y_test.max()], [y_test.min(), y_test.max()], 'k--', lw=4)\n",
    "ax.set_xlabel('Measured')\n",
    "ax.set_ylabel('Predicted')\n",
    "plt.show()"
   ]
  },
  {
   "cell_type": "markdown",
   "id": "08970261",
   "metadata": {},
   "source": [
    "## Best Model Selection"
   ]
  },
  {
   "cell_type": "markdown",
   "id": "1367c895",
   "metadata": {},
   "source": []
  },
  {
   "cell_type": "code",
   "execution_count": null,
   "id": "f559cde4",
   "metadata": {},
   "outputs": [],
   "source": []
  },
  {
   "cell_type": "code",
   "execution_count": null,
   "id": "30e5ca45",
   "metadata": {},
   "outputs": [],
   "source": []
  },
  {
   "cell_type": "code",
   "execution_count": null,
   "id": "cffa2a38",
   "metadata": {},
   "outputs": [],
   "source": []
  }
 ],
 "metadata": {
  "kernelspec": {
   "display_name": "Python 3",
   "language": "python",
   "name": "python3"
  },
  "language_info": {
   "codemirror_mode": {
    "name": "ipython",
    "version": 3
   },
   "file_extension": ".py",
   "mimetype": "text/x-python",
   "name": "python",
   "nbconvert_exporter": "python",
   "pygments_lexer": "ipython3",
   "version": "3.8.8"
  }
 },
 "nbformat": 4,
 "nbformat_minor": 5
}
