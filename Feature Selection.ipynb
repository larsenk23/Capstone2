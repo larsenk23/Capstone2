{
 "cells": [
  {
   "cell_type": "code",
   "execution_count": 55,
   "id": "c9426171",
   "metadata": {},
   "outputs": [],
   "source": [
    "import pandas as pd\n",
    "import numpy as np\n",
    "import os\n",
    "import pickle\n",
    "import matplotlib.pyplot as plt\n",
    "import seaborn as sns\n",
    "from sklearn.datasets import fetch_openml\n",
    "from sklearn.ensemble import RandomForestClassifier\n",
    "from sklearn.impute import SimpleImputer\n",
    "from sklearn.inspection import permutation_importance\n",
    "from sklearn.compose import ColumnTransformer\n",
    "from sklearn.model_selection import train_test_split\n",
    "from sklearn.pipeline import Pipeline\n",
    "from sklearn.preprocessing import OneHotEncoder"
   ]
  },
  {
   "cell_type": "code",
   "execution_count": 56,
   "id": "d802a9d0",
   "metadata": {},
   "outputs": [
    {
     "name": "stderr",
     "output_type": "stream",
     "text": [
      "/Users/kasey.larsen/opt/anaconda3/lib/python3.8/site-packages/IPython/core/interactiveshell.py:3165: DtypeWarning: Columns (0) have mixed types.Specify dtype option on import or set low_memory=False.\n",
      "  has_raised = await self.run_ast_nodes(code_ast.body, cell_name,\n"
     ]
    }
   ],
   "source": [
    "df = pd.read_csv('df_clean.csv')"
   ]
  },
  {
   "cell_type": "code",
   "execution_count": 57,
   "id": "d10ff6f2",
   "metadata": {},
   "outputs": [],
   "source": [
    "df['pageviews'] = df['pageviews'].astype(int)\n",
    "df['newVisits'] = df['newVisits'].astype(int)\n",
    "df['bounces'] = df['bounces'].astype(int)\n",
    "df['hits_y'] = df['hits_y'].astype(int)\n",
    "df['sessionQualityDim'] = df['sessionQualityDim'].astype(int)\n",
    "df['timeOnSite'] = df['timeOnSite'].astype(int)\n",
    "df['transactions'] = df['transactions'].astype(int)\n",
    "df['totalTransactionRevenue'] = df['totalTransactionRevenue'].astype(int)\n",
    "df['fullVisitorId'] = df['fullVisitorId'].astype(str)\n",
    "df['visitId'] = df['visitId'].astype(str)"
   ]
  },
  {
   "cell_type": "code",
   "execution_count": 58,
   "id": "27e48200",
   "metadata": {},
   "outputs": [
    {
     "name": "stdout",
     "output_type": "stream",
     "text": [
      "<class 'pandas.core.frame.DataFrame'>\n",
      "RangeIndex: 82707 entries, 0 to 82706\n",
      "Data columns (total 27 columns):\n",
      " #   Column                   Non-Null Count  Dtype  \n",
      "---  ------                   --------------  -----  \n",
      " 0   fullVisitorId            82707 non-null  object \n",
      " 1   channelGrouping          82707 non-null  object \n",
      " 2   date                     82707 non-null  object \n",
      " 3   visitId                  82707 non-null  object \n",
      " 4   visitNumber              82707 non-null  int64  \n",
      " 5   visitStartTime           82707 non-null  float64\n",
      " 6   browser                  82706 non-null  object \n",
      " 7   operatingSystem          82044 non-null  object \n",
      " 8   isMobile                 82707 non-null  bool   \n",
      " 9   deviceCategory           82707 non-null  object \n",
      " 10  continent                82594 non-null  object \n",
      " 11  subContinent             82594 non-null  object \n",
      " 12  country                  82707 non-null  object \n",
      " 13  hits_y                   82707 non-null  int64  \n",
      " 14  pageviews                82707 non-null  int64  \n",
      " 15  bounces                  82707 non-null  int64  \n",
      " 16  newVisits                82707 non-null  int64  \n",
      " 17  sessionQualityDim        82707 non-null  int64  \n",
      " 18  timeOnSite               82707 non-null  int64  \n",
      " 19  transactions             82707 non-null  int64  \n",
      " 20  transactionRevenue       82707 non-null  int64  \n",
      " 21  totalTransactionRevenue  82707 non-null  int64  \n",
      " 22  source                   82705 non-null  object \n",
      " 23  weekday                  82707 non-null  int64  \n",
      " 24  day                      82707 non-null  int64  \n",
      " 25  month                    82707 non-null  int64  \n",
      " 26  year                     82707 non-null  int64  \n",
      "dtypes: bool(1), float64(1), int64(14), object(11)\n",
      "memory usage: 16.5+ MB\n"
     ]
    }
   ],
   "source": [
    "df.info()"
   ]
  },
  {
   "cell_type": "code",
   "execution_count": 59,
   "id": "89803846",
   "metadata": {},
   "outputs": [],
   "source": [
    "df['isMobile'] =  df['isMobile'].replace(True, 1)\n",
    "df['isMobile'] =  df['isMobile'].replace(False, 0)"
   ]
  },
  {
   "cell_type": "code",
   "execution_count": 40,
   "id": "9510aaea",
   "metadata": {},
   "outputs": [],
   "source": [
    "df = df.drop(['visitId'], axis =1)\n",
    "df = df.drop(['date'], axis =1)\n",
    "df = df.drop(['transactionRevenue'], axis =1)\n",
    "df = df.drop(['continent'], axis =1)\n",
    "df = df.drop(['country'], axis =1)"
   ]
  },
  {
   "cell_type": "code",
   "execution_count": 42,
   "id": "7b726185",
   "metadata": {},
   "outputs": [],
   "source": [
    "X = df.drop(columns='totalTransactionRevenue', axis = 1)\n",
    "y = df.totalTransactionRevenue"
   ]
  },
  {
   "cell_type": "code",
   "execution_count": 45,
   "id": "ce478ac6",
   "metadata": {},
   "outputs": [],
   "source": [
    "categorical_columns = list()\n",
    "for i in X.columns:\n",
    "    if X[i].dtype=='object':\n",
    "        categorical_columns.append(i)"
   ]
  },
  {
   "cell_type": "code",
   "execution_count": 46,
   "id": "d1d59b83",
   "metadata": {},
   "outputs": [],
   "source": [
    "numerical_columns = list()\n",
    "for i in X.columns:\n",
    "    if (X[i].dtype=='int64' or X[i].dtype=='float64'):\n",
    "        numerical_columns.append(i)"
   ]
  },
  {
   "cell_type": "code",
   "execution_count": 47,
   "id": "0cbcb8f1",
   "metadata": {},
   "outputs": [],
   "source": [
    "X = X[categorical_columns + numerical_columns]"
   ]
  },
  {
   "cell_type": "code",
   "execution_count": 48,
   "id": "04ff4595",
   "metadata": {},
   "outputs": [],
   "source": [
    "X_train, X_test, y_train, y_test = train_test_split(X, y, test_size=0.3, random_state=47)"
   ]
  },
  {
   "cell_type": "code",
   "execution_count": 49,
   "id": "5784d4ff",
   "metadata": {},
   "outputs": [],
   "source": [
    "categorical_encoder = OneHotEncoder(handle_unknown='ignore')\n",
    "numerical_pipe = Pipeline([('imputer', SimpleImputer(strategy='mean'))])"
   ]
  },
  {
   "cell_type": "code",
   "execution_count": 50,
   "id": "5589667f",
   "metadata": {},
   "outputs": [],
   "source": [
    "preprocessing = ColumnTransformer(\n",
    "    [('cat', categorical_encoder, categorical_columns),\n",
    "     ('num', numerical_pipe, numerical_columns)])"
   ]
  },
  {
   "cell_type": "code",
   "execution_count": 51,
   "id": "e16883a6",
   "metadata": {},
   "outputs": [],
   "source": [
    "rf = Pipeline([\n",
    "    ('preprocess', preprocessing),\n",
    "    ('classifier', RandomForestClassifier(random_state=42))\n",
    "])"
   ]
  },
  {
   "cell_type": "code",
   "execution_count": 52,
   "id": "146de6d8",
   "metadata": {},
   "outputs": [
    {
     "data": {
      "text/plain": [
       "Pipeline(steps=[('preprocess',\n",
       "                 ColumnTransformer(transformers=[('cat',\n",
       "                                                  OneHotEncoder(handle_unknown='ignore'),\n",
       "                                                  ['fullVisitorId',\n",
       "                                                   'channelGrouping', 'browser',\n",
       "                                                   'operatingSystem',\n",
       "                                                   'deviceCategory',\n",
       "                                                   'subContinent', 'source']),\n",
       "                                                 ('num',\n",
       "                                                  Pipeline(steps=[('imputer',\n",
       "                                                                   SimpleImputer())]),\n",
       "                                                  ['visitNumber',\n",
       "                                                   'visitStartTime', 'isMobile',\n",
       "                                                   'hits_y', 'pageviews',\n",
       "                                                   'bounces', 'newVisits',\n",
       "                                                   'sessionQualityDim',\n",
       "                                                   'timeOnSite', 'transactions',\n",
       "                                                   'weekday', 'day', 'month',\n",
       "                                                   'year'])])),\n",
       "                ('classifier', RandomForestClassifier(random_state=42))])"
      ]
     },
     "execution_count": 52,
     "metadata": {},
     "output_type": "execute_result"
    }
   ],
   "source": [
    "rf.fit(X_train, y_train)"
   ]
  },
  {
   "cell_type": "code",
   "execution_count": 61,
   "id": "b70dfd27",
   "metadata": {},
   "outputs": [],
   "source": [
    "y_pred = rf.predict(X_test)"
   ]
  },
  {
   "cell_type": "code",
   "execution_count": 53,
   "id": "38759c7e",
   "metadata": {},
   "outputs": [
    {
     "name": "stdout",
     "output_type": "stream",
     "text": [
      "RF train accuracy: 1.000\n",
      "RF test accuracy: 0.988\n"
     ]
    }
   ],
   "source": [
    "print(\"RF train accuracy: %0.3f\" % rf.score(X_train, y_train))\n",
    "print(\"RF test accuracy: %0.3f\" % rf.score(X_test, y_test))"
   ]
  },
  {
   "cell_type": "code",
   "execution_count": 62,
   "id": "ecca2869",
   "metadata": {},
   "outputs": [
    {
     "name": "stdout",
     "output_type": "stream",
     "text": [
      "Accuracy Score:  0.987546850441301\n"
     ]
    }
   ],
   "source": [
    "from sklearn.metrics import accuracy_score\n",
    "\n",
    "acc_score = accuracy_score(y_test, y_pred)\n",
    "print('Accuracy Score: ', acc_score)"
   ]
  },
  {
   "cell_type": "code",
   "execution_count": null,
   "id": "90b6ba5c",
   "metadata": {},
   "outputs": [],
   "source": []
  }
 ],
 "metadata": {
  "kernelspec": {
   "display_name": "Python 3",
   "language": "python",
   "name": "python3"
  },
  "language_info": {
   "codemirror_mode": {
    "name": "ipython",
    "version": 3
   },
   "file_extension": ".py",
   "mimetype": "text/x-python",
   "name": "python",
   "nbconvert_exporter": "python",
   "pygments_lexer": "ipython3",
   "version": "3.8.8"
  }
 },
 "nbformat": 4,
 "nbformat_minor": 5
}
