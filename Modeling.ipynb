{
 "cells": [
  {
   "cell_type": "code",
   "execution_count": 1,
   "id": "ea551722",
   "metadata": {},
   "outputs": [],
   "source": [
    "import pandas as pd\n",
    "import numpy as np\n",
    "import matplotlib.pyplot as plt\n",
    "import seaborn as sns\n",
    "from matplotlib.pyplot import figure\n",
    "\n",
    "\n",
    "from sklearn.model_selection import train_test_split\n",
    "from sklearn.model_selection import RandomizedSearchCV \n",
    "from sklearn.linear_model import LinearRegression\n",
    "from sklearn.metrics import make_scorer\n",
    "from sklearn.preprocessing import StandardScaler, FunctionTransformer\n",
    "from sklearn.feature_selection import SelectFromModel\n",
    "from sklearn.ensemble import RandomForestRegressor, GradientBoostingRegressor\n",
    "from sklearn import model_selection\n",
    "from sklearn.metrics import mean_squared_error, mean_absolute_error, r2_score\n",
    "from sklearn import tree, metrics\n",
    "from sklearn.tree import DecisionTreeRegressor\n",
    "from sklearn.neural_network import MLPRegressor"
   ]
  },
  {
   "cell_type": "code",
   "execution_count": 2,
   "id": "acdc0880",
   "metadata": {},
   "outputs": [],
   "source": [
    "df = pd.read_csv('df_clean.csv')"
   ]
  },
  {
   "cell_type": "code",
   "execution_count": 3,
   "id": "a83b58a8",
   "metadata": {},
   "outputs": [
    {
     "name": "stdout",
     "output_type": "stream",
     "text": [
      "<class 'pandas.core.frame.DataFrame'>\n",
      "RangeIndex: 12711 entries, 0 to 12710\n",
      "Data columns (total 22 columns):\n",
      " #   Column                   Non-Null Count  Dtype  \n",
      "---  ------                   --------------  -----  \n",
      " 0   fullVisitorId            12711 non-null  uint64 \n",
      " 1   channelGrouping          12711 non-null  object \n",
      " 2   visitNumber              12711 non-null  int64  \n",
      " 3   visitStartTime           12711 non-null  float64\n",
      " 4   browser                  12711 non-null  object \n",
      " 5   operatingSystem          12711 non-null  object \n",
      " 6   isMobile                 12711 non-null  int64  \n",
      " 7   deviceCategory           12711 non-null  object \n",
      " 8   subContinent             12711 non-null  object \n",
      " 9   hits                     12711 non-null  int64  \n",
      " 10  pageviews                12711 non-null  int64  \n",
      " 11  bounces                  12711 non-null  int64  \n",
      " 12  newVisits                12711 non-null  int64  \n",
      " 13  sessionQualityDim        12711 non-null  float64\n",
      " 14  timeOnSite               12711 non-null  int64  \n",
      " 15  transactions             12711 non-null  int64  \n",
      " 16  totalTransactionRevenue  12711 non-null  int64  \n",
      " 17  source                   12711 non-null  object \n",
      " 18  weekday                  12711 non-null  int64  \n",
      " 19  day                      12711 non-null  int64  \n",
      " 20  month                    12711 non-null  int64  \n",
      " 21  year                     12711 non-null  int64  \n",
      "dtypes: float64(2), int64(13), object(6), uint64(1)\n",
      "memory usage: 2.1+ MB\n"
     ]
    }
   ],
   "source": [
    "df.info()"
   ]
  },
  {
   "cell_type": "markdown",
   "id": "75eb6853",
   "metadata": {},
   "source": [
    "## Get dummies"
   ]
  },
  {
   "cell_type": "code",
   "execution_count": 4,
   "id": "0516981e",
   "metadata": {},
   "outputs": [],
   "source": [
    "df = pd.get_dummies(df, columns=['channelGrouping'], prefix=['channel'])\n",
    "df = pd.get_dummies(df, columns=['browser'], prefix=['browser'])\n",
    "df = pd.get_dummies(df, columns=['operatingSystem'], prefix=['operatingSystem'])\n",
    "df = pd.get_dummies(df, columns=['deviceCategory'], prefix=['deviceCategory'])\n",
    "df = pd.get_dummies(df, columns=['subContinent'], prefix=['subContinent'])\n",
    "df = pd.get_dummies(df, columns=['source'], prefix=['source'])"
   ]
  },
  {
   "cell_type": "code",
   "execution_count": 5,
   "id": "93b2c191",
   "metadata": {},
   "outputs": [],
   "source": [
    "X = df.drop(columns='totalTransactionRevenue', axis = 1)\n",
    "y = df.totalTransactionRevenue"
   ]
  },
  {
   "cell_type": "code",
   "execution_count": 6,
   "id": "17e18763",
   "metadata": {},
   "outputs": [],
   "source": [
    "X_train, X_test, y_train, y_test = train_test_split(X, y, test_size=0.3, random_state=47)"
   ]
  },
  {
   "cell_type": "markdown",
   "id": "1bc082d8",
   "metadata": {},
   "source": [
    "## Standardize"
   ]
  },
  {
   "cell_type": "code",
   "execution_count": 7,
   "id": "cb590966",
   "metadata": {},
   "outputs": [],
   "source": [
    "#Call the StandardScaler`s fit method\n",
    "scaler = StandardScaler()\n",
    "scaler.fit(X_train)\n",
    "X_train = scaler.transform(X_train)\n",
    "X_test = scaler.transform(X_test)"
   ]
  },
  {
   "cell_type": "markdown",
   "id": "5a4a352d",
   "metadata": {},
   "source": [
    "## Linear Regression"
   ]
  },
  {
   "cell_type": "code",
   "execution_count": 8,
   "id": "df5cf022",
   "metadata": {},
   "outputs": [],
   "source": [
    "# feature selection\n",
    "def select_features(X_train, y_train, X_test):\n",
    "    fs = SelectFromModel(RandomForestRegressor(n_estimators=1000), max_features=5)\n",
    "    fs.fit(X_train, y_train)\n",
    "    X_train_fs = fs.transform(X_train)\n",
    "    X_test_fs = fs.transform(X_test)\n",
    "    return X_train_fs, X_test_fs, fs\n",
    "\n",
    "# feature selection\n",
    "X_train_fs, X_test_fs, fs = select_features(X_train, y_train, X_test)"
   ]
  },
  {
   "cell_type": "code",
   "execution_count": 9,
   "id": "c4a27b13",
   "metadata": {},
   "outputs": [],
   "source": [
    "model = LinearRegression()\n",
    "model.fit(X_train_fs, y_train)\n",
    "y_pred = model.predict(X_test_fs)"
   ]
  },
  {
   "cell_type": "code",
   "execution_count": 10,
   "id": "9ca5d2fe",
   "metadata": {},
   "outputs": [
    {
     "name": "stdout",
     "output_type": "stream",
     "text": [
      "MSE:  29259351051619.34\n",
      "MAE:  479291.4233852649\n",
      "r2 Score:  0.44520191352732685\n"
     ]
    }
   ],
   "source": [
    "mse = mean_squared_error(y_test, y_pred)\n",
    "mae = mean_absolute_error(y_test, y_pred)\n",
    "r2 = r2_score(y_test, y_pred)\n",
    "print('MSE: ', mse)\n",
    "print('MAE: ', mae)\n",
    "print('r2 Score: ', r2)"
   ]
  },
  {
   "cell_type": "markdown",
   "id": "6a681226",
   "metadata": {},
   "source": [
    "## Decision Tree"
   ]
  },
  {
   "cell_type": "code",
   "execution_count": 11,
   "id": "569974f0",
   "metadata": {},
   "outputs": [],
   "source": [
    "model = DecisionTreeRegressor()\n",
    "\n",
    "parameters = {'max_features': ['auto', 'sqrt', 'log2'],\n",
    "               'max_depth': [3,4,5,10,15,20,25,50,75,100,125,150,200, None],\n",
    "               'min_samples_split': [3,10,50,100,150,200,250,300,350,400,450,500,550,600,650,700],\n",
    "               'min_samples_leaf': [1,2,3,4,5,10,20,25, 30, 50, 75, 100],\n",
    "               'criterion': ['mse', 'friedman_mse', 'mae', 'poisson'],\n",
    "               'splitter': ['best', 'random']}"
   ]
  },
  {
   "cell_type": "code",
   "execution_count": 12,
   "id": "481d511d",
   "metadata": {
    "scrolled": true
   },
   "outputs": [
    {
     "name": "stdout",
     "output_type": "stream",
     "text": [
      "Fitting 5 folds for each of 10 candidates, totalling 50 fits\n",
      " Results from Random Search \n",
      "\n",
      " The best estimator across ALL searched params:\n",
      " DecisionTreeRegressor(criterion='mae', max_depth=20, max_features='auto',\n",
      "                      min_samples_leaf=5, min_samples_split=300)\n"
     ]
    }
   ],
   "source": [
    "dt_random = RandomizedSearchCV(estimator = model, param_distributions = parameters, n_iter = 10, cv = 5, \n",
    "                               verbose=2, random_state=42, n_jobs = -1)\n",
    "dt_random.fit(X_train, y_train)\n",
    "\n",
    "print(\" Results from Random Search \" )\n",
    "print(\"\\n The best estimator across ALL searched params:\\n\", dt_random.best_estimator_)"
   ]
  },
  {
   "cell_type": "code",
   "execution_count": 13,
   "id": "476f911e",
   "metadata": {},
   "outputs": [],
   "source": [
    "y_pred = dt_random.predict(X_test)"
   ]
  },
  {
   "cell_type": "code",
   "execution_count": 14,
   "id": "689b31b5",
   "metadata": {},
   "outputs": [
    {
     "name": "stdout",
     "output_type": "stream",
     "text": [
      "MSE:  21580784976402.727\n",
      "MAE:  289210.8023072889\n",
      "r2 Score:  0.59079823102147\n"
     ]
    }
   ],
   "source": [
    "mse = mean_squared_error(y_test, y_pred)\n",
    "mae = mean_absolute_error(y_test, y_pred)\n",
    "r2 = r2_score(y_test, y_pred)\n",
    "print('MSE: ', mse)\n",
    "print('MAE: ', mae)\n",
    "print('r2 Score: ', r2)"
   ]
  },
  {
   "cell_type": "markdown",
   "id": "5ca09e0a",
   "metadata": {},
   "source": [
    "## Random Forest Regession"
   ]
  },
  {
   "cell_type": "code",
   "execution_count": 15,
   "id": "a53365d1",
   "metadata": {},
   "outputs": [],
   "source": [
    "model = RandomForestRegressor()\n",
    "\n",
    "parameters = {'n_estimators': [5,6,7,8,9,10,15,20,25,30,35,40,45,50,75,100,200],\n",
    "               'max_features': ['auto', 'sqrt', 'log2'],\n",
    "               'max_depth': [3,4,5,10,15,20,25,50,75,100,125,150,200, None],\n",
    "               'min_samples_split': [3,10,50,100,150,200,250,300,350,400,450,500,550,600,650,700],\n",
    "               'min_samples_leaf': [1,2,3,4,5,10,20,25, 30, 50, 75, 100],\n",
    "               'criterion': ['mse', 'mae']}\n"
   ]
  },
  {
   "cell_type": "code",
   "execution_count": 16,
   "id": "75852c39",
   "metadata": {},
   "outputs": [
    {
     "name": "stdout",
     "output_type": "stream",
     "text": [
      "Fitting 5 folds for each of 10 candidates, totalling 50 fits\n",
      " Results from Random Search \n",
      "\n",
      " The best estimator across ALL searched params:\n",
      " RandomForestRegressor(max_depth=200, min_samples_leaf=30, min_samples_split=500,\n",
      "                      n_estimators=45)\n"
     ]
    }
   ],
   "source": [
    "rf_random = RandomizedSearchCV(estimator = model, param_distributions = parameters, n_iter = 10, cv = 5, \n",
    "                               verbose=2, random_state=42, n_jobs = -1)\n",
    "rf_random.fit(X_train, y_train)\n",
    "\n",
    "print(\" Results from Random Search \" )\n",
    "print(\"\\n The best estimator across ALL searched params:\\n\", rf_random.best_estimator_)"
   ]
  },
  {
   "cell_type": "code",
   "execution_count": 17,
   "id": "865e7689",
   "metadata": {},
   "outputs": [],
   "source": [
    "y_pred = rf_random.predict(X_test)"
   ]
  },
  {
   "cell_type": "code",
   "execution_count": 18,
   "id": "e7946370",
   "metadata": {},
   "outputs": [
    {
     "name": "stdout",
     "output_type": "stream",
     "text": [
      "MSE:  19167878748855.945\n",
      "MAE:  276084.78455020685\n",
      "r2 Score:  0.6365502969343215\n"
     ]
    }
   ],
   "source": [
    "mse = mean_squared_error(y_test, y_pred)\n",
    "mae = mean_absolute_error(y_test, y_pred)\n",
    "r2 = r2_score(y_test, y_pred)\n",
    "print('MSE: ', mse)\n",
    "print('MAE: ', mae)\n",
    "print('r2 Score: ', r2)"
   ]
  },
  {
   "cell_type": "markdown",
   "id": "0c77bd7c",
   "metadata": {},
   "source": [
    "## Gradient Boosting Regession"
   ]
  },
  {
   "cell_type": "code",
   "execution_count": 19,
   "id": "fa81e5ad",
   "metadata": {},
   "outputs": [],
   "source": [
    "model = GradientBoostingRegressor()\n",
    "\n",
    "parameters = {'loss': ['ls', 'lad', 'huber', 'quantile'],\n",
    "              'learning_rate': [0.001,0.01,0.05,0.1,0.2,0.3],\n",
    "               'n_estimators': [5,6,7,8,9,10,15,20,25,30,35,40,45,50,75,100,200],\n",
    "               'max_features': ['auto', 'sqrt', 'log2'],\n",
    "               'max_depth': [3,4,5,10,15,20,25,50,75,100,125,150,200, None],\n",
    "               'min_samples_split': [3,10,50,100,150,200,250,300,350,400,450,500,550,600,650,700],\n",
    "               'min_samples_leaf': [1,2,3,4,5,10,20,25, 30, 50, 75, 100],\n",
    "               'criterion': ['friedman_mse', 'mse', 'mae']}"
   ]
  },
  {
   "cell_type": "code",
   "execution_count": 20,
   "id": "d24d20ec",
   "metadata": {},
   "outputs": [
    {
     "name": "stdout",
     "output_type": "stream",
     "text": [
      " Results from Random Search \n",
      "\n",
      " The best estimator across ALL searched params:\n",
      " GradientBoostingRegressor(learning_rate=0.2, max_depth=15, max_features='auto',\n",
      "                          min_samples_leaf=25, min_samples_split=3,\n",
      "                          n_estimators=30)\n"
     ]
    }
   ],
   "source": [
    "gb_random = RandomizedSearchCV(estimator = model, param_distributions = parameters, n_iter = 10, cv = 5, \n",
    "                               random_state=42, n_jobs = -1)\n",
    "gb_random.fit(X_train, y_train)\n",
    "\n",
    "print(\" Results from Random Search \" )\n",
    "print(\"\\n The best estimator across ALL searched params:\\n\", gb_random.best_estimator_)"
   ]
  },
  {
   "cell_type": "code",
   "execution_count": 21,
   "id": "8650f84e",
   "metadata": {},
   "outputs": [],
   "source": [
    "y_pred = gb_random.predict(X_test)"
   ]
  },
  {
   "cell_type": "code",
   "execution_count": 22,
   "id": "0c7f3bd8",
   "metadata": {},
   "outputs": [
    {
     "name": "stdout",
     "output_type": "stream",
     "text": [
      "MSE:  22859945466075.395\n",
      "MAE:  344304.17436305055\n",
      "r2 Score:  0.5665435648564606\n"
     ]
    }
   ],
   "source": [
    "mse = mean_squared_error(y_test, y_pred)\n",
    "mae = mean_absolute_error(y_test, y_pred)\n",
    "r2 = r2_score(y_test, y_pred)\n",
    "print('MSE: ', mse)\n",
    "print('MAE: ', mae)\n",
    "print('r2 Score: ', r2)"
   ]
  },
  {
   "cell_type": "markdown",
   "id": "ab206b60",
   "metadata": {},
   "source": [
    "## MLPRegressor"
   ]
  },
  {
   "cell_type": "code",
   "execution_count": 23,
   "id": "f5117a9e",
   "metadata": {},
   "outputs": [],
   "source": [
    "model = MLPRegressor(max_iter=100)\n",
    "\n",
    "parameters = {'hidden_layer_sizes': [(50,50,50), (50,100,50), (100,)],\n",
    "              'alpha': [0.001,0.01,0.05,0.1,0.2,0.3],\n",
    "              'activation' : ['identity', 'logistic', 'tanh', 'relu'],\n",
    "              'solver' : ['lbfgs', 'sgd', 'adam'],\n",
    "              'learning_rate': ['constant', 'invscaling', 'adaptive']}"
   ]
  },
  {
   "cell_type": "code",
   "execution_count": 24,
   "id": "5d3c6993",
   "metadata": {},
   "outputs": [
    {
     "name": "stdout",
     "output_type": "stream",
     "text": [
      " Results from Random Search \n",
      "\n",
      " The best estimator across ALL searched params:\n",
      " MLPRegressor(alpha=0.3, hidden_layer_sizes=(50, 100, 50),\n",
      "             learning_rate='invscaling', max_iter=100)\n"
     ]
    },
    {
     "name": "stderr",
     "output_type": "stream",
     "text": [
      "/Users/kasey.larsen/opt/anaconda3/lib/python3.8/site-packages/sklearn/neural_network/_multilayer_perceptron.py:614: ConvergenceWarning: Stochastic Optimizer: Maximum iterations (100) reached and the optimization hasn't converged yet.\n",
      "  warnings.warn(\n"
     ]
    }
   ],
   "source": [
    "mlp_random = RandomizedSearchCV(estimator = model, param_distributions = parameters, cv = 5, \n",
    "                               random_state=42, n_jobs = -1)\n",
    "mlp_random.fit(X_train, y_train)\n",
    "\n",
    "print(\" Results from Random Search \" )\n",
    "print(\"\\n The best estimator across ALL searched params:\\n\", mlp_random.best_estimator_)"
   ]
  },
  {
   "cell_type": "code",
   "execution_count": 25,
   "id": "08beece9",
   "metadata": {},
   "outputs": [],
   "source": [
    "y_pred = mlp_random.predict(X_test)"
   ]
  },
  {
   "cell_type": "code",
   "execution_count": 26,
   "id": "07cc86b3",
   "metadata": {},
   "outputs": [
    {
     "name": "stdout",
     "output_type": "stream",
     "text": [
      "MSE:  23819633260790.11\n",
      "MAE:  540086.0419735636\n",
      "r2 Score:  0.5483465463655315\n"
     ]
    }
   ],
   "source": [
    "mse = mean_squared_error(y_test, y_pred)\n",
    "mae = mean_absolute_error(y_test, y_pred)\n",
    "r2 = r2_score(y_test, y_pred)\n",
    "print('MSE: ', mse)\n",
    "print('MAE: ', mae)\n",
    "print('r2 Score: ', r2)"
   ]
  },
  {
   "cell_type": "markdown",
   "id": "0a224b01",
   "metadata": {},
   "source": [
    "# PCA"
   ]
  },
  {
   "cell_type": "code",
   "execution_count": 27,
   "id": "2020a6c2",
   "metadata": {},
   "outputs": [],
   "source": [
    "from sklearn.decomposition import PCA\n",
    "\n",
    "pca = PCA(n_components=0.95)\n",
    "X_train = pca.fit_transform(X_train)\n",
    "X_test = pca.transform(X_test)"
   ]
  },
  {
   "cell_type": "markdown",
   "id": "8ad0b991",
   "metadata": {},
   "source": [
    "## Decision Tree Regressor With PCA"
   ]
  },
  {
   "cell_type": "code",
   "execution_count": 28,
   "id": "dd65a6e8",
   "metadata": {},
   "outputs": [],
   "source": [
    "model = DecisionTreeRegressor()\n",
    "\n",
    "parameters = {'max_features': ['auto', 'sqrt', 'log2'],\n",
    "               'max_depth': [3,4,5,10,15,20,25,50,75,100,125,150,200, None],\n",
    "               'min_samples_split': [3,10,50,100,150,200,250,300,350,400,450,500,550,600,650,700],\n",
    "               'min_samples_leaf': [1,2,3,4,5,10,20,25, 30, 50, 75, 100],\n",
    "               'criterion': ['mse', 'friedman_mse', 'mae', 'poisson'],\n",
    "               'splitter': ['best', 'random']}"
   ]
  },
  {
   "cell_type": "code",
   "execution_count": 29,
   "id": "b2f0c1c1",
   "metadata": {},
   "outputs": [
    {
     "name": "stdout",
     "output_type": "stream",
     "text": [
      "Fitting 5 folds for each of 10 candidates, totalling 50 fits\n",
      " Results from Random Search \n",
      "\n",
      " The best estimator across ALL searched params:\n",
      " DecisionTreeRegressor(criterion='mae', max_depth=20, max_features='auto',\n",
      "                      min_samples_leaf=5, min_samples_split=300)\n"
     ]
    }
   ],
   "source": [
    "dt_random = RandomizedSearchCV(estimator = model, param_distributions = parameters, n_iter = 10, cv = 5, \n",
    "                               verbose=2, random_state=42, n_jobs = -1)\n",
    "dt_random.fit(X_train, y_train)\n",
    "\n",
    "print(\" Results from Random Search \" )\n",
    "print(\"\\n The best estimator across ALL searched params:\\n\", dt_random.best_estimator_)"
   ]
  },
  {
   "cell_type": "code",
   "execution_count": 30,
   "id": "e0927afc",
   "metadata": {},
   "outputs": [],
   "source": [
    "y_pred = dt_random.predict(X_test)"
   ]
  },
  {
   "cell_type": "code",
   "execution_count": 31,
   "id": "18853d6d",
   "metadata": {},
   "outputs": [
    {
     "name": "stdout",
     "output_type": "stream",
     "text": [
      "MSE:  21639693582852.65\n",
      "MAE:  289723.3875196644\n",
      "r2 Score:  0.5896812417185449\n"
     ]
    }
   ],
   "source": [
    "mse = mean_squared_error(y_test, y_pred)\n",
    "mae = mean_absolute_error(y_test, y_pred)\n",
    "r2 = r2_score(y_test, y_pred)\n",
    "print('MSE: ', mse)\n",
    "print('MAE: ', mae)\n",
    "print('r2 Score: ', r2)"
   ]
  },
  {
   "cell_type": "markdown",
   "id": "44a5db77",
   "metadata": {},
   "source": [
    "## Random Forest Regession With PCA"
   ]
  },
  {
   "cell_type": "code",
   "execution_count": 32,
   "id": "a74493fc",
   "metadata": {},
   "outputs": [],
   "source": [
    "model = RandomForestRegressor()\n",
    "\n",
    "parameters = {'n_estimators': [5,6,7,8,9,10,15,20,25,30,35,40,45,50,75,100,200],\n",
    "               'max_features': ['auto', 'sqrt', 'log2'],\n",
    "               'max_depth': [3,4,5,10,15,20,25,50,75,100,125,150,200, None],\n",
    "               'min_samples_split': [3,10,50,100,150,200,250,300,350,400,450,500,550,600,650,700],\n",
    "               'min_samples_leaf': [1,2,3,4,5,10,20,25, 30, 50, 75, 100],\n",
    "               'criterion': ['mse', 'mae']}\n"
   ]
  },
  {
   "cell_type": "code",
   "execution_count": 33,
   "id": "1da7d46a",
   "metadata": {},
   "outputs": [
    {
     "name": "stdout",
     "output_type": "stream",
     "text": [
      "Fitting 5 folds for each of 10 candidates, totalling 50 fits\n",
      " Results from Random Search \n",
      "\n",
      " The best estimator across ALL searched params:\n",
      " RandomForestRegressor(criterion='mae', max_depth=3, min_samples_split=650,\n",
      "                      n_estimators=40)\n"
     ]
    }
   ],
   "source": [
    "rf_random = RandomizedSearchCV(estimator = model, param_distributions = parameters, n_iter = 10, cv = 5, \n",
    "                               verbose=2, random_state=42, n_jobs = -1)\n",
    "rf_random.fit(X_train, y_train)\n",
    "\n",
    "print(\" Results from Random Search \" )\n",
    "print(\"\\n The best estimator across ALL searched params:\\n\", rf_random.best_estimator_)"
   ]
  },
  {
   "cell_type": "code",
   "execution_count": 34,
   "id": "28ef6ab9",
   "metadata": {},
   "outputs": [],
   "source": [
    "y_pred = rf_random.predict(X_test)"
   ]
  },
  {
   "cell_type": "code",
   "execution_count": 35,
   "id": "58107e48",
   "metadata": {},
   "outputs": [
    {
     "name": "stdout",
     "output_type": "stream",
     "text": [
      "MSE:  22544594828075.84\n",
      "MAE:  313393.8122705821\n",
      "r2 Score:  0.5725230525840399\n"
     ]
    }
   ],
   "source": [
    "mse = mean_squared_error(y_test, y_pred)\n",
    "mae = mean_absolute_error(y_test, y_pred)\n",
    "r2 = r2_score(y_test, y_pred)\n",
    "print('MSE: ', mse)\n",
    "print('MAE: ', mae)\n",
    "print('r2 Score: ', r2)"
   ]
  },
  {
   "cell_type": "markdown",
   "id": "bce427e4",
   "metadata": {},
   "source": [
    "## Gradient Boosting Regession With PCA"
   ]
  },
  {
   "cell_type": "code",
   "execution_count": 36,
   "id": "c993daaf",
   "metadata": {},
   "outputs": [],
   "source": [
    "model = GradientBoostingRegressor()\n",
    "\n",
    "parameters = {'loss': ['ls', 'lad', 'huber', 'quantile'],\n",
    "              'learning_rate': [0.001,0.01,0.05,0.1,0.2,0.3],\n",
    "               'n_estimators': [5,6,7,8,9,10,15,20,25,30,35,40,45,50,75,100,200],\n",
    "               'max_features': ['auto', 'sqrt', 'log2'],\n",
    "               'max_depth': [3,4,5,10,15,20,25,50,75,100,125,150,200, None],\n",
    "               'min_samples_split': [3,10,50,100,150,200,250,300,350,400,450,500,550,600,650,700],\n",
    "               'min_samples_leaf': [1,2,3,4,5,10,20,25, 30, 50, 75, 100],\n",
    "               'criterion': ['friedman_mse', 'mse', 'mae']}"
   ]
  },
  {
   "cell_type": "code",
   "execution_count": 37,
   "id": "ad7affaf",
   "metadata": {},
   "outputs": [
    {
     "name": "stdout",
     "output_type": "stream",
     "text": [
      " Results from Random Search \n",
      "\n",
      " The best estimator across ALL searched params:\n",
      " GradientBoostingRegressor(learning_rate=0.2, max_depth=15, max_features='auto',\n",
      "                          min_samples_leaf=25, min_samples_split=3,\n",
      "                          n_estimators=30)\n"
     ]
    }
   ],
   "source": [
    "gb_random = RandomizedSearchCV(estimator = model, param_distributions = parameters, n_iter = 10, cv = 5, \n",
    "                               random_state=42, n_jobs = -1)\n",
    "gb_random.fit(X_train, y_train)\n",
    "\n",
    "print(\" Results from Random Search \" )\n",
    "print(\"\\n The best estimator across ALL searched params:\\n\", gb_random.best_estimator_)"
   ]
  },
  {
   "cell_type": "code",
   "execution_count": 38,
   "id": "2faf7643",
   "metadata": {},
   "outputs": [],
   "source": [
    "y_pred = gb_random.predict(X_test)"
   ]
  },
  {
   "cell_type": "code",
   "execution_count": 39,
   "id": "45db1807",
   "metadata": {},
   "outputs": [
    {
     "name": "stdout",
     "output_type": "stream",
     "text": [
      "MSE:  21138417830531.645\n",
      "MAE:  366883.50975469325\n",
      "r2 Score:  0.5991861288123224\n"
     ]
    }
   ],
   "source": [
    "mse = mean_squared_error(y_test, y_pred)\n",
    "mae = mean_absolute_error(y_test, y_pred)\n",
    "r2 = r2_score(y_test, y_pred)\n",
    "print('MSE: ', mse)\n",
    "print('MAE: ', mae)\n",
    "print('r2 Score: ', r2)"
   ]
  },
  {
   "cell_type": "markdown",
   "id": "f74e4dd9",
   "metadata": {},
   "source": [
    "## MLPRegressor With PCA"
   ]
  },
  {
   "cell_type": "code",
   "execution_count": 40,
   "id": "9162f485",
   "metadata": {},
   "outputs": [],
   "source": [
    "model = MLPRegressor(max_iter=100)\n",
    "\n",
    "parameters = {'hidden_layer_sizes': [(50,50,50), (50,100,50), (100,)],\n",
    "              'alpha': [0.001,0.01,0.05,0.1,0.2,0.3],\n",
    "              'activation' : ['identity', 'logistic', 'tanh', 'relu'],\n",
    "              'solver' : ['lbfgs', 'sgd', 'adam'],\n",
    "              'learning_rate': ['constant', 'invscaling', 'adaptive']}"
   ]
  },
  {
   "cell_type": "code",
   "execution_count": 41,
   "id": "cbae3912",
   "metadata": {},
   "outputs": [
    {
     "name": "stdout",
     "output_type": "stream",
     "text": [
      " Results from Random Search \n",
      "\n",
      " The best estimator across ALL searched params:\n",
      " MLPRegressor(alpha=0.3, hidden_layer_sizes=(50, 100, 50),\n",
      "             learning_rate='invscaling', max_iter=100)\n"
     ]
    },
    {
     "name": "stderr",
     "output_type": "stream",
     "text": [
      "/Users/kasey.larsen/opt/anaconda3/lib/python3.8/site-packages/sklearn/neural_network/_multilayer_perceptron.py:614: ConvergenceWarning: Stochastic Optimizer: Maximum iterations (100) reached and the optimization hasn't converged yet.\n",
      "  warnings.warn(\n"
     ]
    }
   ],
   "source": [
    "mlp_random = RandomizedSearchCV(estimator = model, param_distributions = parameters, cv = 5, \n",
    "                               random_state=42, n_jobs = -1)\n",
    "mlp_random.fit(X_train, y_train)\n",
    "\n",
    "print(\" Results from Random Search \" )\n",
    "print(\"\\n The best estimator across ALL searched params:\\n\", mlp_random.best_estimator_)"
   ]
  },
  {
   "cell_type": "code",
   "execution_count": 42,
   "id": "db6e215e",
   "metadata": {},
   "outputs": [],
   "source": [
    "y_pred = mlp_random.predict(X_test)"
   ]
  },
  {
   "cell_type": "code",
   "execution_count": 43,
   "id": "1f9cb7a4",
   "metadata": {},
   "outputs": [
    {
     "name": "stdout",
     "output_type": "stream",
     "text": [
      "MSE:  28689443388330.324\n",
      "MAE:  471815.21047425637\n",
      "r2 Score:  0.4560081573329754\n"
     ]
    }
   ],
   "source": [
    "mse = mean_squared_error(y_test, y_pred)\n",
    "mae = mean_absolute_error(y_test, y_pred)\n",
    "r2 = r2_score(y_test, y_pred)\n",
    "print('MSE: ', mse)\n",
    "print('MAE: ', mae)\n",
    "print('r2 Score: ', r2)"
   ]
  },
  {
   "cell_type": "markdown",
   "id": "e5297456",
   "metadata": {},
   "source": [
    "## Best Model Selection"
   ]
  },
  {
   "cell_type": "markdown",
   "id": "87b47d21",
   "metadata": {},
   "source": [
    "The following model performed best:\n",
    "\n",
    "RandomForestRegressor(max_depth=200, min_samples_leaf=30, min_samples_split=500,\n",
    "                      n_estimators=45)\n",
    "                      \n",
    "MSE:  22544594828075.84\n",
    "MAE:  313393.8122705821\n",
    "r2 Score:  0.5725230525840399"
   ]
  },
  {
   "cell_type": "code",
   "execution_count": null,
   "id": "78a1c385",
   "metadata": {},
   "outputs": [],
   "source": []
  }
 ],
 "metadata": {
  "kernelspec": {
   "display_name": "Python 3",
   "language": "python",
   "name": "python3"
  },
  "language_info": {
   "codemirror_mode": {
    "name": "ipython",
    "version": 3
   },
   "file_extension": ".py",
   "mimetype": "text/x-python",
   "name": "python",
   "nbconvert_exporter": "python",
   "pygments_lexer": "ipython3",
   "version": "3.8.8"
  }
 },
 "nbformat": 4,
 "nbformat_minor": 5
}
