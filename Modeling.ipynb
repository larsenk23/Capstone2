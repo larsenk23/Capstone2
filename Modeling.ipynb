{
 "cells": [
  {
   "cell_type": "code",
   "execution_count": 1,
   "id": "ea551722",
   "metadata": {},
   "outputs": [],
   "source": [
    "import pandas as pd\n",
    "import numpy as np\n",
    "import matplotlib.pyplot as plt\n",
    "import seaborn as sns\n",
    "from matplotlib.pyplot import figure\n",
    "import math\n",
    "\n",
    "from sklearn.model_selection import train_test_split\n",
    "from sklearn import preprocessing\n",
    "from sklearn.model_selection import RandomizedSearchCV \n",
    "from sklearn.linear_model import LinearRegression\n",
    "from sklearn.metrics import make_scorer\n",
    "from sklearn.preprocessing import StandardScaler, FunctionTransformer\n",
    "from sklearn.feature_selection import SelectFromModel\n",
    "from sklearn.ensemble import RandomForestRegressor, GradientBoostingRegressor\n",
    "from sklearn import model_selection\n",
    "from sklearn.metrics import mean_squared_error, mean_absolute_error, r2_score\n",
    "from sklearn import tree, metrics\n",
    "from sklearn.tree import DecisionTreeRegressor\n",
    "from sklearn.neural_network import MLPRegressor\n",
    "from sklearn.metrics import mean_absolute_percentage_error"
   ]
  },
  {
   "cell_type": "code",
   "execution_count": 2,
   "id": "acdc0880",
   "metadata": {},
   "outputs": [
    {
     "name": "stderr",
     "output_type": "stream",
     "text": [
      "/Users/kasey.larsen/opt/anaconda3/lib/python3.8/site-packages/IPython/core/interactiveshell.py:3165: DtypeWarning: Columns (0) have mixed types.Specify dtype option on import or set low_memory=False.\n",
      "  has_raised = await self.run_ast_nodes(code_ast.body, cell_name,\n"
     ]
    }
   ],
   "source": [
    "df = pd.read_csv('df_combined.csv')"
   ]
  },
  {
   "cell_type": "code",
   "execution_count": 3,
   "id": "1508c18a",
   "metadata": {},
   "outputs": [],
   "source": [
    "df = df.sample(frac = 0.15)"
   ]
  },
  {
   "cell_type": "code",
   "execution_count": 4,
   "id": "806561fa",
   "metadata": {},
   "outputs": [
    {
     "name": "stdout",
     "output_type": "stream",
     "text": [
      "<class 'pandas.core.frame.DataFrame'>\n",
      "Int64Index: 12409 entries, 59612 to 35542\n",
      "Data columns (total 35 columns):\n",
      " #   Column                Non-Null Count  Dtype  \n",
      "---  ------                --------------  -----  \n",
      " 0   fullVisitorId         12409 non-null  object \n",
      " 1   channelGrouping       12409 non-null  object \n",
      " 2   socialEngagementType  12409 non-null  object \n",
      " 3   visitNumber           12409 non-null  int64  \n",
      " 4   visitStartTime        12409 non-null  float64\n",
      " 5   browser               12409 non-null  object \n",
      " 6   operatingSystem       12409 non-null  object \n",
      " 7   isMobile              12409 non-null  int64  \n",
      " 8   deviceCategory        12409 non-null  object \n",
      " 9   continent             12409 non-null  object \n",
      " 10  subContinent          12409 non-null  object \n",
      " 11  country               12409 non-null  object \n",
      " 12  region                12409 non-null  object \n",
      " 13  metro                 12409 non-null  object \n",
      " 14  city                  12409 non-null  object \n",
      " 15  networkDomain         12409 non-null  object \n",
      " 16  hits                  12409 non-null  int64  \n",
      " 17  pageviews             12409 non-null  int64  \n",
      " 18  bounces               12409 non-null  int64  \n",
      " 19  newVisits             12409 non-null  int64  \n",
      " 20  sessionQualityDim     12409 non-null  float64\n",
      " 21  timeOnSite            12409 non-null  int64  \n",
      " 22  transactions          12409 non-null  int64  \n",
      " 23  transactionRevenue    12409 non-null  int64  \n",
      " 24  source                12409 non-null  object \n",
      " 25  campaign              12409 non-null  object \n",
      " 26  medium                12409 non-null  object \n",
      " 27  keyword               12409 non-null  object \n",
      " 28  referralPath          12409 non-null  object \n",
      " 29  isTrueDirect          12409 non-null  object \n",
      " 30  campaignCode          12409 non-null  int64  \n",
      " 31  weekday               12409 non-null  int64  \n",
      " 32  day                   12409 non-null  int64  \n",
      " 33  month                 12409 non-null  int64  \n",
      " 34  year                  12409 non-null  int64  \n",
      "dtypes: float64(2), int64(14), object(19)\n",
      "memory usage: 3.4+ MB\n"
     ]
    }
   ],
   "source": [
    "df.info()"
   ]
  },
  {
   "cell_type": "code",
   "execution_count": 5,
   "id": "6226dfb5",
   "metadata": {},
   "outputs": [],
   "source": [
    "df = df.drop(['fullVisitorId'], axis=1)"
   ]
  },
  {
   "cell_type": "code",
   "execution_count": 6,
   "id": "23c31e73",
   "metadata": {},
   "outputs": [],
   "source": [
    "categorical_feat = ['channelGrouping', 'socialEngagementType', 'browser', 'operatingSystem', \n",
    "                    'deviceCategory', 'continent', 'subContinent', 'country', 'region', 'metro',\n",
    "                   'city', 'networkDomain', 'campaign', 'source', 'medium', 'keyword', 'referralPath', 'isTrueDirect']"
   ]
  },
  {
   "cell_type": "code",
   "execution_count": 7,
   "id": "77185f1d",
   "metadata": {},
   "outputs": [
    {
     "name": "stdout",
     "output_type": "stream",
     "text": [
      "for this feature : channelGrouping label-encoding was done succesfully\n",
      "for this feature : socialEngagementType label-encoding was done succesfully\n",
      "for this feature : browser label-encoding was done succesfully\n",
      "for this feature : operatingSystem label-encoding was done succesfully\n",
      "for this feature : deviceCategory label-encoding was done succesfully\n",
      "for this feature : continent label-encoding was done succesfully\n",
      "for this feature : subContinent label-encoding was done succesfully\n",
      "for this feature : country label-encoding was done succesfully\n",
      "for this feature : region label-encoding was done succesfully\n",
      "for this feature : metro label-encoding was done succesfully\n",
      "for this feature : city label-encoding was done succesfully\n",
      "for this feature : networkDomain label-encoding was done succesfully\n",
      "for this feature : campaign label-encoding was done succesfully\n",
      "for this feature : source label-encoding was done succesfully\n",
      "for this feature : medium label-encoding was done succesfully\n",
      "for this feature : keyword label-encoding was done succesfully\n",
      "for this feature : referralPath label-encoding was done succesfully\n",
      "for this feature : isTrueDirect label-encoding was done succesfully\n"
     ]
    }
   ],
   "source": [
    "for feature in categorical_feat:\n",
    "    label_encoder = preprocessing.LabelEncoder()\n",
    "    label_encoder.fit(list(df[feature].values.astype('str')))\n",
    "    df[feature] = label_encoder.transform(list(df[feature].values.astype('str'))) \n",
    "    print(\"for this feature : {0} label-encoding was done succesfully\".format(feature))"
   ]
  },
  {
   "cell_type": "markdown",
   "id": "7b584669",
   "metadata": {},
   "source": [
    "## Get dummies"
   ]
  },
  {
   "cell_type": "code",
   "execution_count": 8,
   "id": "67496ecc",
   "metadata": {},
   "outputs": [],
   "source": [
    "X = df.drop(columns='transactionRevenue', axis = 1)\n",
    "y = np.log1p(df['transactionRevenue'].fillna(0).astype(float))"
   ]
  },
  {
   "cell_type": "code",
   "execution_count": 9,
   "id": "d4f7e5fd",
   "metadata": {},
   "outputs": [],
   "source": [
    "X_train, X_test, y_train, y_test = train_test_split(X, y, test_size=0.3, random_state=47)"
   ]
  },
  {
   "cell_type": "markdown",
   "id": "040fdeb0",
   "metadata": {},
   "source": [
    "## Standardize"
   ]
  },
  {
   "cell_type": "code",
   "execution_count": 10,
   "id": "c31a8984",
   "metadata": {},
   "outputs": [],
   "source": [
    "#Call the StandardScaler`s fit method\n",
    "scaler = StandardScaler()\n",
    "scaler.fit(X_train)\n",
    "X_train = scaler.transform(X_train)\n",
    "X_test = scaler.transform(X_test)"
   ]
  },
  {
   "cell_type": "markdown",
   "id": "964db3a6",
   "metadata": {},
   "source": [
    "## Linear Regression"
   ]
  },
  {
   "cell_type": "code",
   "execution_count": 11,
   "id": "fab6955f",
   "metadata": {},
   "outputs": [],
   "source": [
    "# feature selection\n",
    "def select_features(X_train, y_train, X_test):\n",
    "    fs = SelectFromModel(RandomForestRegressor(n_estimators=1000), max_features=5)\n",
    "    fs.fit(X_train, y_train)\n",
    "    X_train_fs = fs.transform(X_train)\n",
    "    X_test_fs = fs.transform(X_test)\n",
    "    return X_train_fs, X_test_fs, fs\n",
    "\n",
    "# feature selection\n",
    "X_train_fs, X_test_fs, fs = select_features(X_train, y_train, X_test)"
   ]
  },
  {
   "cell_type": "code",
   "execution_count": 12,
   "id": "1544e0ec",
   "metadata": {},
   "outputs": [],
   "source": [
    "model = LinearRegression()\n",
    "model.fit(X_train_fs, y_train)\n",
    "y_pred = model.predict(X_test_fs)"
   ]
  },
  {
   "cell_type": "code",
   "execution_count": 13,
   "id": "7ec5b408",
   "metadata": {},
   "outputs": [
    {
     "name": "stdout",
     "output_type": "stream",
     "text": [
      "MSE:  0.1519360356051222\n",
      "MAE:  0.01954442126174171\n",
      "r2 Score:  0.9541341593112762\n"
     ]
    }
   ],
   "source": [
    "mse = mean_squared_error(y_test, y_pred)\n",
    "mae = mean_absolute_error(y_test, y_pred)\n",
    "r2 = r2_score(y_test, y_pred)\n",
    "print('MSE: ', mse)\n",
    "print('MAE: ', mae)\n",
    "print('r2 Score: ', r2)"
   ]
  },
  {
   "cell_type": "code",
   "execution_count": 14,
   "id": "97da0445",
   "metadata": {},
   "outputs": [
    {
     "data": {
      "image/png": "[encoded data removed]",
      "text/plain": [
       "<Figure size 432x288 with 1 Axes>"
      ]
     },
     "metadata": {
      "needs_background": "light"
     },
     "output_type": "display_data"
    }
   ],
   "source": [
    "fig, ax = plt.subplots()\n",
    "ax.scatter(y_test, y_pred, edgecolors=(0, 0, 0))\n",
    "ax.plot([y_test.min(), y_test.max()], [y_test.min(), y_test.max()], 'k--', lw=4)\n",
    "ax.set_xlabel('Measured')\n",
    "ax.set_ylabel('Predicted')\n",
    "plt.show()"
   ]
  },
  {
   "cell_type": "markdown",
   "id": "49dcc8a2",
   "metadata": {},
   "source": [
    "## Decision Tree"
   ]
  },
  {
   "cell_type": "code",
   "execution_count": 15,
   "id": "68274f20",
   "metadata": {},
   "outputs": [],
   "source": [
    "model = DecisionTreeRegressor()\n",
    "\n",
    "parameters = {'max_features': ['auto', 'sqrt', 'log2'],\n",
    "               'max_depth': [3,4,5,10,15,20,25,50,75,100,125,150,200, None],\n",
    "               'min_samples_split': [3,10,50,100,150,200,250,300,350,400,450,500,550,600,650,700],\n",
    "               'min_samples_leaf': [1,2,3,4,5,10,20,25, 30, 50, 75, 100],\n",
    "               'criterion': ['mse', 'friedman_mse', 'mae', 'poisson'],\n",
    "               'splitter': ['best', 'random']}"
   ]
  },
  {
   "cell_type": "code",
   "execution_count": 16,
   "id": "dd151ead",
   "metadata": {
    "scrolled": true
   },
   "outputs": [
    {
     "name": "stdout",
     "output_type": "stream",
     "text": [
      " Results from Random Search \n",
      "\n",
      " The best estimator across ALL searched params:\n",
      " DecisionTreeRegressor(criterion='mae', max_depth=20, max_features='auto',\n",
      "                      min_samples_leaf=5, min_samples_split=300)\n"
     ]
    }
   ],
   "source": [
    "dt_random = RandomizedSearchCV(estimator = model, param_distributions = parameters, n_iter = 10, cv = 5, \n",
    "                               verbose=False, random_state=42, n_jobs = -1)\n",
    "dt_random.fit(X_train, y_train)\n",
    "\n",
    "print(\" Results from Random Search \" )\n",
    "print(\"\\n The best estimator across ALL searched params:\\n\", dt_random.best_estimator_)"
   ]
  },
  {
   "cell_type": "code",
   "execution_count": 17,
   "id": "680b7b7f",
   "metadata": {},
   "outputs": [],
   "source": [
    "y_pred = dt_random.predict(X_test)"
   ]
  },
  {
   "cell_type": "code",
   "execution_count": 21,
   "id": "35ab0519",
   "metadata": {},
   "outputs": [
    {
     "name": "stdout",
     "output_type": "stream",
     "text": [
      "MSE:  0.0955580547946409\n",
      "MAE:  0.01363400324377665\n",
      "r2 Score:  0.9711533179059229\n"
     ]
    }
   ],
   "source": [
    "mse = mean_squared_error(y_test, y_pred)\n",
    "mae = mean_absolute_error(y_test, y_pred)\n",
    "r2 = r2_score(y_test, y_pred)\n",
    "print('MSE: ', mse)\n",
    "print('MAE: ', mae)\n",
    "print('r2 Score: ', r2)"
   ]
  },
  {
   "cell_type": "code",
   "execution_count": 22,
   "id": "4a41021a",
   "metadata": {},
   "outputs": [
    {
     "data": {
      "image/png": "[encoded data removed]",
      "text/plain": [
       "<Figure size 432x288 with 1 Axes>"
      ]
     },
     "metadata": {
      "needs_background": "light"
     },
     "output_type": "display_data"
    }
   ],
   "source": [
    "fig, ax = plt.subplots()\n",
    "ax.scatter(y_test, y_pred, edgecolors=(0, 0, 0))\n",
    "ax.plot([y_test.min(), y_test.max()], [y_test.min(), y_test.max()], 'k--', lw=4)\n",
    "ax.set_xlabel('Measured')\n",
    "ax.set_ylabel('Predicted')\n",
    "plt.show()"
   ]
  },
  {
   "cell_type": "markdown",
   "id": "de707953",
   "metadata": {},
   "source": [
    "## Random Forest Regession"
   ]
  },
  {
   "cell_type": "code",
   "execution_count": 23,
   "id": "9027613d",
   "metadata": {},
   "outputs": [],
   "source": [
    "model = RandomForestRegressor()\n",
    "\n",
    "parameters = {'n_estimators': [5,6,7,8,9,10,15,20,25,30,35,40,45,50,75,100,200],\n",
    "               'max_features': ['auto', 'sqrt', 'log2'],\n",
    "               'max_depth': [3,4,5,10,15,20,25,50,75,100,125,150,200, None],\n",
    "               'min_samples_split': [3,10,50,100,150,200,250,300,350,400,450,500,550,600,650,700],\n",
    "               'min_samples_leaf': [1,2,3,4,5,10,20,25, 30, 50, 75, 100],\n",
    "               'criterion': ['mse', 'mae']}\n"
   ]
  },
  {
   "cell_type": "code",
   "execution_count": 28,
   "id": "20cc22ce",
   "metadata": {},
   "outputs": [
    {
     "name": "stdout",
     "output_type": "stream",
     "text": [
      " Results from Random Search \n",
      "\n",
      " The best estimator across ALL searched params:\n",
      " RandomForestRegressor(max_depth=200, min_samples_leaf=30, min_samples_split=500,\n",
      "                      n_estimators=45)\n"
     ]
    }
   ],
   "source": [
    "rf_random = RandomizedSearchCV(estimator = model, param_distributions = parameters, n_iter = 10, cv = 5, \n",
    "                               verbose=False, random_state=42, n_jobs = -1)\n",
    "rf_random.fit(X_train, y_train)\n",
    "\n",
    "print(\" Results from Random Search \" )\n",
    "print(\"\\n The best estimator across ALL searched params:\\n\", rf_random.best_estimator_)"
   ]
  },
  {
   "cell_type": "code",
   "execution_count": 29,
   "id": "8627fff3",
   "metadata": {},
   "outputs": [],
   "source": [
    "y_pred = rf_random.predict(X_test)"
   ]
  },
  {
   "cell_type": "code",
   "execution_count": 30,
   "id": "54530f88",
   "metadata": {},
   "outputs": [
    {
     "name": "stdout",
     "output_type": "stream",
     "text": [
      "MSE:  0.09594720244370883\n",
      "MAE:  0.013604563911604988\n",
      "r2 Score:  0.9710358435753241\n"
     ]
    }
   ],
   "source": [
    "mse = mean_squared_error(y_test, y_pred)\n",
    "mae = mean_absolute_error(y_test, y_pred)\n",
    "r2 = r2_score(y_test, y_pred)\n",
    "print('MSE: ', mse)\n",
    "print('MAE: ', mae)\n",
    "print('r2 Score: ', r2)"
   ]
  },
  {
   "cell_type": "code",
   "execution_count": 31,
   "id": "35989bac",
   "metadata": {
    "scrolled": true
   },
   "outputs": [
    {
     "data": {
      "image/png": "[encoded data removed]",
      "text/plain": [
       "<Figure size 432x288 with 1 Axes>"
      ]
     },
     "metadata": {
      "needs_background": "light"
     },
     "output_type": "display_data"
    }
   ],
   "source": [
    "fig, ax = plt.subplots()\n",
    "ax.scatter(y_test, y_pred, edgecolors=(0, 0, 0))\n",
    "ax.plot([y_test.min(), y_test.max()], [y_test.min(), y_test.max()], 'k--', lw=4)\n",
    "ax.set_xlabel('Measured')\n",
    "ax.set_ylabel('Predicted')\n",
    "plt.show()"
   ]
  },
  {
   "cell_type": "markdown",
   "id": "bdddcd6d",
   "metadata": {},
   "source": [
    "## Gradient Boosting Regession"
   ]
  },
  {
   "cell_type": "code",
   "execution_count": 32,
   "id": "d9affb5c",
   "metadata": {},
   "outputs": [],
   "source": [
    "model = GradientBoostingRegressor()\n",
    "\n",
    "parameters = {'loss': ['ls', 'lad', 'huber', 'quantile'],\n",
    "              'learning_rate': [0.001,0.01,0.05,0.1,0.2,0.3],\n",
    "               'n_estimators': [5,6,7,8,9,10,15,20,25,30,35,40,45,50,75,100,200],\n",
    "               'max_features': ['auto', 'sqrt', 'log2'],\n",
    "               'max_depth': [3,4,5,10,15,20,25,50,75,100,125,150,200, None],\n",
    "               'min_samples_split': [3,10,50,100,150,200,250,300,350,400,450,500,550,600,650,700],\n",
    "               'min_samples_leaf': [1,2,3,4,5,10,20,25, 30, 50, 75, 100],\n",
    "               'criterion': ['friedman_mse', 'mse', 'mae']}"
   ]
  },
  {
   "cell_type": "code",
   "execution_count": 33,
   "id": "84c48e72",
   "metadata": {},
   "outputs": [
    {
     "name": "stdout",
     "output_type": "stream",
     "text": [
      " Results from Random Search \n",
      "\n",
      " The best estimator across ALL searched params:\n",
      " GradientBoostingRegressor(learning_rate=0.2, max_depth=15, max_features='auto',\n",
      "                          min_samples_leaf=25, min_samples_split=3,\n",
      "                          n_estimators=30)\n"
     ]
    }
   ],
   "source": [
    "gb_random = RandomizedSearchCV(estimator = model, param_distributions = parameters, n_iter = 10, cv = 5, \n",
    "                               random_state=42, n_jobs = -1)\n",
    "gb_random.fit(X_train, y_train)\n",
    "\n",
    "print(\" Results from Random Search \" )\n",
    "print(\"\\n The best estimator across ALL searched params:\\n\", gb_random.best_estimator_)"
   ]
  },
  {
   "cell_type": "code",
   "execution_count": 34,
   "id": "ea2dbb9f",
   "metadata": {},
   "outputs": [],
   "source": [
    "y_pred = gb_random.predict(X_test)"
   ]
  },
  {
   "cell_type": "code",
   "execution_count": 35,
   "id": "fa84b5f2",
   "metadata": {},
   "outputs": [
    {
     "name": "stdout",
     "output_type": "stream",
     "text": [
      "MSE:  0.10589772664216442\n",
      "MAE:  0.015587600213587769\n",
      "r2 Score:  0.9680320192630866\n"
     ]
    }
   ],
   "source": [
    "mse = mean_squared_error(y_test, y_pred)\n",
    "mae = mean_absolute_error(y_test, y_pred)\n",
    "r2 = r2_score(y_test, y_pred)\n",
    "print('MSE: ', mse)\n",
    "print('MAE: ', mae)\n",
    "print('r2 Score: ', r2)"
   ]
  },
  {
   "cell_type": "code",
   "execution_count": 36,
   "id": "e2668141",
   "metadata": {},
   "outputs": [
    {
     "data": {
      "image/png": "[encoded data removed]",
      "text/plain": [
       "<Figure size 432x288 with 1 Axes>"
      ]
     },
     "metadata": {
      "needs_background": "light"
     },
     "output_type": "display_data"
    }
   ],
   "source": [
    "fig, ax = plt.subplots()\n",
    "ax.scatter(y_test, y_pred, edgecolors=(0, 0, 0))\n",
    "ax.plot([y_test.min(), y_test.max()], [y_test.min(), y_test.max()], 'k--', lw=4)\n",
    "ax.set_xlabel('Measured')\n",
    "ax.set_ylabel('Predicted')\n",
    "plt.show()"
   ]
  },
  {
   "cell_type": "markdown",
   "id": "85524b53",
   "metadata": {},
   "source": [
    "## MLPRegressor"
   ]
  },
  {
   "cell_type": "code",
   "execution_count": 37,
   "id": "f3c48221",
   "metadata": {},
   "outputs": [],
   "source": [
    "model = MLPRegressor(max_iter=100)\n",
    "\n",
    "parameters = {'hidden_layer_sizes': [(50,50,50), (50,100,50), (100,)],\n",
    "              'alpha': [0.001,0.01,0.05,0.1,0.2,0.3],\n",
    "              'activation' : ['identity', 'logistic', 'tanh', 'relu'],\n",
    "              'solver' : ['lbfgs', 'sgd', 'adam'],\n",
    "              'learning_rate': ['constant', 'invscaling', 'adaptive']}"
   ]
  },
  {
   "cell_type": "code",
   "execution_count": 38,
   "id": "27ba5a10",
   "metadata": {},
   "outputs": [
    {
     "name": "stdout",
     "output_type": "stream",
     "text": [
      " Results from Random Search \n",
      "\n",
      " The best estimator across ALL searched params:\n",
      " MLPRegressor(activation='logistic', alpha=0.05,\n",
      "             hidden_layer_sizes=(50, 100, 50), learning_rate='adaptive',\n",
      "             max_iter=100, solver='lbfgs')\n"
     ]
    },
    {
     "name": "stderr",
     "output_type": "stream",
     "text": [
      "/Users/kasey.larsen/opt/anaconda3/lib/python3.8/site-packages/sklearn/neural_network/_multilayer_perceptron.py:500: ConvergenceWarning: lbfgs failed to converge (status=1):\n",
      "STOP: TOTAL NO. of ITERATIONS REACHED LIMIT.\n",
      "\n",
      "Increase the number of iterations (max_iter) or scale the data as shown in:\n",
      "    https://scikit-learn.org/stable/modules/preprocessing.html\n",
      "  self.n_iter_ = _check_optimize_result(\"lbfgs\", opt_res, self.max_iter)\n"
     ]
    }
   ],
   "source": [
    "mlp_random = RandomizedSearchCV(estimator = model, param_distributions = parameters, cv = 5, \n",
    "                               random_state=42, n_jobs = -1)\n",
    "mlp_random.fit(X_train, y_train)\n",
    "\n",
    "print(\" Results from Random Search \" )\n",
    "print(\"\\n The best estimator across ALL searched params:\\n\", mlp_random.best_estimator_)"
   ]
  },
  {
   "cell_type": "code",
   "execution_count": 39,
   "id": "ca16d757",
   "metadata": {},
   "outputs": [],
   "source": [
    "y_pred = mlp_random.predict(X_test)"
   ]
  },
  {
   "cell_type": "code",
   "execution_count": 40,
   "id": "27b21f2a",
   "metadata": {},
   "outputs": [
    {
     "name": "stdout",
     "output_type": "stream",
     "text": [
      "MSE:  0.0961799313841988\n",
      "MAE:  0.01941737852089272\n",
      "r2 Score:  0.9709655882967416\n"
     ]
    }
   ],
   "source": [
    "mse = mean_squared_error(y_test, y_pred)\n",
    "mae = mean_absolute_error(y_test, y_pred)\n",
    "r2 = r2_score(y_test, y_pred)\n",
    "print('MSE: ', mse)\n",
    "print('MAE: ', mae)\n",
    "print('r2 Score: ', r2)"
   ]
  },
  {
   "cell_type": "code",
   "execution_count": 41,
   "id": "9b735fa7",
   "metadata": {},
   "outputs": [
    {
     "data": {
      "image/png": "[encoded data removed]",
      "text/plain": [
       "<Figure size 432x288 with 1 Axes>"
      ]
     },
     "metadata": {
      "needs_background": "light"
     },
     "output_type": "display_data"
    }
   ],
   "source": [
    "fig, ax = plt.subplots()\n",
    "ax.scatter(y_test, y_pred, edgecolors=(0, 0, 0))\n",
    "ax.plot([y_test.min(), y_test.max()], [y_test.min(), y_test.max()], 'k--', lw=4)\n",
    "ax.set_xlabel('Measured')\n",
    "ax.set_ylabel('Predicted')\n",
    "plt.show()"
   ]
  },
  {
   "cell_type": "markdown",
   "id": "ffbbff98",
   "metadata": {},
   "source": [
    "## LightGBM"
   ]
  },
  {
   "cell_type": "code",
   "execution_count": 42,
   "id": "7e3f9698",
   "metadata": {},
   "outputs": [],
   "source": [
    "import lightgbm\n",
    "model = lightgbm.LGBMRegressor()\n",
    "         \n",
    "parameters = {'boosting_type': ['gbdt', 'dart', 'goss', 'rf'],\n",
    "              'num_leaves': [30, 32, 35, 40, 45, 50],\n",
    "              'max_depth': [3,4,5,10,15,20,25,50,75,100,125,150,200, None],\n",
    "              'learning_rate': [0.001,0.01,0.05,0.1,0.2,0.3],\n",
    "              'n_estimators': [5,10,15,20,25,30,40,50,75,100,200, 500, 1000],\n",
    "              'reg_alpha': [0.001,0.01,0.05,0.1,0.2,0.3],\n",
    "              'reg_lambda': [0.001,0.01,0.05,0.1,0.2,0.3],\n",
    "              'subsample': [0.1,0.2,0.3,0.4,0.5,0.6, 0.7, 0.8, 0.9, 1],\n",
    "              'subsample_freq': [0, 0.5, 1],\n",
    "              'colsample_bytree': [0.1,0.2,0.3,0.4,0.5,0.6, 0.7, 0.8, 0.9, 1]}"
   ]
  },
  {
   "cell_type": "code",
   "execution_count": 43,
   "id": "abc096ed",
   "metadata": {},
   "outputs": [
    {
     "name": "stdout",
     "output_type": "stream",
     "text": [
      " Results from Random Search \n",
      "\n",
      " The best estimator across ALL searched params:\n",
      " LGBMRegressor(boosting_type='dart', colsample_bytree=0.9, learning_rate=0.2,\n",
      "              max_depth=200, n_estimators=20, num_leaves=32, reg_alpha=0.2,\n",
      "              reg_lambda=0.001, subsample=0.9, subsample_freq=1)\n"
     ]
    },
    {
     "name": "stderr",
     "output_type": "stream",
     "text": [
      "/Users/kasey.larsen/opt/anaconda3/lib/python3.8/site-packages/sklearn/model_selection/_search.py:918: UserWarning: One or more of the test scores are non-finite: [       nan 0.16858075 0.11706081 0.99240406 0.99301714 0.83056362\n",
      " 0.97992981 0.98958601        nan 0.86845488]\n",
      "  warnings.warn(\n"
     ]
    }
   ],
   "source": [
    "lgbm_random = RandomizedSearchCV(estimator = model, param_distributions = parameters, n_iter = 10, cv = 5, \n",
    "                               verbose=False, random_state=42, n_jobs = -1)\n",
    "lgbm_random.fit(X_train, y_train)\n",
    "\n",
    "print(\" Results from Random Search \" )\n",
    "print(\"\\n The best estimator across ALL searched params:\\n\", lgbm_random.best_estimator_)"
   ]
  },
  {
   "cell_type": "code",
   "execution_count": 44,
   "id": "5ff3e3dd",
   "metadata": {},
   "outputs": [],
   "source": [
    "y_pred = mlp_random.predict(X_test)"
   ]
  },
  {
   "cell_type": "code",
   "execution_count": 45,
   "id": "f7e222a5",
   "metadata": {},
   "outputs": [
    {
     "name": "stdout",
     "output_type": "stream",
     "text": [
      "MSE:  0.0961799313841988\n",
      "MAE:  0.01941737852089272\n",
      "r2 Score:  0.9709655882967416\n"
     ]
    }
   ],
   "source": [
    "mse = mean_squared_error(y_test, y_pred)\n",
    "mae = mean_absolute_error(y_test, y_pred)\n",
    "r2 = r2_score(y_test, y_pred)\n",
    "print('MSE: ', mse)\n",
    "print('MAE: ', mae)\n",
    "print('r2 Score: ', r2)"
   ]
  },
  {
   "cell_type": "code",
   "execution_count": 46,
   "id": "e14e60ab",
   "metadata": {},
   "outputs": [
    {
     "data": {
      "image/png": "[encoded data removed]",
      "text/plain": [
       "<Figure size 432x288 with 1 Axes>"
      ]
     },
     "metadata": {
      "needs_background": "light"
     },
     "output_type": "display_data"
    }
   ],
   "source": [
    "fig, ax = plt.subplots()\n",
    "ax.scatter(y_test, y_pred, edgecolors=(0, 0, 0))\n",
    "ax.plot([y_test.min(), y_test.max()], [y_test.min(), y_test.max()], 'k--', lw=4)\n",
    "ax.set_xlabel('Measured')\n",
    "ax.set_ylabel('Predicted')\n",
    "plt.show()"
   ]
  },
  {
   "cell_type": "markdown",
   "id": "a0457c84",
   "metadata": {},
   "source": [
    "# PCA"
   ]
  },
  {
   "cell_type": "code",
   "execution_count": 47,
   "id": "e47c4d35",
   "metadata": {},
   "outputs": [],
   "source": [
    "from sklearn.decomposition import PCA\n",
    "\n",
    "pca = PCA(n_components=0.95)\n",
    "X_train = pca.fit_transform(X_train)\n",
    "X_test = pca.transform(X_test)"
   ]
  },
  {
   "cell_type": "markdown",
   "id": "a558cee2",
   "metadata": {},
   "source": [
    "## Decision Tree Regressor With PCA"
   ]
  },
  {
   "cell_type": "code",
   "execution_count": 48,
   "id": "72d32f09",
   "metadata": {},
   "outputs": [],
   "source": [
    "model = DecisionTreeRegressor()\n",
    "\n",
    "parameters = {'max_features': ['auto', 'sqrt', 'log2'],\n",
    "               'max_depth': [3,4,5,10,15,20,25,50,75,100,125,150,200, None],\n",
    "               'min_samples_split': [3,10,50,100,150,200,250,300,350,400,450,500,550,600,650,700],\n",
    "               'min_samples_leaf': [1,2,3,4,5,10,20,25, 30, 50, 75, 100],\n",
    "               'criterion': ['mse', 'friedman_mse', 'mae', 'poisson'],\n",
    "               'splitter': ['best', 'random']}"
   ]
  },
  {
   "cell_type": "code",
   "execution_count": 49,
   "id": "91b3beb2",
   "metadata": {},
   "outputs": [
    {
     "name": "stdout",
     "output_type": "stream",
     "text": [
      "Fitting 5 folds for each of 10 candidates, totalling 50 fits\n",
      " Results from Random Search \n",
      "\n",
      " The best estimator across ALL searched params:\n",
      " DecisionTreeRegressor(criterion='mae', max_depth=20, max_features='auto',\n",
      "                      min_samples_leaf=5, min_samples_split=300)\n"
     ]
    }
   ],
   "source": [
    "dt_random = RandomizedSearchCV(estimator = model, param_distributions = parameters, n_iter = 10, cv = 5, \n",
    "                               verbose=2, random_state=42, n_jobs = -1)\n",
    "dt_random.fit(X_train, y_train)\n",
    "\n",
    "print(\" Results from Random Search \" )\n",
    "print(\"\\n The best estimator across ALL searched params:\\n\", dt_random.best_estimator_)"
   ]
  },
  {
   "cell_type": "code",
   "execution_count": 50,
   "id": "153049bf",
   "metadata": {},
   "outputs": [],
   "source": [
    "y_pred = dt_random.predict(X_test)"
   ]
  },
  {
   "cell_type": "code",
   "execution_count": 51,
   "id": "b9194e47",
   "metadata": {},
   "outputs": [
    {
     "name": "stdout",
     "output_type": "stream",
     "text": [
      "MSE:  0.5048953121783066\n",
      "MAE:  0.037140502888604356\n",
      "r2 Score:  0.8475842293724231\n"
     ]
    }
   ],
   "source": [
    "mse = mean_squared_error(y_test, y_pred)\n",
    "mae = mean_absolute_error(y_test, y_pred)\n",
    "r2 = r2_score(y_test, y_pred)\n",
    "print('MSE: ', mse)\n",
    "print('MAE: ', mae)\n",
    "print('r2 Score: ', r2)"
   ]
  },
  {
   "cell_type": "code",
   "execution_count": 52,
   "id": "bb8638c5",
   "metadata": {},
   "outputs": [
    {
     "data": {
      "image/png": "[encoded data removed]",
      "text/plain": [
       "<Figure size 432x288 with 1 Axes>"
      ]
     },
     "metadata": {
      "needs_background": "light"
     },
     "output_type": "display_data"
    }
   ],
   "source": [
    "fig, ax = plt.subplots()\n",
    "ax.scatter(y_test, y_pred, edgecolors=(0, 0, 0))\n",
    "ax.plot([y_test.min(), y_test.max()], [y_test.min(), y_test.max()], 'k--', lw=4)\n",
    "ax.set_xlabel('Measured')\n",
    "ax.set_ylabel('Predicted')\n",
    "plt.show()"
   ]
  },
  {
   "cell_type": "markdown",
   "id": "70a6864f",
   "metadata": {},
   "source": [
    "## Random Forest Regession With PCA"
   ]
  },
  {
   "cell_type": "code",
   "execution_count": 53,
   "id": "be6d22f1",
   "metadata": {},
   "outputs": [],
   "source": [
    "model = RandomForestRegressor()\n",
    "\n",
    "parameters = {'n_estimators': [5,6,7,8,9,10,15,20,25,30,35,40,45,50,75,100,200],\n",
    "               'max_features': ['auto', 'sqrt', 'log2'],\n",
    "               'max_depth': [3,4,5,10,15,20,25,50,75,100,125,150,200, None],\n",
    "               'min_samples_split': [3,10,50,100,150,200,250,300,350,400,450,500,550,600,650,700],\n",
    "               'min_samples_leaf': [1,2,3,4,5,10,20,25, 30, 50, 75, 100],\n",
    "               'criterion': ['mse', 'mae']}\n"
   ]
  },
  {
   "cell_type": "code",
   "execution_count": 54,
   "id": "9de804ef",
   "metadata": {},
   "outputs": [
    {
     "name": "stdout",
     "output_type": "stream",
     "text": [
      "Fitting 5 folds for each of 10 candidates, totalling 50 fits\n",
      " Results from Random Search \n",
      "\n",
      " The best estimator across ALL searched params:\n",
      " RandomForestRegressor(criterion='mae', max_depth=3, min_samples_split=650,\n",
      "                      n_estimators=40)\n"
     ]
    }
   ],
   "source": [
    "rf_random = RandomizedSearchCV(estimator = model, param_distributions = parameters, n_iter = 10, cv = 5, \n",
    "                               verbose=2, random_state=42, n_jobs = -1)\n",
    "rf_random.fit(X_train, y_train)\n",
    "\n",
    "print(\" Results from Random Search \" )\n",
    "print(\"\\n The best estimator across ALL searched params:\\n\", rf_random.best_estimator_)"
   ]
  },
  {
   "cell_type": "code",
   "execution_count": 55,
   "id": "265cd27c",
   "metadata": {},
   "outputs": [],
   "source": [
    "y_pred = rf_random.predict(X_test)"
   ]
  },
  {
   "cell_type": "code",
   "execution_count": 56,
   "id": "5920bd75",
   "metadata": {},
   "outputs": [
    {
     "name": "stdout",
     "output_type": "stream",
     "text": [
      "MSE:  0.29823455606245747\n",
      "MAE:  0.03783286143626399\n",
      "r2 Score:  0.9099701490712596\n"
     ]
    }
   ],
   "source": [
    "mse = mean_squared_error(y_test, y_pred)\n",
    "mae = mean_absolute_error(y_test, y_pred)\n",
    "r2 = r2_score(y_test, y_pred)\n",
    "print('MSE: ', mse)\n",
    "print('MAE: ', mae)\n",
    "print('r2 Score: ', r2)"
   ]
  },
  {
   "cell_type": "code",
   "execution_count": 57,
   "id": "ac1516da",
   "metadata": {},
   "outputs": [
    {
     "data": {
      "image/png": "[encoded data removed]",
      "text/plain": [
       "<Figure size 432x288 with 1 Axes>"
      ]
     },
     "metadata": {
      "needs_background": "light"
     },
     "output_type": "display_data"
    }
   ],
   "source": [
    "fig, ax = plt.subplots()\n",
    "ax.scatter(y_test, y_pred, edgecolors=(0, 0, 0))\n",
    "ax.plot([y_test.min(), y_test.max()], [y_test.min(), y_test.max()], 'k--', lw=4)\n",
    "ax.set_xlabel('Measured')\n",
    "ax.set_ylabel('Predicted')\n",
    "plt.show()"
   ]
  },
  {
   "cell_type": "markdown",
   "id": "1a1708d9",
   "metadata": {},
   "source": [
    "## Gradient Boosting Regession With PCA"
   ]
  },
  {
   "cell_type": "code",
   "execution_count": 58,
   "id": "e3dcfb37",
   "metadata": {},
   "outputs": [],
   "source": [
    "model = GradientBoostingRegressor()\n",
    "\n",
    "parameters = {'loss': ['ls', 'lad', 'huber', 'quantile'],\n",
    "              'learning_rate': [0.001,0.01,0.05,0.1,0.2,0.3],\n",
    "               'n_estimators': [5,6,7,8,9,10,15,20,25,30,35,40,45,50,75,100,200],\n",
    "               'max_features': ['auto', 'sqrt', 'log2'],\n",
    "               'max_depth': [3,4,5,10,15,20,25,50,75,100,125,150,200, None],\n",
    "               'min_samples_split': [3,10,50,100,150,200,250,300,350,400,450,500,550,600,650,700],\n",
    "               'min_samples_leaf': [1,2,3,4,5,10,20,25, 30, 50, 75, 100],\n",
    "               'criterion': ['friedman_mse', 'mse', 'mae']}"
   ]
  },
  {
   "cell_type": "code",
   "execution_count": 59,
   "id": "b25cfd48",
   "metadata": {},
   "outputs": [
    {
     "name": "stdout",
     "output_type": "stream",
     "text": [
      " Results from Random Search \n",
      "\n",
      " The best estimator across ALL searched params:\n",
      " GradientBoostingRegressor(learning_rate=0.2, max_depth=15, max_features='auto',\n",
      "                          min_samples_leaf=25, min_samples_split=3,\n",
      "                          n_estimators=30)\n"
     ]
    }
   ],
   "source": [
    "gb_random = RandomizedSearchCV(estimator = model, param_distributions = parameters, n_iter = 10, cv = 5, \n",
    "                               random_state=42, n_jobs = -1)\n",
    "gb_random.fit(X_train, y_train)\n",
    "\n",
    "print(\" Results from Random Search \" )\n",
    "print(\"\\n The best estimator across ALL searched params:\\n\", gb_random.best_estimator_)"
   ]
  },
  {
   "cell_type": "code",
   "execution_count": 60,
   "id": "930828f4",
   "metadata": {},
   "outputs": [],
   "source": [
    "y_pred = gb_random.predict(X_test)"
   ]
  },
  {
   "cell_type": "code",
   "execution_count": 61,
   "id": "81bb2a4d",
   "metadata": {},
   "outputs": [
    {
     "name": "stdout",
     "output_type": "stream",
     "text": [
      "MSE:  0.24179024092805257\n",
      "MAE:  0.03682473709673767\n",
      "r2 Score:  0.9270093324054038\n"
     ]
    }
   ],
   "source": [
    "mse = mean_squared_error(y_test, y_pred)\n",
    "mae = mean_absolute_error(y_test, y_pred)\n",
    "r2 = r2_score(y_test, y_pred)\n",
    "print('MSE: ', mse)\n",
    "print('MAE: ', mae)\n",
    "print('r2 Score: ', r2)"
   ]
  },
  {
   "cell_type": "code",
   "execution_count": 62,
   "id": "17d661c2",
   "metadata": {},
   "outputs": [
    {
     "data": {
      "image/png": "[encoded data removed]",
      "text/plain": [
       "<Figure size 432x288 with 1 Axes>"
      ]
     },
     "metadata": {
      "needs_background": "light"
     },
     "output_type": "display_data"
    }
   ],
   "source": [
    "fig, ax = plt.subplots()\n",
    "ax.scatter(y_test, y_pred, edgecolors=(0, 0, 0))\n",
    "ax.plot([y_test.min(), y_test.max()], [y_test.min(), y_test.max()], 'k--', lw=4)\n",
    "ax.set_xlabel('Measured')\n",
    "ax.set_ylabel('Predicted')\n",
    "plt.show()"
   ]
  },
  {
   "cell_type": "markdown",
   "id": "f3109323",
   "metadata": {},
   "source": [
    "## MLPRegressor With PCA"
   ]
  },
  {
   "cell_type": "code",
   "execution_count": 63,
   "id": "4fb7ae59",
   "metadata": {},
   "outputs": [],
   "source": [
    "model = MLPRegressor(max_iter=100)\n",
    "\n",
    "parameters = {'hidden_layer_sizes': [(50,50,50), (50,100,50), (100,)],\n",
    "              'alpha': [0.001,0.01,0.05,0.1,0.2,0.3],\n",
    "              'activation' : ['identity', 'logistic', 'tanh', 'relu'],\n",
    "              'solver' : ['lbfgs', 'sgd', 'adam'],\n",
    "              'learning_rate': ['constant', 'invscaling', 'adaptive']}"
   ]
  },
  {
   "cell_type": "code",
   "execution_count": 64,
   "id": "5522c908",
   "metadata": {},
   "outputs": [
    {
     "name": "stdout",
     "output_type": "stream",
     "text": [
      " Results from Random Search \n",
      "\n",
      " The best estimator across ALL searched params:\n",
      " MLPRegressor(activation='logistic', alpha=0.001, max_iter=100, solver='sgd')\n"
     ]
    }
   ],
   "source": [
    "mlp_random = RandomizedSearchCV(estimator = model, param_distributions = parameters, cv = 5, \n",
    "                               random_state=42, n_jobs = -1)\n",
    "mlp_random.fit(X_train, y_train)\n",
    "\n",
    "print(\" Results from Random Search \" )\n",
    "print(\"\\n The best estimator across ALL searched params:\\n\", mlp_random.best_estimator_)"
   ]
  },
  {
   "cell_type": "code",
   "execution_count": 65,
   "id": "da375df7",
   "metadata": {},
   "outputs": [],
   "source": [
    "y_pred = mlp_random.predict(X_test)"
   ]
  },
  {
   "cell_type": "code",
   "execution_count": 66,
   "id": "5db595ce",
   "metadata": {},
   "outputs": [
    {
     "name": "stdout",
     "output_type": "stream",
     "text": [
      "MSE:  0.09817409357810226\n",
      "MAE:  0.05225131730255388\n",
      "r2 Score:  0.9703635986164871\n"
     ]
    }
   ],
   "source": [
    "mse = mean_squared_error(y_test, y_pred)\n",
    "mae = mean_absolute_error(y_test, y_pred)\n",
    "r2 = r2_score(y_test, y_pred)\n",
    "print('MSE: ', mse)\n",
    "print('MAE: ', mae)\n",
    "print('r2 Score: ', r2)"
   ]
  },
  {
   "cell_type": "code",
   "execution_count": 67,
   "id": "9e8972d4",
   "metadata": {},
   "outputs": [
    {
     "data": {
      "image/png": "[encoded data removed]",
      "text/plain": [
       "<Figure size 432x288 with 1 Axes>"
      ]
     },
     "metadata": {
      "needs_background": "light"
     },
     "output_type": "display_data"
    }
   ],
   "source": [
    "fig, ax = plt.subplots()\n",
    "ax.scatter(y_test, y_pred, edgecolors=(0, 0, 0))\n",
    "ax.plot([y_test.min(), y_test.max()], [y_test.min(), y_test.max()], 'k--', lw=4)\n",
    "ax.set_xlabel('Measured')\n",
    "ax.set_ylabel('Predicted')\n",
    "plt.show()"
   ]
  },
  {
   "cell_type": "markdown",
   "id": "e2a3164d",
   "metadata": {},
   "source": [
    "## Best Model Selection"
   ]
  },
  {
   "cell_type": "markdown",
   "id": "cca3cede",
   "metadata": {},
   "source": []
  },
  {
   "cell_type": "code",
   "execution_count": null,
   "id": "41b581bd",
   "metadata": {},
   "outputs": [],
   "source": []
  }
 ],
 "metadata": {
  "kernelspec": {
   "display_name": "Python 3",
   "language": "python",
   "name": "python3"
  },
  "language_info": {
   "codemirror_mode": {
    "name": "ipython",
    "version": 3
   },
   "file_extension": ".py",
   "mimetype": "text/x-python",
   "name": "python",
   "nbconvert_exporter": "python",
   "pygments_lexer": "ipython3",
   "version": "3.8.8"
  }
 },
 "nbformat": 4,
 "nbformat_minor": 5
}
