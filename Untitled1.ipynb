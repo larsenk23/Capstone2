{
 "cells": [
  {
   "cell_type": "code",
   "execution_count": 1,
   "id": "ce77bbe4",
   "metadata": {},
   "outputs": [],
   "source": [
    "import pandas as pd\n",
    "import json\n",
    "import numpy as np\n",
    "from datetime import datetime\n",
    "import math\n",
    "import time\n",
    "from datetime import datetime"
   ]
  },
  {
   "cell_type": "code",
   "execution_count": 2,
   "id": "72f83ab8",
   "metadata": {},
   "outputs": [
    {
     "name": "stderr",
     "output_type": "stream",
     "text": [
      "/Users/kasey.larsen/opt/anaconda3/lib/python3.8/site-packages/IPython/core/interactiveshell.py:3165: DtypeWarning: Columns (1) have mixed types.Specify dtype option on import or set low_memory=False.\n",
      "  has_raised = await self.run_ast_nodes(code_ast.body, cell_name,\n"
     ]
    }
   ],
   "source": [
    "df_2 = pd.read_csv('df_full.csv')"
   ]
  },
  {
   "cell_type": "code",
   "execution_count": 3,
   "id": "d16c27d3",
   "metadata": {},
   "outputs": [
    {
     "data": {
      "text/plain": [
       "0    84486\n",
       "1      899\n",
       "2       27\n",
       "3        2\n",
       "4        2\n",
       "5        1\n",
       "Name: transactions, dtype: int64"
      ]
     },
     "execution_count": 3,
     "metadata": {},
     "output_type": "execute_result"
    }
   ],
   "source": [
    "df_2['transactions'].value_counts()"
   ]
  },
  {
   "cell_type": "code",
   "execution_count": 5,
   "id": "a8830823",
   "metadata": {},
   "outputs": [],
   "source": [
    "df_trans = df_2.groupby(['fullVisitorId']).agg({'transactions': 'sum'}).reset_index()"
   ]
  },
  {
   "cell_type": "code",
   "execution_count": 6,
   "id": "de4e019f",
   "metadata": {},
   "outputs": [],
   "source": [
    "df_trans.columns = ['fullVisitorId', 'total_transactions']"
   ]
  },
  {
   "cell_type": "code",
   "execution_count": 7,
   "id": "a8225156",
   "metadata": {},
   "outputs": [
    {
     "data": {
      "text/plain": [
       "0    82927\n",
       "1      884\n",
       "2       31\n",
       "3        3\n",
       "4        3\n",
       "5        1\n",
       "Name: total_transactions, dtype: int64"
      ]
     },
     "execution_count": 7,
     "metadata": {},
     "output_type": "execute_result"
    }
   ],
   "source": [
    "df_trans['total_transactions'].value_counts()"
   ]
  },
  {
   "cell_type": "code",
   "execution_count": 8,
   "id": "27ee2d9e",
   "metadata": {},
   "outputs": [],
   "source": [
    "result = df_2.merge(df_trans, how='left', on=['fullVisitorId'])"
   ]
  },
  {
   "cell_type": "code",
   "execution_count": 9,
   "id": "a68f5552",
   "metadata": {},
   "outputs": [
    {
     "data": {
      "text/plain": [
       "0    84396\n",
       "1      955\n",
       "2       43\n",
       "4       16\n",
       "3        6\n",
       "5        1\n",
       "Name: total_transactions, dtype: int64"
      ]
     },
     "execution_count": 9,
     "metadata": {},
     "output_type": "execute_result"
    }
   ],
   "source": [
    "result['total_transactions'].value_counts()"
   ]
  },
  {
   "cell_type": "code",
   "execution_count": 11,
   "id": "fc1be062",
   "metadata": {},
   "outputs": [
    {
     "name": "stdout",
     "output_type": "stream",
     "text": [
      "<class 'pandas.core.frame.DataFrame'>\n",
      "Int64Index: 85417 entries, 0 to 85416\n",
      "Data columns (total 36 columns):\n",
      " #   Column                Non-Null Count  Dtype \n",
      "---  ------                --------------  ----- \n",
      " 0   channelGrouping       85417 non-null  object\n",
      " 1   fullVisitorId         85417 non-null  object\n",
      " 2   socialEngagementType  85417 non-null  object\n",
      " 3   visitNumber           85417 non-null  int64 \n",
      " 4   visitStartTime        85417 non-null  int64 \n",
      " 5   browser               85417 non-null  object\n",
      " 6   operatingSystem       85417 non-null  object\n",
      " 7   isMobile              85417 non-null  int64 \n",
      " 8   deviceCategory        85417 non-null  object\n",
      " 9   continent             85417 non-null  object\n",
      " 10  subContinent          85417 non-null  object\n",
      " 11  country               85417 non-null  object\n",
      " 12  region                85417 non-null  object\n",
      " 13  metro                 85417 non-null  object\n",
      " 14  city                  85417 non-null  object\n",
      " 15  networkDomain         85417 non-null  object\n",
      " 16  pageviews             85417 non-null  int64 \n",
      " 17  bounces               85417 non-null  int64 \n",
      " 18  newVisits             85417 non-null  int64 \n",
      " 19  sessionQualityDim     85417 non-null  int64 \n",
      " 20  timeOnSite            85417 non-null  int64 \n",
      " 21  transactions          85417 non-null  int64 \n",
      " 22  transactionRevenue    85417 non-null  int64 \n",
      " 23  campaign              85417 non-null  object\n",
      " 24  source                85417 non-null  object\n",
      " 25  medium                85417 non-null  object\n",
      " 26  keyword               85417 non-null  object\n",
      " 27  referralPath          85417 non-null  object\n",
      " 28  isTrueDirect          85417 non-null  object\n",
      " 29  campaignCode          85417 non-null  int64 \n",
      " 30  hits                  85417 non-null  int64 \n",
      " 31  weekday               85417 non-null  int64 \n",
      " 32  day                   85417 non-null  int64 \n",
      " 33  month                 85417 non-null  int64 \n",
      " 34  year                  85417 non-null  int64 \n",
      " 35  total_transactions    85417 non-null  int64 \n",
      "dtypes: int64(17), object(19)\n",
      "memory usage: 24.1+ MB\n"
     ]
    }
   ],
   "source": [
    "result.info()"
   ]
  },
  {
   "cell_type": "code",
   "execution_count": null,
   "id": "bc8a9daf",
   "metadata": {},
   "outputs": [],
   "source": []
  }
 ],
 "metadata": {
  "kernelspec": {
   "display_name": "Python 3",
   "language": "python",
   "name": "python3"
  },
  "language_info": {
   "codemirror_mode": {
    "name": "ipython",
    "version": 3
   },
   "file_extension": ".py",
   "mimetype": "text/x-python",
   "name": "python",
   "nbconvert_exporter": "python",
   "pygments_lexer": "ipython3",
   "version": "3.8.8"
  }
 },
 "nbformat": 4,
 "nbformat_minor": 5
}
