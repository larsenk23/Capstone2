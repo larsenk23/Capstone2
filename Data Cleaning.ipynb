{
 "cells": [
  {
   "cell_type": "markdown",
   "metadata": {},
   "source": [
    "# Data Cleaning- Google Analytics Customer Prediction"
   ]
  },
  {
   "cell_type": "markdown",
   "metadata": {},
   "source": [
    "## Table of Contents"
   ]
  },
  {
   "cell_type": "markdown",
   "metadata": {},
   "source": [
    "    1. Introduction\n",
    "    2. Importing\n",
    "    3. Creating new columns from json columns\n",
    "    4. Cleaning existing columns\n",
    "    5. Creating new columns\n",
    "    6. Saving Clean Data"
   ]
  },
  {
   "cell_type": "markdown",
   "metadata": {},
   "source": [
    "### 1. Introduction"
   ]
  },
  {
   "cell_type": "markdown",
   "metadata": {},
   "source": [
    "In this notebook, the data from Google Analytics will be formated and cleaned for the purpose of modeling. There are json columns that will be split into multiple columns. Additional two columns will be created, indicating previous customer and if a tranaction was complete. The latter will be the column used for predictions in future notebooks. "
   ]
  },
  {
   "cell_type": "markdown",
   "metadata": {},
   "source": [
    "### 2. Importing"
   ]
  },
  {
   "cell_type": "code",
   "execution_count": 1,
   "metadata": {},
   "outputs": [],
   "source": [
    "import pandas as pd\n",
    "import json\n",
    "import numpy as np\n",
    "from datetime import datetime\n",
    "import math\n",
    "import time\n",
    "from datetime import datetime"
   ]
  },
  {
   "cell_type": "code",
   "execution_count": 2,
   "metadata": {},
   "outputs": [
    {
     "name": "stderr",
     "output_type": "stream",
     "text": [
      "/Users/kasey.larsen/opt/anaconda3/lib/python3.8/site-packages/IPython/core/interactiveshell.py:3165: DtypeWarning: Columns (4) have mixed types.Specify dtype option on import or set low_memory=False.\n",
      "  has_raised = await self.run_ast_nodes(code_ast.body, cell_name,\n"
     ]
    }
   ],
   "source": [
    "df = pd.read_csv('train_v2.csv')"
   ]
  },
  {
   "cell_type": "markdown",
   "metadata": {},
   "source": [
    "### 3. Creating new columns from json columns"
   ]
  },
  {
   "cell_type": "code",
   "execution_count": 3,
   "metadata": {},
   "outputs": [],
   "source": [
    "#Label json columns\n",
    "json_columns = ['device', 'geoNetwork', 'totals', 'trafficSource']"
   ]
  },
  {
   "cell_type": "code",
   "execution_count": 4,
   "metadata": {},
   "outputs": [],
   "source": [
    "# Expand json columns\n",
    "for cols in json_columns:\n",
    "    df_norm = pd.json_normalize([json.loads(val) for val in df[cols]]).fillna(0)\n",
    "    df = pd.merge(df, df_norm, left_index=True, right_index=True)"
   ]
  },
  {
   "cell_type": "code",
   "execution_count": 5,
   "metadata": {},
   "outputs": [
    {
     "data": {
      "text/plain": [
       "(1708337, 64)"
      ]
     },
     "execution_count": 5,
     "metadata": {},
     "output_type": "execute_result"
    }
   ],
   "source": [
    "df.shape"
   ]
  },
  {
   "cell_type": "code",
   "execution_count": 6,
   "metadata": {},
   "outputs": [],
   "source": [
    "# Randomly take a fraction of the data\n",
    "df = df.sample(frac = 0.05)"
   ]
  },
  {
   "cell_type": "code",
   "execution_count": 7,
   "metadata": {},
   "outputs": [],
   "source": [
    "pd.set_option('display.max_rows', df.shape[0]+1)\n",
    "pd.set_option('display.max_columns', None)"
   ]
  },
  {
   "cell_type": "code",
   "execution_count": 8,
   "metadata": {},
   "outputs": [
    {
     "name": "stdout",
     "output_type": "stream",
     "text": [
      "<class 'pandas.core.frame.DataFrame'>\n",
      "Int64Index: 85417 entries, 1078605 to 319393\n",
      "Data columns (total 64 columns):\n",
      " #   Column                               Non-Null Count  Dtype \n",
      "---  ------                               --------------  ----- \n",
      " 0   channelGrouping                      85417 non-null  object\n",
      " 1   customDimensions                     85417 non-null  object\n",
      " 2   date                                 85417 non-null  int64 \n",
      " 3   device                               85417 non-null  object\n",
      " 4   fullVisitorId                        85417 non-null  object\n",
      " 5   geoNetwork                           85417 non-null  object\n",
      " 6   hits_x                               85417 non-null  object\n",
      " 7   socialEngagementType                 85417 non-null  object\n",
      " 8   totals                               85417 non-null  object\n",
      " 9   trafficSource                        85417 non-null  object\n",
      " 10  visitId                              85417 non-null  int64 \n",
      " 11  visitNumber                          85417 non-null  int64 \n",
      " 12  visitStartTime                       85417 non-null  int64 \n",
      " 13  browser                              85417 non-null  object\n",
      " 14  browserVersion                       85417 non-null  object\n",
      " 15  browserSize                          85417 non-null  object\n",
      " 16  operatingSystem                      85417 non-null  object\n",
      " 17  operatingSystemVersion               85417 non-null  object\n",
      " 18  isMobile                             85417 non-null  bool  \n",
      " 19  mobileDeviceBranding                 85417 non-null  object\n",
      " 20  mobileDeviceModel                    85417 non-null  object\n",
      " 21  mobileInputSelector                  85417 non-null  object\n",
      " 22  mobileDeviceInfo                     85417 non-null  object\n",
      " 23  mobileDeviceMarketingName            85417 non-null  object\n",
      " 24  flashVersion                         85417 non-null  object\n",
      " 25  language                             85417 non-null  object\n",
      " 26  screenColors                         85417 non-null  object\n",
      " 27  screenResolution                     85417 non-null  object\n",
      " 28  deviceCategory                       85417 non-null  object\n",
      " 29  continent                            85417 non-null  object\n",
      " 30  subContinent                         85417 non-null  object\n",
      " 31  country                              85417 non-null  object\n",
      " 32  region                               85417 non-null  object\n",
      " 33  metro                                85417 non-null  object\n",
      " 34  city                                 85417 non-null  object\n",
      " 35  cityId                               85417 non-null  object\n",
      " 36  networkDomain                        85417 non-null  object\n",
      " 37  latitude                             85417 non-null  object\n",
      " 38  longitude                            85417 non-null  object\n",
      " 39  networkLocation                      85417 non-null  object\n",
      " 40  visits                               85417 non-null  object\n",
      " 41  hits_y                               85417 non-null  object\n",
      " 42  pageviews                            85417 non-null  object\n",
      " 43  bounces                              85417 non-null  object\n",
      " 44  newVisits                            85417 non-null  object\n",
      " 45  sessionQualityDim                    85417 non-null  object\n",
      " 46  timeOnSite                           85417 non-null  object\n",
      " 47  transactions                         85417 non-null  object\n",
      " 48  transactionRevenue                   85417 non-null  object\n",
      " 49  totalTransactionRevenue              85417 non-null  object\n",
      " 50  campaign                             85417 non-null  object\n",
      " 51  source                               85417 non-null  object\n",
      " 52  medium                               85417 non-null  object\n",
      " 53  keyword                              85417 non-null  object\n",
      " 54  adwordsClickInfo.criteriaParameters  85417 non-null  object\n",
      " 55  referralPath                         85417 non-null  object\n",
      " 56  isTrueDirect                         85417 non-null  object\n",
      " 57  adContent                            85417 non-null  object\n",
      " 58  adwordsClickInfo.page                85417 non-null  object\n",
      " 59  adwordsClickInfo.slot                85417 non-null  object\n",
      " 60  adwordsClickInfo.gclId               85417 non-null  object\n",
      " 61  adwordsClickInfo.adNetworkType       85417 non-null  object\n",
      " 62  adwordsClickInfo.isVideoAd           85417 non-null  object\n",
      " 63  campaignCode                         85417 non-null  object\n",
      "dtypes: bool(1), int64(4), object(59)\n",
      "memory usage: 41.8+ MB\n"
     ]
    }
   ],
   "source": [
    "df.info()"
   ]
  },
  {
   "cell_type": "code",
   "execution_count": 9,
   "metadata": {},
   "outputs": [],
   "source": [
    "#Drop columns with jsons\n",
    "df = df.drop(['device', 'geoNetwork', 'totals', 'trafficSource', 'customDimensions', 'hits_x'], axis=1)"
   ]
  },
  {
   "cell_type": "markdown",
   "metadata": {},
   "source": [
    "### 4. Cleaning existing columns"
   ]
  },
  {
   "cell_type": "code",
   "execution_count": 10,
   "metadata": {},
   "outputs": [],
   "source": [
    "#Set dtype\n",
    "df['pageviews'] = df['pageviews'].astype(int)\n",
    "df['newVisits'] = df['newVisits'].astype(int)\n",
    "df['bounces'] = df['bounces'].astype(int)\n",
    "df['sessionQualityDim'] = df['sessionQualityDim'].astype(int)\n",
    "df['timeOnSite'] = df['timeOnSite'].astype(int)\n",
    "df['transactions'] = df['transactions'].astype(int)\n",
    "df['transactionRevenue'] = df['transactionRevenue'].astype(int)\n",
    "df['fullVisitorId'] = df['fullVisitorId'].astype(str)"
   ]
  },
  {
   "cell_type": "code",
   "execution_count": 11,
   "metadata": {},
   "outputs": [],
   "source": [
    "#Create Day, month, year columns\n",
    "df['date'] = pd.to_datetime(df['visitStartTime'], unit='s')\n",
    "df['weekday'] = df['date'].dt.weekday\n",
    "df['day'] = df['date'].dt.day\n",
    "df['month'] = df['date'].dt.month\n",
    "df['year'] = df['date'].dt.year\n",
    "df = df.drop(['date'], axis = 1)"
   ]
  },
  {
   "cell_type": "code",
   "execution_count": 12,
   "metadata": {},
   "outputs": [],
   "source": [
    "#Make columns ints\n",
    "df['isMobile'] = df['isMobile'].replace(True, 1)\n",
    "df['isMobile'] = df['isMobile'].replace(False, 0)\n",
    "df['isTrueDirect'] = df['isTrueDirect'].replace(False, 0)"
   ]
  },
  {
   "cell_type": "code",
   "execution_count": 13,
   "metadata": {},
   "outputs": [],
   "source": [
    "#Not in this dataset or all the same value\n",
    "df = df.drop(['socialEngagementType', 'visitId', 'visitStartTime', 'browserVersion', 'browserSize',\n",
    "                 'operatingSystemVersion', 'mobileDeviceBranding', 'mobileDeviceModel', 'mobileInputSelector',\n",
    "                 'mobileDeviceInfo', 'mobileDeviceMarketingName', 'flashVersion', 'language', 'screenColors',\n",
    "                 'screenResolution', 'cityId', 'latitude', 'longitude', 'networkLocation', \n",
    "                 'adwordsClickInfo.criteriaParameters', 'adwordsClickInfo.isVideoAd', 'campaign', 'visits',\n",
    "                 'bounces'], axis=1)"
   ]
  },
  {
   "cell_type": "code",
   "execution_count": 14,
   "metadata": {},
   "outputs": [],
   "source": [
    "# Replacing Values\n",
    "df.replace([np.nan, '(not set)', 'not available in demo dataset', '(not provided)'], 'Unknown', inplace = True)\n",
    "df['keyword'].replace(['0'], 'Unknown', inplace = True)\n",
    "df['isTrueDirect'].replace(['True'], 1, inplace = True)\n",
    "df['adwordsClickInfo.slot'].replace(['0'], 'None', inplace = True)\n",
    "df['adwordsClickInfo.adNetworkType'].replace(['0'], 'None', inplace = True)"
   ]
  },
  {
   "cell_type": "markdown",
   "metadata": {},
   "source": [
    "### 5. Creating new columns"
   ]
  },
  {
   "cell_type": "code",
   "execution_count": 15,
   "metadata": {},
   "outputs": [],
   "source": [
    "# Grouping fullVisitorId to find total transactions\n",
    "df_trans = df.groupby(['fullVisitorId']).agg({'transactions': 'sum'}).reset_index()\n",
    "df_trans.columns = ['fullVisitorId', 'total_transactions']\n",
    "df = df.merge(df_trans, how='left', on=['fullVisitorId'])"
   ]
  },
  {
   "cell_type": "code",
   "execution_count": 16,
   "metadata": {},
   "outputs": [],
   "source": [
    "# Creating a previousCustomer Column\n",
    "df['previousCustomer'] = np.nan\n",
    "df['previousCustomer'] = np.where(df['total_transactions'] == 0, 0, df['previousCustomer'])\n",
    "df['previousCustomer'] = np.where(df['total_transactions'] == 1, 0, df['previousCustomer'])\n",
    "df['previousCustomer'] = np.where(df['total_transactions'] > 1, 1, df['previousCustomer'])"
   ]
  },
  {
   "cell_type": "code",
   "execution_count": 17,
   "metadata": {},
   "outputs": [],
   "source": [
    "# Creating the transaction_Complete Column that will be the column predicted\n",
    "df['transaction_Complete'] = np.nan\n",
    "df['transaction_Complete'] = np.where(df['transactionRevenue'] == 0, False, df['transactionRevenue'])\n",
    "df['transaction_Complete'] = np.where(df['transactionRevenue'] > 1, True, df['transactionRevenue'])"
   ]
  },
  {
   "cell_type": "markdown",
   "metadata": {},
   "source": [
    "### 6. Saving Clean Data"
   ]
  },
  {
   "cell_type": "code",
   "execution_count": 18,
   "metadata": {},
   "outputs": [],
   "source": [
    "df.to_csv('df_clean.csv', index=False)"
   ]
  },
  {
   "cell_type": "code",
   "execution_count": null,
   "metadata": {},
   "outputs": [],
   "source": []
  }
 ],
 "metadata": {
  "kernelspec": {
   "display_name": "Python 3",
   "language": "python",
   "name": "python3"
  },
  "language_info": {
   "codemirror_mode": {
    "name": "ipython",
    "version": 3
   },
   "file_extension": ".py",
   "mimetype": "text/x-python",
   "name": "python",
   "nbconvert_exporter": "python",
   "pygments_lexer": "ipython3",
   "version": "3.8.8"
  }
 },
 "nbformat": 4,
 "nbformat_minor": 4
}
