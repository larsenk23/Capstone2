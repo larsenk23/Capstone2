{
 "cells": [
  {
   "cell_type": "code",
   "execution_count": 2,
   "metadata": {},
   "outputs": [],
   "source": [
    "import pandas as pd\n",
    "import json\n",
    "import numpy as np\n",
    "from datetime import datetime\n",
    "import math"
   ]
  },
  {
   "cell_type": "code",
   "execution_count": 2,
   "metadata": {},
   "outputs": [
    {
     "name": "stderr",
     "output_type": "stream",
     "text": [
      "/Users/kasey.larsen/opt/anaconda3/lib/python3.8/site-packages/IPython/core/interactiveshell.py:3165: DtypeWarning: Columns (4) have mixed types.Specify dtype option on import or set low_memory=False.\n",
      "  has_raised = await self.run_ast_nodes(code_ast.body, cell_name,\n"
     ]
    }
   ],
   "source": [
    "df = pd.read_csv('train_v2.csv')"
   ]
  },
  {
   "cell_type": "code",
   "execution_count": 3,
   "metadata": {},
   "outputs": [],
   "source": [
    "#Label json columns\n",
    "json_columns = ['device', 'geoNetwork', 'totals', 'trafficSource']"
   ]
  },
  {
   "cell_type": "code",
   "execution_count": 4,
   "metadata": {},
   "outputs": [],
   "source": [
    "# Expand json columns\n",
    "for cols in json_columns:\n",
    "    df_norm = pd.json_normalize([json.loads(val) for val in df[cols]]).fillna(0)\n",
    "    df = pd.merge(df, df_norm, left_index=True, right_index=True)"
   ]
  },
  {
   "cell_type": "code",
   "execution_count": 5,
   "metadata": {},
   "outputs": [
    {
     "data": {
      "text/plain": [
       "(1708337, 64)"
      ]
     },
     "execution_count": 5,
     "metadata": {},
     "output_type": "execute_result"
    }
   ],
   "source": [
    "df.shape"
   ]
  },
  {
   "cell_type": "code",
   "execution_count": 6,
   "metadata": {},
   "outputs": [],
   "source": [
    "# Randomly take a fraction of the data\n",
    "df_2 = df.sample(frac = 0.05)"
   ]
  },
  {
   "cell_type": "code",
   "execution_count": 7,
   "metadata": {},
   "outputs": [],
   "source": [
    "df_2.to_csv('df_2.csv', index=False)"
   ]
  },
  {
   "cell_type": "code",
   "execution_count": 3,
   "metadata": {},
   "outputs": [
    {
     "name": "stderr",
     "output_type": "stream",
     "text": [
      "/Users/kasey.larsen/opt/anaconda3/lib/python3.8/site-packages/IPython/core/interactiveshell.py:3165: DtypeWarning: Columns (4) have mixed types.Specify dtype option on import or set low_memory=False.\n",
      "  has_raised = await self.run_ast_nodes(code_ast.body, cell_name,\n"
     ]
    }
   ],
   "source": [
    "df_2 = pd.read_csv('df_2.csv')"
   ]
  },
  {
   "cell_type": "code",
   "execution_count": 4,
   "metadata": {},
   "outputs": [],
   "source": [
    "df_2 = df_2.sample(frac = 0.15)"
   ]
  },
  {
   "cell_type": "code",
   "execution_count": 5,
   "metadata": {},
   "outputs": [
    {
     "data": {
      "text/plain": [
       "(12813, 64)"
      ]
     },
     "execution_count": 5,
     "metadata": {},
     "output_type": "execute_result"
    }
   ],
   "source": [
    "df_2.shape"
   ]
  },
  {
   "cell_type": "code",
   "execution_count": 6,
   "metadata": {},
   "outputs": [
    {
     "data": {
      "text/html": [
       "<div>\n",
       "<style scoped>\n",
       "    .dataframe tbody tr th:only-of-type {\n",
       "        vertical-align: middle;\n",
       "    }\n",
       "\n",
       "    .dataframe tbody tr th {\n",
       "        vertical-align: top;\n",
       "    }\n",
       "\n",
       "    .dataframe thead th {\n",
       "        text-align: right;\n",
       "    }\n",
       "</style>\n",
       "<table border=\"1\" class=\"dataframe\">\n",
       "  <thead>\n",
       "    <tr style=\"text-align: right;\">\n",
       "      <th></th>\n",
       "      <th>channelGrouping</th>\n",
       "      <th>customDimensions</th>\n",
       "      <th>date</th>\n",
       "      <th>device</th>\n",
       "      <th>fullVisitorId</th>\n",
       "      <th>geoNetwork</th>\n",
       "      <th>hits_x</th>\n",
       "      <th>socialEngagementType</th>\n",
       "      <th>totals</th>\n",
       "      <th>trafficSource</th>\n",
       "      <th>...</th>\n",
       "      <th>adwordsClickInfo.criteriaParameters</th>\n",
       "      <th>referralPath</th>\n",
       "      <th>isTrueDirect</th>\n",
       "      <th>adContent</th>\n",
       "      <th>adwordsClickInfo.page</th>\n",
       "      <th>adwordsClickInfo.slot</th>\n",
       "      <th>adwordsClickInfo.gclId</th>\n",
       "      <th>adwordsClickInfo.adNetworkType</th>\n",
       "      <th>adwordsClickInfo.isVideoAd</th>\n",
       "      <th>campaignCode</th>\n",
       "    </tr>\n",
       "  </thead>\n",
       "  <tbody>\n",
       "    <tr>\n",
       "      <th>74055</th>\n",
       "      <td>Organic Search</td>\n",
       "      <td>[{'index': '4', 'value': 'APAC'}]</td>\n",
       "      <td>20170424</td>\n",
       "      <td>{\"browser\": \"Chrome\", \"browserVersion\": \"not a...</td>\n",
       "      <td>3190637071914852350</td>\n",
       "      <td>{\"continent\": \"Oceania\", \"subContinent\": \"Aust...</td>\n",
       "      <td>[{'hitNumber': '1', 'time': '0', 'hour': '18',...</td>\n",
       "      <td>Not Socially Engaged</td>\n",
       "      <td>{\"visits\": \"1\", \"hits\": \"1\", \"pageviews\": \"1\",...</td>\n",
       "      <td>{\"campaign\": \"(not set)\", \"source\": \"google\", ...</td>\n",
       "      <td>...</td>\n",
       "      <td>not available in demo dataset</td>\n",
       "      <td>0</td>\n",
       "      <td>0</td>\n",
       "      <td>0</td>\n",
       "      <td>0</td>\n",
       "      <td>0</td>\n",
       "      <td>0</td>\n",
       "      <td>0</td>\n",
       "      <td>0</td>\n",
       "      <td>0</td>\n",
       "    </tr>\n",
       "    <tr>\n",
       "      <th>45170</th>\n",
       "      <td>Organic Search</td>\n",
       "      <td>[{'index': '4', 'value': 'EMEA'}]</td>\n",
       "      <td>20170703</td>\n",
       "      <td>{\"browser\": \"Chrome\", \"browserVersion\": \"not a...</td>\n",
       "      <td>370719519968089832</td>\n",
       "      <td>{\"continent\": \"Europe\", \"subContinent\": \"North...</td>\n",
       "      <td>[{'hitNumber': '1', 'time': '0', 'hour': '12',...</td>\n",
       "      <td>Not Socially Engaged</td>\n",
       "      <td>{\"visits\": \"1\", \"hits\": \"1\", \"pageviews\": \"1\",...</td>\n",
       "      <td>{\"campaign\": \"(not set)\", \"source\": \"google\", ...</td>\n",
       "      <td>...</td>\n",
       "      <td>not available in demo dataset</td>\n",
       "      <td>0</td>\n",
       "      <td>0</td>\n",
       "      <td>0</td>\n",
       "      <td>0</td>\n",
       "      <td>0</td>\n",
       "      <td>0</td>\n",
       "      <td>0</td>\n",
       "      <td>0</td>\n",
       "      <td>0</td>\n",
       "    </tr>\n",
       "    <tr>\n",
       "      <th>1654</th>\n",
       "      <td>Organic Search</td>\n",
       "      <td>[{'index': '4', 'value': 'North America'}]</td>\n",
       "      <td>20170302</td>\n",
       "      <td>{\"browser\": \"Chrome\", \"browserVersion\": \"not a...</td>\n",
       "      <td>1089057926514092824</td>\n",
       "      <td>{\"continent\": \"Americas\", \"subContinent\": \"Nor...</td>\n",
       "      <td>[{'hitNumber': '1', 'time': '0', 'hour': '7', ...</td>\n",
       "      <td>Not Socially Engaged</td>\n",
       "      <td>{\"visits\": \"1\", \"hits\": \"1\", \"pageviews\": \"1\",...</td>\n",
       "      <td>{\"campaign\": \"(not set)\", \"source\": \"google\", ...</td>\n",
       "      <td>...</td>\n",
       "      <td>not available in demo dataset</td>\n",
       "      <td>0</td>\n",
       "      <td>0</td>\n",
       "      <td>0</td>\n",
       "      <td>0</td>\n",
       "      <td>0</td>\n",
       "      <td>0</td>\n",
       "      <td>0</td>\n",
       "      <td>0</td>\n",
       "      <td>0</td>\n",
       "    </tr>\n",
       "    <tr>\n",
       "      <th>67829</th>\n",
       "      <td>Organic Search</td>\n",
       "      <td>[{'index': '4', 'value': 'North America'}]</td>\n",
       "      <td>20161112</td>\n",
       "      <td>{\"browser\": \"Chrome\", \"browserVersion\": \"not a...</td>\n",
       "      <td>8666572047205914581</td>\n",
       "      <td>{\"continent\": \"Americas\", \"subContinent\": \"Nor...</td>\n",
       "      <td>[{'hitNumber': '1', 'time': '0', 'hour': '14',...</td>\n",
       "      <td>Not Socially Engaged</td>\n",
       "      <td>{\"visits\": \"1\", \"hits\": \"1\", \"pageviews\": \"1\",...</td>\n",
       "      <td>{\"campaign\": \"(not set)\", \"source\": \"(direct)\"...</td>\n",
       "      <td>...</td>\n",
       "      <td>not available in demo dataset</td>\n",
       "      <td>0</td>\n",
       "      <td>0</td>\n",
       "      <td>0</td>\n",
       "      <td>0</td>\n",
       "      <td>0</td>\n",
       "      <td>0</td>\n",
       "      <td>0</td>\n",
       "      <td>0</td>\n",
       "      <td>0</td>\n",
       "    </tr>\n",
       "    <tr>\n",
       "      <th>62534</th>\n",
       "      <td>Organic Search</td>\n",
       "      <td>[{'index': '4', 'value': 'North America'}]</td>\n",
       "      <td>20161220</td>\n",
       "      <td>{\"browser\": \"Chrome\", \"browserVersion\": \"not a...</td>\n",
       "      <td>6850892784069088067</td>\n",
       "      <td>{\"continent\": \"Americas\", \"subContinent\": \"Nor...</td>\n",
       "      <td>[{'hitNumber': '1', 'time': '0', 'hour': '22',...</td>\n",
       "      <td>Not Socially Engaged</td>\n",
       "      <td>{\"visits\": \"1\", \"hits\": \"2\", \"pageviews\": \"1\",...</td>\n",
       "      <td>{\"campaign\": \"(not set)\", \"source\": \"(direct)\"...</td>\n",
       "      <td>...</td>\n",
       "      <td>not available in demo dataset</td>\n",
       "      <td>0</td>\n",
       "      <td>True</td>\n",
       "      <td>0</td>\n",
       "      <td>0</td>\n",
       "      <td>0</td>\n",
       "      <td>0</td>\n",
       "      <td>0</td>\n",
       "      <td>0</td>\n",
       "      <td>0</td>\n",
       "    </tr>\n",
       "  </tbody>\n",
       "</table>\n",
       "<p>5 rows × 64 columns</p>\n",
       "</div>"
      ],
      "text/plain": [
       "      channelGrouping                            customDimensions      date  \\\n",
       "74055  Organic Search           [{'index': '4', 'value': 'APAC'}]  20170424   \n",
       "45170  Organic Search           [{'index': '4', 'value': 'EMEA'}]  20170703   \n",
       "1654   Organic Search  [{'index': '4', 'value': 'North America'}]  20170302   \n",
       "67829  Organic Search  [{'index': '4', 'value': 'North America'}]  20161112   \n",
       "62534  Organic Search  [{'index': '4', 'value': 'North America'}]  20161220   \n",
       "\n",
       "                                                  device        fullVisitorId  \\\n",
       "74055  {\"browser\": \"Chrome\", \"browserVersion\": \"not a...  3190637071914852350   \n",
       "45170  {\"browser\": \"Chrome\", \"browserVersion\": \"not a...   370719519968089832   \n",
       "1654   {\"browser\": \"Chrome\", \"browserVersion\": \"not a...  1089057926514092824   \n",
       "67829  {\"browser\": \"Chrome\", \"browserVersion\": \"not a...  8666572047205914581   \n",
       "62534  {\"browser\": \"Chrome\", \"browserVersion\": \"not a...  6850892784069088067   \n",
       "\n",
       "                                              geoNetwork  \\\n",
       "74055  {\"continent\": \"Oceania\", \"subContinent\": \"Aust...   \n",
       "45170  {\"continent\": \"Europe\", \"subContinent\": \"North...   \n",
       "1654   {\"continent\": \"Americas\", \"subContinent\": \"Nor...   \n",
       "67829  {\"continent\": \"Americas\", \"subContinent\": \"Nor...   \n",
       "62534  {\"continent\": \"Americas\", \"subContinent\": \"Nor...   \n",
       "\n",
       "                                                  hits_x  \\\n",
       "74055  [{'hitNumber': '1', 'time': '0', 'hour': '18',...   \n",
       "45170  [{'hitNumber': '1', 'time': '0', 'hour': '12',...   \n",
       "1654   [{'hitNumber': '1', 'time': '0', 'hour': '7', ...   \n",
       "67829  [{'hitNumber': '1', 'time': '0', 'hour': '14',...   \n",
       "62534  [{'hitNumber': '1', 'time': '0', 'hour': '22',...   \n",
       "\n",
       "       socialEngagementType  \\\n",
       "74055  Not Socially Engaged   \n",
       "45170  Not Socially Engaged   \n",
       "1654   Not Socially Engaged   \n",
       "67829  Not Socially Engaged   \n",
       "62534  Not Socially Engaged   \n",
       "\n",
       "                                                  totals  \\\n",
       "74055  {\"visits\": \"1\", \"hits\": \"1\", \"pageviews\": \"1\",...   \n",
       "45170  {\"visits\": \"1\", \"hits\": \"1\", \"pageviews\": \"1\",...   \n",
       "1654   {\"visits\": \"1\", \"hits\": \"1\", \"pageviews\": \"1\",...   \n",
       "67829  {\"visits\": \"1\", \"hits\": \"1\", \"pageviews\": \"1\",...   \n",
       "62534  {\"visits\": \"1\", \"hits\": \"2\", \"pageviews\": \"1\",...   \n",
       "\n",
       "                                           trafficSource  ...  \\\n",
       "74055  {\"campaign\": \"(not set)\", \"source\": \"google\", ...  ...   \n",
       "45170  {\"campaign\": \"(not set)\", \"source\": \"google\", ...  ...   \n",
       "1654   {\"campaign\": \"(not set)\", \"source\": \"google\", ...  ...   \n",
       "67829  {\"campaign\": \"(not set)\", \"source\": \"(direct)\"...  ...   \n",
       "62534  {\"campaign\": \"(not set)\", \"source\": \"(direct)\"...  ...   \n",
       "\n",
       "       adwordsClickInfo.criteriaParameters  referralPath  isTrueDirect  \\\n",
       "74055        not available in demo dataset             0             0   \n",
       "45170        not available in demo dataset             0             0   \n",
       "1654         not available in demo dataset             0             0   \n",
       "67829        not available in demo dataset             0             0   \n",
       "62534        not available in demo dataset             0          True   \n",
       "\n",
       "      adContent adwordsClickInfo.page adwordsClickInfo.slot  \\\n",
       "74055         0                     0                     0   \n",
       "45170         0                     0                     0   \n",
       "1654          0                     0                     0   \n",
       "67829         0                     0                     0   \n",
       "62534         0                     0                     0   \n",
       "\n",
       "      adwordsClickInfo.gclId adwordsClickInfo.adNetworkType  \\\n",
       "74055                      0                              0   \n",
       "45170                      0                              0   \n",
       "1654                       0                              0   \n",
       "67829                      0                              0   \n",
       "62534                      0                              0   \n",
       "\n",
       "       adwordsClickInfo.isVideoAd campaignCode  \n",
       "74055                           0            0  \n",
       "45170                           0            0  \n",
       "1654                            0            0  \n",
       "67829                           0            0  \n",
       "62534                           0            0  \n",
       "\n",
       "[5 rows x 64 columns]"
      ]
     },
     "execution_count": 6,
     "metadata": {},
     "output_type": "execute_result"
    }
   ],
   "source": [
    "df_2.head()"
   ]
  },
  {
   "cell_type": "code",
   "execution_count": 7,
   "metadata": {},
   "outputs": [
    {
     "name": "stdout",
     "output_type": "stream",
     "text": [
      "<class 'pandas.core.frame.DataFrame'>\n",
      "Int64Index: 12813 entries, 74055 to 44581\n",
      "Data columns (total 64 columns):\n",
      " #   Column                               Non-Null Count  Dtype \n",
      "---  ------                               --------------  ----- \n",
      " 0   channelGrouping                      12813 non-null  object\n",
      " 1   customDimensions                     12813 non-null  object\n",
      " 2   date                                 12813 non-null  int64 \n",
      " 3   device                               12813 non-null  object\n",
      " 4   fullVisitorId                        12813 non-null  object\n",
      " 5   geoNetwork                           12813 non-null  object\n",
      " 6   hits_x                               12813 non-null  object\n",
      " 7   socialEngagementType                 12813 non-null  object\n",
      " 8   totals                               12813 non-null  object\n",
      " 9   trafficSource                        12813 non-null  object\n",
      " 10  visitId                              12813 non-null  int64 \n",
      " 11  visitNumber                          12813 non-null  int64 \n",
      " 12  visitStartTime                       12813 non-null  int64 \n",
      " 13  browser                              12813 non-null  object\n",
      " 14  browserVersion                       12813 non-null  object\n",
      " 15  browserSize                          12813 non-null  object\n",
      " 16  operatingSystem                      12813 non-null  object\n",
      " 17  operatingSystemVersion               12813 non-null  object\n",
      " 18  isMobile                             12813 non-null  bool  \n",
      " 19  mobileDeviceBranding                 12813 non-null  object\n",
      " 20  mobileDeviceModel                    12813 non-null  object\n",
      " 21  mobileInputSelector                  12813 non-null  object\n",
      " 22  mobileDeviceInfo                     12813 non-null  object\n",
      " 23  mobileDeviceMarketingName            12813 non-null  object\n",
      " 24  flashVersion                         12813 non-null  object\n",
      " 25  language                             12813 non-null  object\n",
      " 26  screenColors                         12813 non-null  object\n",
      " 27  screenResolution                     12813 non-null  object\n",
      " 28  deviceCategory                       12813 non-null  object\n",
      " 29  continent                            12813 non-null  object\n",
      " 30  subContinent                         12813 non-null  object\n",
      " 31  country                              12813 non-null  object\n",
      " 32  region                               12813 non-null  object\n",
      " 33  metro                                12813 non-null  object\n",
      " 34  city                                 12813 non-null  object\n",
      " 35  cityId                               12813 non-null  object\n",
      " 36  networkDomain                        12813 non-null  object\n",
      " 37  latitude                             12813 non-null  object\n",
      " 38  longitude                            12813 non-null  object\n",
      " 39  networkLocation                      12813 non-null  object\n",
      " 40  visits                               12813 non-null  int64 \n",
      " 41  hits_y                               12813 non-null  int64 \n",
      " 42  pageviews                            12813 non-null  int64 \n",
      " 43  bounces                              12813 non-null  int64 \n",
      " 44  newVisits                            12813 non-null  int64 \n",
      " 45  sessionQualityDim                    12813 non-null  int64 \n",
      " 46  timeOnSite                           12813 non-null  int64 \n",
      " 47  transactions                         12813 non-null  int64 \n",
      " 48  transactionRevenue                   12813 non-null  int64 \n",
      " 49  totalTransactionRevenue              12813 non-null  int64 \n",
      " 50  campaign                             12813 non-null  object\n",
      " 51  source                               12813 non-null  object\n",
      " 52  medium                               12813 non-null  object\n",
      " 53  keyword                              12813 non-null  object\n",
      " 54  adwordsClickInfo.criteriaParameters  12813 non-null  object\n",
      " 55  referralPath                         12813 non-null  object\n",
      " 56  isTrueDirect                         12813 non-null  object\n",
      " 57  adContent                            12813 non-null  object\n",
      " 58  adwordsClickInfo.page                12813 non-null  int64 \n",
      " 59  adwordsClickInfo.slot                12813 non-null  object\n",
      " 60  adwordsClickInfo.gclId               12813 non-null  object\n",
      " 61  adwordsClickInfo.adNetworkType       12813 non-null  object\n",
      " 62  adwordsClickInfo.isVideoAd           12813 non-null  object\n",
      " 63  campaignCode                         12813 non-null  int64 \n",
      "dtypes: bool(1), int64(16), object(47)\n",
      "memory usage: 6.3+ MB\n"
     ]
    }
   ],
   "source": [
    "df_2.info()"
   ]
  },
  {
   "cell_type": "code",
   "execution_count": 8,
   "metadata": {},
   "outputs": [],
   "source": [
    "df_2['hits'] = df_2['hits_y']"
   ]
  },
  {
   "cell_type": "code",
   "execution_count": 9,
   "metadata": {},
   "outputs": [],
   "source": [
    "#Replace to get nan's\n",
    "df_2.replace(['(not set)', 'not available in demo dataset', '(none)'], np.nan, inplace=True)\n",
    "df_2['isTrueDirect'].replace(0, 'False', inplace=True)"
   ]
  },
  {
   "cell_type": "code",
   "execution_count": 10,
   "metadata": {},
   "outputs": [],
   "source": [
    "#Set dtype\n",
    "df_2['pageviews'] = df_2['pageviews'].astype(int)\n",
    "df_2['newVisits'] = df_2['newVisits'].astype(int)\n",
    "df_2['bounces'] = df_2['bounces'].astype(int)\n",
    "df_2['sessionQualityDim'] = df_2['sessionQualityDim'].astype(int)\n",
    "df_2['timeOnSite'] = df_2['timeOnSite'].astype(int)\n",
    "df_2['transactions'] = df_2['transactions'].astype(int)\n",
    "df_2['transactionRevenue'] = df_2['transactionRevenue'].astype(int)\n",
    "df_2['totalTransactionRevenue'] = df_2['totalTransactionRevenue'].astype(int)\n",
    "df_2['fullVisitorId'] = df_2['fullVisitorId'].astype(str)\n",
    "df_2['visitId'] = df_2['visitId'].astype(str)"
   ]
  },
  {
   "cell_type": "code",
   "execution_count": 11,
   "metadata": {},
   "outputs": [],
   "source": [
    "#Create Day, month, year columns\n",
    "df_2['date'] = pd.to_datetime(df_2['date'], format='%Y%m%d')\n",
    "df_2['weekday'] = df_2['date'].dt.weekday\n",
    "df_2['day'] = df_2['date'].dt.day\n",
    "df_2['month'] = df_2['date'].dt.month\n",
    "df_2['year'] = df_2['date'].dt.year"
   ]
  },
  {
   "cell_type": "code",
   "execution_count": 12,
   "metadata": {},
   "outputs": [],
   "source": [
    "#Make isMobile an int\n",
    "df_2['isMobile'] = df_2['isMobile'].replace(True, 1)\n",
    "df_2['isMobile'] = df_2['isMobile'].replace(False, 0)"
   ]
  },
  {
   "cell_type": "code",
   "execution_count": 13,
   "metadata": {},
   "outputs": [],
   "source": [
    "#Create an other in browser\n",
    "df_2['browser'].replace(['YaBrowser', 'Amazon Silk', 'Coc Coc', 'Android Browser', 'Mozilla Compatible Agent', 'Maxthon', 'BlackBerry',\n",
    "            'Puffin', 'Nintendo Browser', 'MRCHROME', 'Nokia Browser', 'SeaMonkey', 'osee2unifiedRelease',\n",
    "            'LYF_LS_4002_12', 'Seznam', 'Playstation Vita Browser', 'Mozilla', 'bsfnwveckhgpdoyjxmizruqtla',\n",
    "            'lpmqaxwbzyteokrfusnjhvdigc', 'DESKTOP', 'no-ua', 'Iron', ';__CT_JOB_ID__:6e9dcf2f-f58f-4938-91e3-77e00868177b;',\n",
    "            'lhkbrtuwomdeafnqygvxcspizj', 'efkaxnbyohqtspzlvcwrjmigdu', 'HTC802t_TD', 'Nichrome',\n",
    "            'ighfsbrmpoctzjqxlywdenvuka', 'Browser', np.nan], 'Other', inplace=True)"
   ]
  },
  {
   "cell_type": "code",
   "execution_count": 14,
   "metadata": {},
   "outputs": [],
   "source": [
    "#Create an other in operatingSystem\n",
    "df_2['operatingSystem'].replace(['Windows Phone', 'Samsung', 'Tizen', 'OS/2', 'Nintendo Wii', 'Firefox OS', 'Xbox', \n",
    "                               'Playstation Vita', 'Nintendo 3DS', np.nan], 'Other', inplace = True)"
   ]
  },
  {
   "cell_type": "code",
   "execution_count": 15,
   "metadata": {},
   "outputs": [
    {
     "data": {
      "text/plain": [
       "google                  4974\n",
       "(direct)                4225\n",
       "youtube.com             2462\n",
       "Other                    629\n",
       "analytics.google.com     272\n",
       "Partners                 251\n",
       "Name: source, dtype: int64"
      ]
     },
     "execution_count": 15,
     "metadata": {},
     "output_type": "execute_result"
    }
   ],
   "source": [
    "#Create an other in source\n",
    "mask = df_2.source.map(df_2.source.value_counts()) < 200\n",
    "df_2.source =  df_2.source.mask(mask, 'Other')\n",
    "df_2['source'].replace([np.nan], 'Other', inplace = True)\n",
    "df_2['source'].value_counts()"
   ]
  },
  {
   "cell_type": "code",
   "execution_count": 16,
   "metadata": {},
   "outputs": [
    {
     "data": {
      "text/plain": [
       "Northern America    5732\n",
       "Southern Asia        906\n",
       "Southeast Asia       897\n",
       "Western Europe       845\n",
       "Northern Europe      816\n",
       "Eastern Asia         679\n",
       "South America        601\n",
       "Eastern Europe       552\n",
       "Southern Europe      518\n",
       "Western Asia         478\n",
       "Other                343\n",
       "Australasia          229\n",
       "Central America      217\n",
       "Name: subContinent, dtype: int64"
      ]
     },
     "execution_count": 16,
     "metadata": {},
     "output_type": "execute_result"
    }
   ],
   "source": [
    "#Create an other in subContinent\n",
    "mask = df_2.subContinent.map(df_2.subContinent.value_counts()) < 200\n",
    "df_2.subContinent =  df_2.subContinent.mask(mask, 'Other')\n",
    "df_2['subContinent'].replace([np.nan], 'Other', inplace = True)\n",
    "df_2['subContinent'].value_counts()"
   ]
  },
  {
   "cell_type": "code",
   "execution_count": 17,
   "metadata": {},
   "outputs": [],
   "source": [
    "#Drop columns missing larger numbers of data or are closely linked to other columns\n",
    "df_2 = df_2.drop(['socialEngagementType', 'browserVersion', 'browserSize', 'operatingSystemVersion',\n",
    "                  'mobileDeviceBranding', 'adwordsClickInfo.criteriaParameters', 'mobileDeviceModel', \n",
    "                  'mobileInputSelector', 'mobileDeviceInfo', 'mobileDeviceMarketingName', 'flashVersion', \n",
    "                  'language', 'screenColors', 'screenResolution', 'metro', 'city', 'adwordsClickInfo.isVideoAd',\n",
    "                  'cityId', 'networkDomain', 'latitude', 'longitude', 'networkLocation', 'adwordsClickInfo.slot',\n",
    "                  'campaign', 'keyword', 'referralPath', 'adwordsClickInfo.gclId','adwordsClickInfo.page',\n",
    "                  'device', 'geoNetwork', 'totals', 'trafficSource', 'customDimensions', 'visits', 'hits_x', 'hits_y',\n",
    "                  'adwordsClickInfo.adNetworkType', 'adContent',\n",
    "                  'continent', 'country', 'date', 'transactionRevenue', 'visitId'], axis=1)\n"
   ]
  },
  {
   "cell_type": "code",
   "execution_count": 18,
   "metadata": {},
   "outputs": [
    {
     "data": {
      "text/plain": [
       "83"
      ]
     },
     "execution_count": 18,
     "metadata": {},
     "output_type": "execute_result"
    }
   ],
   "source": [
    "df_2['fullVisitorId'].duplicated().sum()"
   ]
  },
  {
   "cell_type": "code",
   "execution_count": 19,
   "metadata": {},
   "outputs": [],
   "source": [
    "#Group the customers by fullVisitorId\n",
    "df_2 = df_2.groupby(['fullVisitorId']).agg({'channelGrouping': lambda x:x.value_counts(dropna=False).index[0],  \n",
    "                                         'visitNumber': 'max', \n",
    "                                         'visitStartTime': 'mean',\n",
    "                                         'browser': lambda x:x.value_counts(dropna=False).index[0],\n",
    "                                         'operatingSystem': lambda x:x.value_counts(dropna=False).index[0],\n",
    "                                         'isMobile': lambda x:x.value_counts(dropna=False).index[0],\n",
    "                                         'deviceCategory': lambda x:x.value_counts(dropna=False).index[0],\n",
    "                                         'subContinent': lambda x:x.value_counts(dropna=False).index[0],\n",
    "                                         'hits': 'sum',\n",
    "                                         'pageviews': 'sum',\n",
    "                                         'bounces': 'sum',\n",
    "                                         'newVisits': 'sum',\n",
    "                                         'sessionQualityDim': 'mean',\n",
    "                                         'timeOnSite': 'sum',\n",
    "                                         'transactions': 'sum',\n",
    "                                         'totalTransactionRevenue': 'sum',\n",
    "                                         'source': lambda x:x.value_counts(dropna=False).index[0],\n",
    "                                         'weekday': 'max',\n",
    "                                         'day': 'max',\n",
    "                                         'month': 'max',\n",
    "                                         'year': 'max'\n",
    "                                        }).reset_index()"
   ]
  },
  {
   "cell_type": "code",
   "execution_count": 24,
   "metadata": {},
   "outputs": [
    {
     "name": "stdout",
     "output_type": "stream",
     "text": [
      "198803953.18286523\n"
     ]
    }
   ],
   "source": [
    "df_mean = np.mean(df_2['totalTransactionRevenue'])\n",
    "df_std = np.std(df_2['totalTransactionRevenue'])\n",
    "# identify outliers\n",
    "cut_off = df_std * 3\n",
    "upper = df_mean + cut_off\n",
    "print(upper)"
   ]
  },
  {
   "cell_type": "code",
   "execution_count": 25,
   "metadata": {},
   "outputs": [
    {
     "name": "stdout",
     "output_type": "stream",
     "text": [
      "Identified outliers: 19\n",
      "Non-outlier observations: 12711\n"
     ]
    }
   ],
   "source": [
    "# identify outliers\n",
    "outliers = [x for x in df_2['totalTransactionRevenue'] if x > upper]\n",
    "print('Identified outliers: %d' % len(outliers))\n",
    "# remove outliers\n",
    "df_outliers_removed = [x for x in df_2['totalTransactionRevenue'] if x <= upper]\n",
    "print('Non-outlier observations: %d' % len(df_outliers_removed))"
   ]
  },
  {
   "cell_type": "code",
   "execution_count": 26,
   "metadata": {},
   "outputs": [],
   "source": [
    " df_2 = df_2[(df_2['totalTransactionRevenue'] < upper)]"
   ]
  },
  {
   "cell_type": "code",
   "execution_count": 29,
   "metadata": {},
   "outputs": [],
   "source": [
    "df_2.to_csv('df_clean.csv', index=False)"
   ]
  },
  {
   "cell_type": "code",
   "execution_count": null,
   "metadata": {},
   "outputs": [],
   "source": []
  }
 ],
 "metadata": {
  "kernelspec": {
   "display_name": "Python 3",
   "language": "python",
   "name": "python3"
  },
  "language_info": {
   "codemirror_mode": {
    "name": "ipython",
    "version": 3
   },
   "file_extension": ".py",
   "mimetype": "text/x-python",
   "name": "python",
   "nbconvert_exporter": "python",
   "pygments_lexer": "ipython3",
   "version": "3.8.8"
  }
 },
 "nbformat": 4,
 "nbformat_minor": 4
}
