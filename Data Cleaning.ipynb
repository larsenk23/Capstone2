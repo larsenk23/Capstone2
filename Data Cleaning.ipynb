{
 "cells": [
  {
   "cell_type": "code",
   "execution_count": 11,
   "metadata": {},
   "outputs": [],
   "source": [
    "import pandas as pd\n",
    "import json\n",
    "import numpy as np\n",
    "from datetime import datetime\n",
    "import matplotlib.pyplot as plt\n",
    "%matplotlib inline\n",
    "from matplotlib import pyplot as plt\n",
    "import seaborn as sns\n",
    "import math"
   ]
  },
  {
   "cell_type": "code",
   "execution_count": 12,
   "metadata": {},
   "outputs": [],
   "source": [
    "df = pd.read_csv('train_v2.csv')"
   ]
  },
  {
   "cell_type": "code",
   "execution_count": 13,
   "metadata": {},
   "outputs": [
    {
     "data": {
      "text/plain": [
       "(1708337, 13)"
      ]
     },
     "execution_count": 13,
     "metadata": {},
     "output_type": "execute_result"
    }
   ],
   "source": [
    "df.shape"
   ]
  },
  {
   "cell_type": "code",
   "execution_count": 14,
   "metadata": {
    "scrolled": true
   },
   "outputs": [
    {
     "data": {
      "text/html": [
       "<div>\n",
       "<style scoped>\n",
       "    .dataframe tbody tr th:only-of-type {\n",
       "        vertical-align: middle;\n",
       "    }\n",
       "\n",
       "    .dataframe tbody tr th {\n",
       "        vertical-align: top;\n",
       "    }\n",
       "\n",
       "    .dataframe thead th {\n",
       "        text-align: right;\n",
       "    }\n",
       "</style>\n",
       "<table border=\"1\" class=\"dataframe\">\n",
       "  <thead>\n",
       "    <tr style=\"text-align: right;\">\n",
       "      <th></th>\n",
       "      <th>channelGrouping</th>\n",
       "      <th>customDimensions</th>\n",
       "      <th>date</th>\n",
       "      <th>device</th>\n",
       "      <th>fullVisitorId</th>\n",
       "      <th>geoNetwork</th>\n",
       "      <th>hits</th>\n",
       "      <th>socialEngagementType</th>\n",
       "      <th>totals</th>\n",
       "      <th>trafficSource</th>\n",
       "      <th>visitId</th>\n",
       "      <th>visitNumber</th>\n",
       "      <th>visitStartTime</th>\n",
       "    </tr>\n",
       "  </thead>\n",
       "  <tbody>\n",
       "    <tr>\n",
       "      <th>0</th>\n",
       "      <td>Organic Search</td>\n",
       "      <td>[{'index': '4', 'value': 'EMEA'}]</td>\n",
       "      <td>20171016</td>\n",
       "      <td>{\"browser\": \"Firefox\", \"browserVersion\": \"not ...</td>\n",
       "      <td>3162355547410993243</td>\n",
       "      <td>{\"continent\": \"Europe\", \"subContinent\": \"Weste...</td>\n",
       "      <td>[{'hitNumber': '1', 'time': '0', 'hour': '17',...</td>\n",
       "      <td>Not Socially Engaged</td>\n",
       "      <td>{\"visits\": \"1\", \"hits\": \"1\", \"pageviews\": \"1\",...</td>\n",
       "      <td>{\"campaign\": \"(not set)\", \"source\": \"google\", ...</td>\n",
       "      <td>1508198450</td>\n",
       "      <td>1</td>\n",
       "      <td>1508198450</td>\n",
       "    </tr>\n",
       "    <tr>\n",
       "      <th>1</th>\n",
       "      <td>Referral</td>\n",
       "      <td>[{'index': '4', 'value': 'North America'}]</td>\n",
       "      <td>20171016</td>\n",
       "      <td>{\"browser\": \"Chrome\", \"browserVersion\": \"not a...</td>\n",
       "      <td>8934116514970143966</td>\n",
       "      <td>{\"continent\": \"Americas\", \"subContinent\": \"Nor...</td>\n",
       "      <td>[{'hitNumber': '1', 'time': '0', 'hour': '10',...</td>\n",
       "      <td>Not Socially Engaged</td>\n",
       "      <td>{\"visits\": \"1\", \"hits\": \"2\", \"pageviews\": \"2\",...</td>\n",
       "      <td>{\"referralPath\": \"/a/google.com/transportation...</td>\n",
       "      <td>1508176307</td>\n",
       "      <td>6</td>\n",
       "      <td>1508176307</td>\n",
       "    </tr>\n",
       "    <tr>\n",
       "      <th>2</th>\n",
       "      <td>Direct</td>\n",
       "      <td>[{'index': '4', 'value': 'North America'}]</td>\n",
       "      <td>20171016</td>\n",
       "      <td>{\"browser\": \"Chrome\", \"browserVersion\": \"not a...</td>\n",
       "      <td>7992466427990357681</td>\n",
       "      <td>{\"continent\": \"Americas\", \"subContinent\": \"Nor...</td>\n",
       "      <td>[{'hitNumber': '1', 'time': '0', 'hour': '17',...</td>\n",
       "      <td>Not Socially Engaged</td>\n",
       "      <td>{\"visits\": \"1\", \"hits\": \"2\", \"pageviews\": \"2\",...</td>\n",
       "      <td>{\"campaign\": \"(not set)\", \"source\": \"(direct)\"...</td>\n",
       "      <td>1508201613</td>\n",
       "      <td>1</td>\n",
       "      <td>1508201613</td>\n",
       "    </tr>\n",
       "    <tr>\n",
       "      <th>3</th>\n",
       "      <td>Organic Search</td>\n",
       "      <td>[{'index': '4', 'value': 'EMEA'}]</td>\n",
       "      <td>20171016</td>\n",
       "      <td>{\"browser\": \"Chrome\", \"browserVersion\": \"not a...</td>\n",
       "      <td>9075655783635761930</td>\n",
       "      <td>{\"continent\": \"Asia\", \"subContinent\": \"Western...</td>\n",
       "      <td>[{'hitNumber': '1', 'time': '0', 'hour': '9', ...</td>\n",
       "      <td>Not Socially Engaged</td>\n",
       "      <td>{\"visits\": \"1\", \"hits\": \"2\", \"pageviews\": \"2\",...</td>\n",
       "      <td>{\"campaign\": \"(not set)\", \"source\": \"google\", ...</td>\n",
       "      <td>1508169851</td>\n",
       "      <td>1</td>\n",
       "      <td>1508169851</td>\n",
       "    </tr>\n",
       "    <tr>\n",
       "      <th>4</th>\n",
       "      <td>Organic Search</td>\n",
       "      <td>[{'index': '4', 'value': 'Central America'}]</td>\n",
       "      <td>20171016</td>\n",
       "      <td>{\"browser\": \"Chrome\", \"browserVersion\": \"not a...</td>\n",
       "      <td>6960673291025684308</td>\n",
       "      <td>{\"continent\": \"Americas\", \"subContinent\": \"Cen...</td>\n",
       "      <td>[{'hitNumber': '1', 'time': '0', 'hour': '14',...</td>\n",
       "      <td>Not Socially Engaged</td>\n",
       "      <td>{\"visits\": \"1\", \"hits\": \"2\", \"pageviews\": \"2\",...</td>\n",
       "      <td>{\"campaign\": \"(not set)\", \"source\": \"google\", ...</td>\n",
       "      <td>1508190552</td>\n",
       "      <td>1</td>\n",
       "      <td>1508190552</td>\n",
       "    </tr>\n",
       "  </tbody>\n",
       "</table>\n",
       "</div>"
      ],
      "text/plain": [
       "  channelGrouping                              customDimensions      date  \\\n",
       "0  Organic Search             [{'index': '4', 'value': 'EMEA'}]  20171016   \n",
       "1        Referral    [{'index': '4', 'value': 'North America'}]  20171016   \n",
       "2          Direct    [{'index': '4', 'value': 'North America'}]  20171016   \n",
       "3  Organic Search             [{'index': '4', 'value': 'EMEA'}]  20171016   \n",
       "4  Organic Search  [{'index': '4', 'value': 'Central America'}]  20171016   \n",
       "\n",
       "                                              device        fullVisitorId  \\\n",
       "0  {\"browser\": \"Firefox\", \"browserVersion\": \"not ...  3162355547410993243   \n",
       "1  {\"browser\": \"Chrome\", \"browserVersion\": \"not a...  8934116514970143966   \n",
       "2  {\"browser\": \"Chrome\", \"browserVersion\": \"not a...  7992466427990357681   \n",
       "3  {\"browser\": \"Chrome\", \"browserVersion\": \"not a...  9075655783635761930   \n",
       "4  {\"browser\": \"Chrome\", \"browserVersion\": \"not a...  6960673291025684308   \n",
       "\n",
       "                                          geoNetwork  \\\n",
       "0  {\"continent\": \"Europe\", \"subContinent\": \"Weste...   \n",
       "1  {\"continent\": \"Americas\", \"subContinent\": \"Nor...   \n",
       "2  {\"continent\": \"Americas\", \"subContinent\": \"Nor...   \n",
       "3  {\"continent\": \"Asia\", \"subContinent\": \"Western...   \n",
       "4  {\"continent\": \"Americas\", \"subContinent\": \"Cen...   \n",
       "\n",
       "                                                hits  socialEngagementType  \\\n",
       "0  [{'hitNumber': '1', 'time': '0', 'hour': '17',...  Not Socially Engaged   \n",
       "1  [{'hitNumber': '1', 'time': '0', 'hour': '10',...  Not Socially Engaged   \n",
       "2  [{'hitNumber': '1', 'time': '0', 'hour': '17',...  Not Socially Engaged   \n",
       "3  [{'hitNumber': '1', 'time': '0', 'hour': '9', ...  Not Socially Engaged   \n",
       "4  [{'hitNumber': '1', 'time': '0', 'hour': '14',...  Not Socially Engaged   \n",
       "\n",
       "                                              totals  \\\n",
       "0  {\"visits\": \"1\", \"hits\": \"1\", \"pageviews\": \"1\",...   \n",
       "1  {\"visits\": \"1\", \"hits\": \"2\", \"pageviews\": \"2\",...   \n",
       "2  {\"visits\": \"1\", \"hits\": \"2\", \"pageviews\": \"2\",...   \n",
       "3  {\"visits\": \"1\", \"hits\": \"2\", \"pageviews\": \"2\",...   \n",
       "4  {\"visits\": \"1\", \"hits\": \"2\", \"pageviews\": \"2\",...   \n",
       "\n",
       "                                       trafficSource     visitId  visitNumber  \\\n",
       "0  {\"campaign\": \"(not set)\", \"source\": \"google\", ...  1508198450            1   \n",
       "1  {\"referralPath\": \"/a/google.com/transportation...  1508176307            6   \n",
       "2  {\"campaign\": \"(not set)\", \"source\": \"(direct)\"...  1508201613            1   \n",
       "3  {\"campaign\": \"(not set)\", \"source\": \"google\", ...  1508169851            1   \n",
       "4  {\"campaign\": \"(not set)\", \"source\": \"google\", ...  1508190552            1   \n",
       "\n",
       "   visitStartTime  \n",
       "0      1508198450  \n",
       "1      1508176307  \n",
       "2      1508201613  \n",
       "3      1508169851  \n",
       "4      1508190552  "
      ]
     },
     "execution_count": 14,
     "metadata": {},
     "output_type": "execute_result"
    }
   ],
   "source": [
    "df.head()"
   ]
  },
  {
   "cell_type": "code",
   "execution_count": 15,
   "metadata": {},
   "outputs": [],
   "source": [
    "json_columns = ['device', 'geoNetwork', 'totals', 'trafficSource']"
   ]
  },
  {
   "cell_type": "code",
   "execution_count": 16,
   "metadata": {},
   "outputs": [],
   "source": [
    "for cols in json_columns:\n",
    "    df_norm = pd.json_normalize([json.loads(val) for val in df[cols]]).fillna(0)\n",
    "    df = pd.merge(df, df_norm, left_index=True, right_index=True)"
   ]
  },
  {
   "cell_type": "code",
   "execution_count": 17,
   "metadata": {},
   "outputs": [
    {
     "name": "stdout",
     "output_type": "stream",
     "text": [
      "<class 'pandas.core.frame.DataFrame'>\n",
      "RangeIndex: 1708337 entries, 0 to 1708336\n",
      "Data columns (total 64 columns):\n",
      " #   Column                               Dtype \n",
      "---  ------                               ----- \n",
      " 0   channelGrouping                      object\n",
      " 1   customDimensions                     object\n",
      " 2   date                                 int64 \n",
      " 3   device                               object\n",
      " 4   fullVisitorId                        object\n",
      " 5   geoNetwork                           object\n",
      " 6   hits_x                               object\n",
      " 7   socialEngagementType                 object\n",
      " 8   totals                               object\n",
      " 9   trafficSource                        object\n",
      " 10  visitId                              int64 \n",
      " 11  visitNumber                          int64 \n",
      " 12  visitStartTime                       int64 \n",
      " 13  browser                              object\n",
      " 14  browserVersion                       object\n",
      " 15  browserSize                          object\n",
      " 16  operatingSystem                      object\n",
      " 17  operatingSystemVersion               object\n",
      " 18  isMobile                             bool  \n",
      " 19  mobileDeviceBranding                 object\n",
      " 20  mobileDeviceModel                    object\n",
      " 21  mobileInputSelector                  object\n",
      " 22  mobileDeviceInfo                     object\n",
      " 23  mobileDeviceMarketingName            object\n",
      " 24  flashVersion                         object\n",
      " 25  language                             object\n",
      " 26  screenColors                         object\n",
      " 27  screenResolution                     object\n",
      " 28  deviceCategory                       object\n",
      " 29  continent                            object\n",
      " 30  subContinent                         object\n",
      " 31  country                              object\n",
      " 32  region                               object\n",
      " 33  metro                                object\n",
      " 34  city                                 object\n",
      " 35  cityId                               object\n",
      " 36  networkDomain                        object\n",
      " 37  latitude                             object\n",
      " 38  longitude                            object\n",
      " 39  networkLocation                      object\n",
      " 40  visits                               object\n",
      " 41  hits_y                               object\n",
      " 42  pageviews                            object\n",
      " 43  bounces                              object\n",
      " 44  newVisits                            object\n",
      " 45  sessionQualityDim                    object\n",
      " 46  timeOnSite                           object\n",
      " 47  transactions                         object\n",
      " 48  transactionRevenue                   object\n",
      " 49  totalTransactionRevenue              object\n",
      " 50  campaign                             object\n",
      " 51  source                               object\n",
      " 52  medium                               object\n",
      " 53  keyword                              object\n",
      " 54  adwordsClickInfo.criteriaParameters  object\n",
      " 55  referralPath                         object\n",
      " 56  isTrueDirect                         object\n",
      " 57  adContent                            object\n",
      " 58  adwordsClickInfo.page                object\n",
      " 59  adwordsClickInfo.slot                object\n",
      " 60  adwordsClickInfo.gclId               object\n",
      " 61  adwordsClickInfo.adNetworkType       object\n",
      " 62  adwordsClickInfo.isVideoAd           object\n",
      " 63  campaignCode                         object\n",
      "dtypes: bool(1), int64(4), object(59)\n",
      "memory usage: 822.7+ MB\n"
     ]
    }
   ],
   "source": [
    "df.info()"
   ]
  },
  {
   "cell_type": "code",
   "execution_count": 18,
   "metadata": {},
   "outputs": [],
   "source": [
    "df = df.drop(['socialEngagementType', 'browserVersion', 'browserSize', 'operatingSystemVersion',\n",
    "              'mobileDeviceBranding', 'adwordsClickInfo.criteriaParameters', 'mobileDeviceModel', \n",
    "              'mobileInputSelector', 'mobileDeviceInfo', 'mobileDeviceMarketingName', 'flashVersion', \n",
    "              'language', 'screenColors', 'screenResolution', 'metro', 'city', 'adwordsClickInfo.isVideoAd',\n",
    "              'cityId', 'networkDomain', 'latitude', 'longitude', 'networkLocation',\n",
    "              'campaign', 'keyword', 'referralPath', 'adwordsClickInfo.gclId',\n",
    "              'device', 'geoNetwork', 'totals', 'trafficSource', 'customDimensions', 'hits_x', 'visits'\n",
    "             ], axis=1)"
   ]
  },
  {
   "cell_type": "code",
   "execution_count": 19,
   "metadata": {},
   "outputs": [],
   "source": [
    "df.replace(['(not set)', 'not available in demo dataset', '(none)'], np.nan, inplace=True)\n",
    "df['isTrueDirect'].replace(0, 'False', inplace=True)\n",
    "df['adContent'].replace(0, np.nan, inplace=True)\n",
    "df['adwordsClickInfo.adNetworkType'].replace(0, np.nan, inplace=True)\n",
    "df['adwordsClickInfo.slot'].replace(0, np.nan, inplace=True)"
   ]
  },
  {
   "cell_type": "code",
   "execution_count": 20,
   "metadata": {},
   "outputs": [],
   "source": [
    "df['pageviews'] = df['pageviews'].astype(int)\n",
    "df['newVisits'] = df['newVisits'].astype(int)\n",
    "df['bounces'] = df['bounces'].astype(int)\n",
    "df['hits_y'] = df['hits_y'].astype(int)\n",
    "df['sessionQualityDim'] = df['sessionQualityDim'].astype(int)\n",
    "df['timeOnSite'] = df['timeOnSite'].astype(int)\n",
    "df['transactions'] = df['transactions'].astype(int)\n",
    "df['transactionRevenue'] = df['transactionRevenue'].astype(int)\n",
    "df['totalTransactionRevenue'] = df['totalTransactionRevenue'].astype(int)\n",
    "df['fullVisitorId'] = df['fullVisitorId'].astype(str)\n",
    "df['visitId'] = df['visitId'].astype(str)"
   ]
  },
  {
   "cell_type": "code",
   "execution_count": 21,
   "metadata": {},
   "outputs": [],
   "source": [
    "df['date'] = pd.to_datetime(df['date'], format='%Y%m%d')\n",
    "df['weekday'] = df['date'].dt.weekday\n",
    "df['day'] = df['date'].dt.day\n",
    "df['month'] = df['date'].dt.month\n",
    "df['year'] = df['date'].dt.year"
   ]
  },
  {
   "cell_type": "code",
   "execution_count": 22,
   "metadata": {},
   "outputs": [
    {
     "name": "stdout",
     "output_type": "stream",
     "text": [
      "<class 'pandas.core.frame.DataFrame'>\n",
      "RangeIndex: 1708337 entries, 0 to 1708336\n",
      "Data columns (total 35 columns):\n",
      " #   Column                          Dtype         \n",
      "---  ------                          -----         \n",
      " 0   channelGrouping                 object        \n",
      " 1   date                            datetime64[ns]\n",
      " 2   fullVisitorId                   object        \n",
      " 3   visitId                         object        \n",
      " 4   visitNumber                     int64         \n",
      " 5   visitStartTime                  int64         \n",
      " 6   browser                         object        \n",
      " 7   operatingSystem                 object        \n",
      " 8   isMobile                        bool          \n",
      " 9   deviceCategory                  object        \n",
      " 10  continent                       object        \n",
      " 11  subContinent                    object        \n",
      " 12  country                         object        \n",
      " 13  region                          object        \n",
      " 14  hits_y                          int64         \n",
      " 15  pageviews                       int64         \n",
      " 16  bounces                         int64         \n",
      " 17  newVisits                       int64         \n",
      " 18  sessionQualityDim               int64         \n",
      " 19  timeOnSite                      int64         \n",
      " 20  transactions                    int64         \n",
      " 21  transactionRevenue              int64         \n",
      " 22  totalTransactionRevenue         int64         \n",
      " 23  source                          object        \n",
      " 24  medium                          object        \n",
      " 25  isTrueDirect                    object        \n",
      " 26  adContent                       object        \n",
      " 27  adwordsClickInfo.page           object        \n",
      " 28  adwordsClickInfo.slot           object        \n",
      " 29  adwordsClickInfo.adNetworkType  object        \n",
      " 30  campaignCode                    object        \n",
      " 31  weekday                         int64         \n",
      " 32  day                             int64         \n",
      " 33  month                           int64         \n",
      " 34  year                            int64         \n",
      "dtypes: bool(1), datetime64[ns](1), int64(15), object(18)\n",
      "memory usage: 444.8+ MB\n"
     ]
    }
   ],
   "source": [
    "df.info()"
   ]
  },
  {
   "cell_type": "code",
   "execution_count": 23,
   "metadata": {},
   "outputs": [
    {
     "data": {
      "text/plain": [
       "376561"
      ]
     },
     "execution_count": 23,
     "metadata": {},
     "output_type": "execute_result"
    }
   ],
   "source": [
    "df['fullVisitorId'].duplicated().sum()"
   ]
  },
  {
   "cell_type": "code",
   "execution_count": 34,
   "metadata": {},
   "outputs": [],
   "source": [
    "df_2 = df.sample(frac = 0.05)"
   ]
  },
  {
   "cell_type": "code",
   "execution_count": 35,
   "metadata": {},
   "outputs": [
    {
     "data": {
      "text/plain": [
       "(85417, 35)"
      ]
     },
     "execution_count": 35,
     "metadata": {},
     "output_type": "execute_result"
    }
   ],
   "source": [
    "df_2.shape"
   ]
  },
  {
   "cell_type": "code",
   "execution_count": 36,
   "metadata": {},
   "outputs": [],
   "source": [
    "df_2 = df_2.groupby(['fullVisitorId']).agg({'channelGrouping': lambda x:x.value_counts(dropna=False).index[0], \n",
    "                                         'date': 'max', \n",
    "                                         'visitId': lambda x:x.value_counts(dropna=False).index[0], \n",
    "                                         'visitNumber': 'max', \n",
    "                                         'visitStartTime': 'mean',\n",
    "                                         'browser': lambda x:x.value_counts(dropna=False).index[0],\n",
    "                                         'operatingSystem': lambda x:x.value_counts(dropna=False).index[0],\n",
    "                                         'isMobile': lambda x:x.value_counts(dropna=False).index[0],\n",
    "                                         'deviceCategory': lambda x:x.value_counts(dropna=False).index[0],\n",
    "                                         'continent': lambda x:x.value_counts(dropna=False).index[0],\n",
    "                                         'subContinent': lambda x:x.value_counts(dropna=False).index[0],\n",
    "                                         'country': pd.Series.mode,\n",
    "                                         'hits_y': 'sum',\n",
    "                                         'pageviews': 'sum',\n",
    "                                         'bounces': 'sum',\n",
    "                                         'newVisits': 'sum',\n",
    "                                         'sessionQualityDim': 'mean',\n",
    "                                         'timeOnSite': 'sum',\n",
    "                                         'transactions': 'sum',\n",
    "                                         'transactionRevenue': 'sum',\n",
    "                                         'totalTransactionRevenue': 'sum',\n",
    "                                         'source': lambda x:x.value_counts(dropna=False).index[0],\n",
    "                                         'weekday': 'max',\n",
    "                                         'day': 'max',\n",
    "                                         'month': 'max',\n",
    "                                         'year': 'max'\n",
    "                                        }).reset_index()"
   ]
  },
  {
   "cell_type": "code",
   "execution_count": 37,
   "metadata": {},
   "outputs": [],
   "source": [
    "df_2.to_csv('df_clean.csv', index=False)"
   ]
  },
  {
   "cell_type": "code",
   "execution_count": null,
   "metadata": {},
   "outputs": [],
   "source": []
  }
 ],
 "metadata": {
  "kernelspec": {
   "display_name": "Python 3",
   "language": "python",
   "name": "python3"
  },
  "language_info": {
   "codemirror_mode": {
    "name": "ipython",
    "version": 3
   },
   "file_extension": ".py",
   "mimetype": "text/x-python",
   "name": "python",
   "nbconvert_exporter": "python",
   "pygments_lexer": "ipython3",
   "version": "3.8.2"
  }
 },
 "nbformat": 4,
 "nbformat_minor": 4
}
