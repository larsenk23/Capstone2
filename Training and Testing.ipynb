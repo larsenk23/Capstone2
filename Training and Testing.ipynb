{
 "cells": [
  {
   "cell_type": "code",
   "execution_count": 200,
   "metadata": {},
   "outputs": [],
   "source": [
    "import pandas as pd\n",
    "import numpy as np\n",
    "import os\n",
    "import pickle\n",
    "import matplotlib.pyplot as plt\n",
    "import seaborn as sns\n",
    "from sklearn import __version__ as sklearn_version\n",
    "from sklearn.decomposition import PCA\n",
    "from sklearn.preprocessing import scale\n",
    "from sklearn.model_selection import train_test_split, cross_validate, GridSearchCV, learning_curve\n",
    "from sklearn.preprocessing import StandardScaler, MinMaxScaler\n",
    "from sklearn.dummy import DummyRegressor\n",
    "from sklearn.linear_model import LinearRegression\n",
    "from sklearn.ensemble import RandomForestRegressor\n",
    "from sklearn.metrics import r2_score, mean_squared_error, mean_absolute_error\n",
    "from sklearn.pipeline import make_pipeline\n",
    "from sklearn.impute import SimpleImputer\n",
    "from sklearn.feature_selection import SelectKBest, f_regression\n",
    "import datetime\n",
    "from sklearn.feature_selection import chi2\n",
    "from sklearn.metrics import precision_recall_curve\n",
    "from sklearn.metrics import f1_score\n",
    "from sklearn.metrics import auc\n",
    "from sklearn.linear_model import LogisticRegression\n",
    "from matplotlib import pyplot\n",
    "from sklearn.metrics import classification_report,confusion_matrix,roc_curve,roc_auc_score\n",
    "from sklearn.metrics import accuracy_score,log_loss"
   ]
  },
  {
   "cell_type": "code",
   "execution_count": 201,
   "metadata": {},
   "outputs": [
    {
     "name": "stderr",
     "output_type": "stream",
     "text": [
      "/Users/kasey.larsen/opt/anaconda3/lib/python3.8/site-packages/IPython/core/interactiveshell.py:3146: DtypeWarning: Columns (0) have mixed types.Specify dtype option on import or set low_memory=False.\n",
      "  has_raised = await self.run_ast_nodes(code_ast.body, cell_name,\n"
     ]
    }
   ],
   "source": [
    "df = pd.read_csv('df.csv')"
   ]
  },
  {
   "cell_type": "code",
   "execution_count": 202,
   "metadata": {},
   "outputs": [
    {
     "data": {
      "text/html": [
       "<div>\n",
       "<style scoped>\n",
       "    .dataframe tbody tr th:only-of-type {\n",
       "        vertical-align: middle;\n",
       "    }\n",
       "\n",
       "    .dataframe tbody tr th {\n",
       "        vertical-align: top;\n",
       "    }\n",
       "\n",
       "    .dataframe thead th {\n",
       "        text-align: right;\n",
       "    }\n",
       "</style>\n",
       "<table border=\"1\" class=\"dataframe\">\n",
       "  <thead>\n",
       "    <tr style=\"text-align: right;\">\n",
       "      <th></th>\n",
       "      <th>fullVisitorId</th>\n",
       "      <th>channelGrouping</th>\n",
       "      <th>date</th>\n",
       "      <th>visitId</th>\n",
       "      <th>visitNumber</th>\n",
       "      <th>visitStartTime</th>\n",
       "      <th>browser</th>\n",
       "      <th>operatingSystem</th>\n",
       "      <th>isMobile</th>\n",
       "      <th>deviceCategory</th>\n",
       "      <th>...</th>\n",
       "      <th>sessionQualityDim</th>\n",
       "      <th>timeOnSite</th>\n",
       "      <th>transactions</th>\n",
       "      <th>transactionRevenue</th>\n",
       "      <th>totalTransactionRevenue</th>\n",
       "      <th>source</th>\n",
       "      <th>weekday</th>\n",
       "      <th>day</th>\n",
       "      <th>month</th>\n",
       "      <th>year</th>\n",
       "    </tr>\n",
       "  </thead>\n",
       "  <tbody>\n",
       "    <tr>\n",
       "      <th>0</th>\n",
       "      <td>461840188517261</td>\n",
       "      <td>Organic Search</td>\n",
       "      <td>2018-04-11</td>\n",
       "      <td>1523458419</td>\n",
       "      <td>1</td>\n",
       "      <td>1.523458e+09</td>\n",
       "      <td>Chrome</td>\n",
       "      <td>Windows</td>\n",
       "      <td>0.0</td>\n",
       "      <td>desktop</td>\n",
       "      <td>...</td>\n",
       "      <td>1</td>\n",
       "      <td>0</td>\n",
       "      <td>0</td>\n",
       "      <td>0</td>\n",
       "      <td>0</td>\n",
       "      <td>google</td>\n",
       "      <td>2</td>\n",
       "      <td>11</td>\n",
       "      <td>4</td>\n",
       "      <td>2018</td>\n",
       "    </tr>\n",
       "    <tr>\n",
       "      <th>1</th>\n",
       "      <td>650183049109374</td>\n",
       "      <td>Organic Search</td>\n",
       "      <td>2017-06-01</td>\n",
       "      <td>1496340796</td>\n",
       "      <td>1</td>\n",
       "      <td>1.496341e+09</td>\n",
       "      <td>Chrome</td>\n",
       "      <td>Android</td>\n",
       "      <td>1.0</td>\n",
       "      <td>mobile</td>\n",
       "      <td>...</td>\n",
       "      <td>0</td>\n",
       "      <td>211</td>\n",
       "      <td>0</td>\n",
       "      <td>0</td>\n",
       "      <td>0</td>\n",
       "      <td>google</td>\n",
       "      <td>3</td>\n",
       "      <td>1</td>\n",
       "      <td>6</td>\n",
       "      <td>2017</td>\n",
       "    </tr>\n",
       "    <tr>\n",
       "      <th>2</th>\n",
       "      <td>679030251760221</td>\n",
       "      <td>Organic Search</td>\n",
       "      <td>2016-09-18</td>\n",
       "      <td>1474198386</td>\n",
       "      <td>3</td>\n",
       "      <td>1.474198e+09</td>\n",
       "      <td>Edge</td>\n",
       "      <td>Windows</td>\n",
       "      <td>0.0</td>\n",
       "      <td>desktop</td>\n",
       "      <td>...</td>\n",
       "      <td>0</td>\n",
       "      <td>0</td>\n",
       "      <td>0</td>\n",
       "      <td>0</td>\n",
       "      <td>0</td>\n",
       "      <td>google</td>\n",
       "      <td>6</td>\n",
       "      <td>18</td>\n",
       "      <td>9</td>\n",
       "      <td>2016</td>\n",
       "    </tr>\n",
       "    <tr>\n",
       "      <th>3</th>\n",
       "      <td>750929315523353</td>\n",
       "      <td>Organic Search</td>\n",
       "      <td>2017-02-03</td>\n",
       "      <td>1486157741</td>\n",
       "      <td>1</td>\n",
       "      <td>1.486158e+09</td>\n",
       "      <td>Safari</td>\n",
       "      <td>Macintosh</td>\n",
       "      <td>0.0</td>\n",
       "      <td>desktop</td>\n",
       "      <td>...</td>\n",
       "      <td>0</td>\n",
       "      <td>0</td>\n",
       "      <td>0</td>\n",
       "      <td>0</td>\n",
       "      <td>0</td>\n",
       "      <td>(direct)</td>\n",
       "      <td>4</td>\n",
       "      <td>3</td>\n",
       "      <td>2</td>\n",
       "      <td>2017</td>\n",
       "    </tr>\n",
       "    <tr>\n",
       "      <th>4</th>\n",
       "      <td>3237279499166974</td>\n",
       "      <td>Referral</td>\n",
       "      <td>2018-03-03</td>\n",
       "      <td>1520086654</td>\n",
       "      <td>1</td>\n",
       "      <td>1.520087e+09</td>\n",
       "      <td>Chrome</td>\n",
       "      <td>Macintosh</td>\n",
       "      <td>0.0</td>\n",
       "      <td>desktop</td>\n",
       "      <td>...</td>\n",
       "      <td>1</td>\n",
       "      <td>79</td>\n",
       "      <td>0</td>\n",
       "      <td>0</td>\n",
       "      <td>0</td>\n",
       "      <td>Other</td>\n",
       "      <td>5</td>\n",
       "      <td>3</td>\n",
       "      <td>3</td>\n",
       "      <td>2018</td>\n",
       "    </tr>\n",
       "  </tbody>\n",
       "</table>\n",
       "<p>5 rows × 27 columns</p>\n",
       "</div>"
      ],
      "text/plain": [
       "      fullVisitorId channelGrouping        date     visitId  visitNumber  \\\n",
       "0   461840188517261  Organic Search  2018-04-11  1523458419            1   \n",
       "1   650183049109374  Organic Search  2017-06-01  1496340796            1   \n",
       "2   679030251760221  Organic Search  2016-09-18  1474198386            3   \n",
       "3   750929315523353  Organic Search  2017-02-03  1486157741            1   \n",
       "4  3237279499166974        Referral  2018-03-03  1520086654            1   \n",
       "\n",
       "   visitStartTime browser operatingSystem  isMobile deviceCategory  ...  \\\n",
       "0    1.523458e+09  Chrome         Windows       0.0        desktop  ...   \n",
       "1    1.496341e+09  Chrome         Android       1.0         mobile  ...   \n",
       "2    1.474198e+09    Edge         Windows       0.0        desktop  ...   \n",
       "3    1.486158e+09  Safari       Macintosh       0.0        desktop  ...   \n",
       "4    1.520087e+09  Chrome       Macintosh       0.0        desktop  ...   \n",
       "\n",
       "  sessionQualityDim timeOnSite transactions  transactionRevenue  \\\n",
       "0                 1          0            0                   0   \n",
       "1                 0        211            0                   0   \n",
       "2                 0          0            0                   0   \n",
       "3                 0          0            0                   0   \n",
       "4                 1         79            0                   0   \n",
       "\n",
       "   totalTransactionRevenue    source  weekday  day  month  year  \n",
       "0                        0    google        2   11      4  2018  \n",
       "1                        0    google        3    1      6  2017  \n",
       "2                        0    google        6   18      9  2016  \n",
       "3                        0  (direct)        4    3      2  2017  \n",
       "4                        0     Other        5    3      3  2018  \n",
       "\n",
       "[5 rows x 27 columns]"
      ]
     },
     "execution_count": 202,
     "metadata": {},
     "output_type": "execute_result"
    }
   ],
   "source": [
    "df.head()"
   ]
  },
  {
   "cell_type": "code",
   "execution_count": 203,
   "metadata": {},
   "outputs": [
    {
     "name": "stdout",
     "output_type": "stream",
     "text": [
      "<class 'pandas.core.frame.DataFrame'>\n",
      "RangeIndex: 82707 entries, 0 to 82706\n",
      "Data columns (total 27 columns):\n",
      " #   Column                   Non-Null Count  Dtype  \n",
      "---  ------                   --------------  -----  \n",
      " 0   fullVisitorId            82707 non-null  object \n",
      " 1   channelGrouping          82707 non-null  object \n",
      " 2   date                     82707 non-null  object \n",
      " 3   visitId                  82707 non-null  int64  \n",
      " 4   visitNumber              82707 non-null  int64  \n",
      " 5   visitStartTime           82707 non-null  float64\n",
      " 6   browser                  82707 non-null  object \n",
      " 7   operatingSystem          82707 non-null  object \n",
      " 8   isMobile                 82707 non-null  float64\n",
      " 9   deviceCategory           82707 non-null  object \n",
      " 10  continent                82707 non-null  object \n",
      " 11  subContinent             82707 non-null  object \n",
      " 12  country                  82707 non-null  object \n",
      " 13  hits_y                   82707 non-null  int64  \n",
      " 14  pageviews                82707 non-null  int64  \n",
      " 15  bounces                  82707 non-null  int64  \n",
      " 16  newVisits                82707 non-null  int64  \n",
      " 17  sessionQualityDim        82707 non-null  int64  \n",
      " 18  timeOnSite               82707 non-null  int64  \n",
      " 19  transactions             82707 non-null  int64  \n",
      " 20  transactionRevenue       82707 non-null  int64  \n",
      " 21  totalTransactionRevenue  82707 non-null  int64  \n",
      " 22  source                   82707 non-null  object \n",
      " 23  weekday                  82707 non-null  int64  \n",
      " 24  day                      82707 non-null  int64  \n",
      " 25  month                    82707 non-null  int64  \n",
      " 26  year                     82707 non-null  int64  \n",
      "dtypes: float64(2), int64(15), object(10)\n",
      "memory usage: 17.0+ MB\n"
     ]
    }
   ],
   "source": [
    "df.info()"
   ]
  },
  {
   "cell_type": "code",
   "execution_count": 204,
   "metadata": {},
   "outputs": [],
   "source": [
    "# Correct dtpes\n",
    "df['pageviews'] = df['pageviews'].astype(int)\n",
    "df['newVisits'] = df['newVisits'].astype(int)\n",
    "df['bounces'] = df['bounces'].astype(int)\n",
    "df['hits_y'] = df['hits_y'].astype(int)\n",
    "df['sessionQualityDim'] = df['sessionQualityDim'].astype(int)\n",
    "df['timeOnSite'] = df['timeOnSite'].astype(int)\n",
    "df['transactions'] = df['transactions'].astype(int)\n",
    "df['transactionRevenue'] = df['transactionRevenue'].astype(int)\n",
    "df['totalTransactionRevenue'] = df['totalTransactionRevenue'].astype(int)\n",
    "df['fullVisitorId'] = df['fullVisitorId'].astype(str)\n",
    "df['visitId'] = df['visitId'].astype(str)\n",
    "df['date'] = pd.to_datetime(df['date'], format='%Y-%m-%d')"
   ]
  },
  {
   "cell_type": "code",
   "execution_count": 205,
   "metadata": {},
   "outputs": [
    {
     "name": "stdout",
     "output_type": "stream",
     "text": [
      "<class 'pandas.core.frame.DataFrame'>\n",
      "RangeIndex: 82707 entries, 0 to 82706\n",
      "Data columns (total 27 columns):\n",
      " #   Column                   Non-Null Count  Dtype         \n",
      "---  ------                   --------------  -----         \n",
      " 0   fullVisitorId            82707 non-null  object        \n",
      " 1   channelGrouping          82707 non-null  object        \n",
      " 2   date                     82707 non-null  datetime64[ns]\n",
      " 3   visitId                  82707 non-null  object        \n",
      " 4   visitNumber              82707 non-null  int64         \n",
      " 5   visitStartTime           82707 non-null  float64       \n",
      " 6   browser                  82707 non-null  object        \n",
      " 7   operatingSystem          82707 non-null  object        \n",
      " 8   isMobile                 82707 non-null  float64       \n",
      " 9   deviceCategory           82707 non-null  object        \n",
      " 10  continent                82707 non-null  object        \n",
      " 11  subContinent             82707 non-null  object        \n",
      " 12  country                  82707 non-null  object        \n",
      " 13  hits_y                   82707 non-null  int64         \n",
      " 14  pageviews                82707 non-null  int64         \n",
      " 15  bounces                  82707 non-null  int64         \n",
      " 16  newVisits                82707 non-null  int64         \n",
      " 17  sessionQualityDim        82707 non-null  int64         \n",
      " 18  timeOnSite               82707 non-null  int64         \n",
      " 19  transactions             82707 non-null  int64         \n",
      " 20  transactionRevenue       82707 non-null  int64         \n",
      " 21  totalTransactionRevenue  82707 non-null  int64         \n",
      " 22  source                   82707 non-null  object        \n",
      " 23  weekday                  82707 non-null  int64         \n",
      " 24  day                      82707 non-null  int64         \n",
      " 25  month                    82707 non-null  int64         \n",
      " 26  year                     82707 non-null  int64         \n",
      "dtypes: datetime64[ns](1), float64(2), int64(14), object(10)\n",
      "memory usage: 17.0+ MB\n"
     ]
    }
   ],
   "source": [
    "df.info()"
   ]
  },
  {
   "cell_type": "code",
   "execution_count": 206,
   "metadata": {},
   "outputs": [],
   "source": [
    "df = df.drop(['continent', 'country', 'date', 'transactionRevenue'], axis=1)"
   ]
  },
  {
   "cell_type": "markdown",
   "metadata": {},
   "source": [
    "### Creating Dummy Regressors"
   ]
  },
  {
   "cell_type": "code",
   "execution_count": 207,
   "metadata": {},
   "outputs": [],
   "source": [
    "#Get dummies for catergorical data\n",
    "df = pd.get_dummies(df, columns=['channelGrouping'], prefix=['channel'])\n",
    "df = pd.get_dummies(df, columns=['browser'], prefix=['browser'])\n",
    "df = pd.get_dummies(df, columns=['operatingSystem'], prefix=['operatingSystem'])\n",
    "df = pd.get_dummies(df, columns=['deviceCategory'], prefix=['deviceCategory'])\n",
    "df = pd.get_dummies(df, columns=['subContinent'], prefix=['subContinent'])\n",
    "df = pd.get_dummies(df, columns=['source'], prefix=['source'])"
   ]
  },
  {
   "cell_type": "code",
   "execution_count": 208,
   "metadata": {},
   "outputs": [
    {
     "data": {
      "text/html": [
       "<div>\n",
       "<style scoped>\n",
       "    .dataframe tbody tr th:only-of-type {\n",
       "        vertical-align: middle;\n",
       "    }\n",
       "\n",
       "    .dataframe tbody tr th {\n",
       "        vertical-align: top;\n",
       "    }\n",
       "\n",
       "    .dataframe thead th {\n",
       "        text-align: right;\n",
       "    }\n",
       "</style>\n",
       "<table border=\"1\" class=\"dataframe\">\n",
       "  <thead>\n",
       "    <tr style=\"text-align: right;\">\n",
       "      <th></th>\n",
       "      <th>fullVisitorId</th>\n",
       "      <th>visitId</th>\n",
       "      <th>visitNumber</th>\n",
       "      <th>visitStartTime</th>\n",
       "      <th>isMobile</th>\n",
       "      <th>hits_y</th>\n",
       "      <th>pageviews</th>\n",
       "      <th>bounces</th>\n",
       "      <th>newVisits</th>\n",
       "      <th>sessionQualityDim</th>\n",
       "      <th>...</th>\n",
       "      <th>source_Partners</th>\n",
       "      <th>source_analytics.google.com</th>\n",
       "      <th>source_baidu</th>\n",
       "      <th>source_dfa</th>\n",
       "      <th>source_google</th>\n",
       "      <th>source_google.com</th>\n",
       "      <th>source_m.facebook.com</th>\n",
       "      <th>source_reddit.com</th>\n",
       "      <th>source_sites.google.com</th>\n",
       "      <th>source_youtube.com</th>\n",
       "    </tr>\n",
       "  </thead>\n",
       "  <tbody>\n",
       "    <tr>\n",
       "      <th>0</th>\n",
       "      <td>461840188517261</td>\n",
       "      <td>1523458419</td>\n",
       "      <td>1</td>\n",
       "      <td>1.523458e+09</td>\n",
       "      <td>0.0</td>\n",
       "      <td>1</td>\n",
       "      <td>1</td>\n",
       "      <td>1</td>\n",
       "      <td>1</td>\n",
       "      <td>1</td>\n",
       "      <td>...</td>\n",
       "      <td>0</td>\n",
       "      <td>0</td>\n",
       "      <td>0</td>\n",
       "      <td>0</td>\n",
       "      <td>1</td>\n",
       "      <td>0</td>\n",
       "      <td>0</td>\n",
       "      <td>0</td>\n",
       "      <td>0</td>\n",
       "      <td>0</td>\n",
       "    </tr>\n",
       "    <tr>\n",
       "      <th>1</th>\n",
       "      <td>650183049109374</td>\n",
       "      <td>1496340796</td>\n",
       "      <td>1</td>\n",
       "      <td>1.496341e+09</td>\n",
       "      <td>1.0</td>\n",
       "      <td>11</td>\n",
       "      <td>10</td>\n",
       "      <td>0</td>\n",
       "      <td>1</td>\n",
       "      <td>0</td>\n",
       "      <td>...</td>\n",
       "      <td>0</td>\n",
       "      <td>0</td>\n",
       "      <td>0</td>\n",
       "      <td>0</td>\n",
       "      <td>1</td>\n",
       "      <td>0</td>\n",
       "      <td>0</td>\n",
       "      <td>0</td>\n",
       "      <td>0</td>\n",
       "      <td>0</td>\n",
       "    </tr>\n",
       "    <tr>\n",
       "      <th>2</th>\n",
       "      <td>679030251760221</td>\n",
       "      <td>1474198386</td>\n",
       "      <td>3</td>\n",
       "      <td>1.474198e+09</td>\n",
       "      <td>0.0</td>\n",
       "      <td>1</td>\n",
       "      <td>1</td>\n",
       "      <td>1</td>\n",
       "      <td>0</td>\n",
       "      <td>0</td>\n",
       "      <td>...</td>\n",
       "      <td>0</td>\n",
       "      <td>0</td>\n",
       "      <td>0</td>\n",
       "      <td>0</td>\n",
       "      <td>1</td>\n",
       "      <td>0</td>\n",
       "      <td>0</td>\n",
       "      <td>0</td>\n",
       "      <td>0</td>\n",
       "      <td>0</td>\n",
       "    </tr>\n",
       "    <tr>\n",
       "      <th>3</th>\n",
       "      <td>750929315523353</td>\n",
       "      <td>1486157741</td>\n",
       "      <td>1</td>\n",
       "      <td>1.486158e+09</td>\n",
       "      <td>0.0</td>\n",
       "      <td>1</td>\n",
       "      <td>1</td>\n",
       "      <td>1</td>\n",
       "      <td>1</td>\n",
       "      <td>0</td>\n",
       "      <td>...</td>\n",
       "      <td>0</td>\n",
       "      <td>0</td>\n",
       "      <td>0</td>\n",
       "      <td>0</td>\n",
       "      <td>0</td>\n",
       "      <td>0</td>\n",
       "      <td>0</td>\n",
       "      <td>0</td>\n",
       "      <td>0</td>\n",
       "      <td>0</td>\n",
       "    </tr>\n",
       "    <tr>\n",
       "      <th>4</th>\n",
       "      <td>3237279499166974</td>\n",
       "      <td>1520086654</td>\n",
       "      <td>1</td>\n",
       "      <td>1.520087e+09</td>\n",
       "      <td>0.0</td>\n",
       "      <td>10</td>\n",
       "      <td>6</td>\n",
       "      <td>0</td>\n",
       "      <td>1</td>\n",
       "      <td>1</td>\n",
       "      <td>...</td>\n",
       "      <td>0</td>\n",
       "      <td>0</td>\n",
       "      <td>0</td>\n",
       "      <td>0</td>\n",
       "      <td>0</td>\n",
       "      <td>0</td>\n",
       "      <td>0</td>\n",
       "      <td>0</td>\n",
       "      <td>0</td>\n",
       "      <td>0</td>\n",
       "    </tr>\n",
       "  </tbody>\n",
       "</table>\n",
       "<p>5 rows × 78 columns</p>\n",
       "</div>"
      ],
      "text/plain": [
       "      fullVisitorId     visitId  visitNumber  visitStartTime  isMobile  \\\n",
       "0   461840188517261  1523458419            1    1.523458e+09       0.0   \n",
       "1   650183049109374  1496340796            1    1.496341e+09       1.0   \n",
       "2   679030251760221  1474198386            3    1.474198e+09       0.0   \n",
       "3   750929315523353  1486157741            1    1.486158e+09       0.0   \n",
       "4  3237279499166974  1520086654            1    1.520087e+09       0.0   \n",
       "\n",
       "   hits_y  pageviews  bounces  newVisits  sessionQualityDim  ...  \\\n",
       "0       1          1        1          1                  1  ...   \n",
       "1      11         10        0          1                  0  ...   \n",
       "2       1          1        1          0                  0  ...   \n",
       "3       1          1        1          1                  0  ...   \n",
       "4      10          6        0          1                  1  ...   \n",
       "\n",
       "   source_Partners  source_analytics.google.com  source_baidu  source_dfa  \\\n",
       "0                0                            0             0           0   \n",
       "1                0                            0             0           0   \n",
       "2                0                            0             0           0   \n",
       "3                0                            0             0           0   \n",
       "4                0                            0             0           0   \n",
       "\n",
       "   source_google  source_google.com  source_m.facebook.com  source_reddit.com  \\\n",
       "0              1                  0                      0                  0   \n",
       "1              1                  0                      0                  0   \n",
       "2              1                  0                      0                  0   \n",
       "3              0                  0                      0                  0   \n",
       "4              0                  0                      0                  0   \n",
       "\n",
       "   source_sites.google.com  source_youtube.com  \n",
       "0                        0                   0  \n",
       "1                        0                   0  \n",
       "2                        0                   0  \n",
       "3                        0                   0  \n",
       "4                        0                   0  \n",
       "\n",
       "[5 rows x 78 columns]"
      ]
     },
     "execution_count": 208,
     "metadata": {},
     "output_type": "execute_result"
    }
   ],
   "source": [
    "df.head()"
   ]
  },
  {
   "cell_type": "markdown",
   "metadata": {},
   "source": [
    "### Spliting data to Train/Test"
   ]
  },
  {
   "cell_type": "code",
   "execution_count": 209,
   "metadata": {},
   "outputs": [
    {
     "data": {
      "text/plain": [
       "(57894.899999999994, 24812.1)"
      ]
     },
     "execution_count": 209,
     "metadata": {},
     "output_type": "execute_result"
    }
   ],
   "source": [
    "len(df) * .7, len(df) * .3"
   ]
  },
  {
   "cell_type": "code",
   "execution_count": 210,
   "metadata": {},
   "outputs": [],
   "source": [
    "#Get train/test data\n",
    "X_train, X_test, y_train, y_test = train_test_split(df.drop(columns='totalTransactionRevenue'), \n",
    "                                                    df.totalTransactionRevenue, test_size=0.3, \n",
    "                                                    random_state=47)"
   ]
  },
  {
   "cell_type": "code",
   "execution_count": 211,
   "metadata": {},
   "outputs": [
    {
     "data": {
      "text/plain": [
       "((57894, 77), (24813, 77))"
      ]
     },
     "execution_count": 211,
     "metadata": {},
     "output_type": "execute_result"
    }
   ],
   "source": [
    "#checking shape\n",
    "X_train.shape, X_test.shape"
   ]
  },
  {
   "cell_type": "code",
   "execution_count": 212,
   "metadata": {},
   "outputs": [
    {
     "data": {
      "text/plain": [
       "((57894,), (24813,))"
      ]
     },
     "execution_count": 212,
     "metadata": {},
     "output_type": "execute_result"
    }
   ],
   "source": [
    "#checking shape\n",
    "y_train.shape, y_test.shape"
   ]
  },
  {
   "cell_type": "code",
   "execution_count": 213,
   "metadata": {},
   "outputs": [
    {
     "data": {
      "text/plain": [
       "((57894, 75), (24813, 75))"
      ]
     },
     "execution_count": 213,
     "metadata": {},
     "output_type": "execute_result"
    }
   ],
   "source": [
    "#Save the 'fullVisitorId', 'visitId' columns from the train/test data into names_train and names_test\n",
    "#Then drop those columns from `X_train` and `X_test`\n",
    "names_list = ['fullVisitorId', 'visitId']\n",
    "names_train = X_train[names_list]\n",
    "names_test = X_test[names_list]\n",
    "X_train.drop(columns=names_list, inplace=True)\n",
    "X_test.drop(columns=names_list, inplace=True)\n",
    "X_train.shape, X_test.shape"
   ]
  },
  {
   "cell_type": "code",
   "execution_count": 214,
   "metadata": {},
   "outputs": [
    {
     "name": "stdout",
     "output_type": "stream",
     "text": [
      "<class 'pandas.core.frame.DataFrame'>\n",
      "Int64Index: 57894 entries, 59440 to 51078\n",
      "Data columns (total 75 columns):\n",
      " #   Column                         Non-Null Count  Dtype  \n",
      "---  ------                         --------------  -----  \n",
      " 0   visitNumber                    57894 non-null  int64  \n",
      " 1   visitStartTime                 57894 non-null  float64\n",
      " 2   isMobile                       57894 non-null  float64\n",
      " 3   hits_y                         57894 non-null  int64  \n",
      " 4   pageviews                      57894 non-null  int64  \n",
      " 5   bounces                        57894 non-null  int64  \n",
      " 6   newVisits                      57894 non-null  int64  \n",
      " 7   sessionQualityDim              57894 non-null  int64  \n",
      " 8   timeOnSite                     57894 non-null  int64  \n",
      " 9   transactions                   57894 non-null  int64  \n",
      " 10  weekday                        57894 non-null  int64  \n",
      " 11  day                            57894 non-null  int64  \n",
      " 12  month                          57894 non-null  int64  \n",
      " 13  year                           57894 non-null  int64  \n",
      " 14  channel_(Other)                57894 non-null  uint8  \n",
      " 15  channel_Affiliates             57894 non-null  uint8  \n",
      " 16  channel_Direct                 57894 non-null  uint8  \n",
      " 17  channel_Display                57894 non-null  uint8  \n",
      " 18  channel_Organic Search         57894 non-null  uint8  \n",
      " 19  channel_Paid Search            57894 non-null  uint8  \n",
      " 20  channel_Referral               57894 non-null  uint8  \n",
      " 21  channel_Social                 57894 non-null  uint8  \n",
      " 22  browser_Android Webview        57894 non-null  uint8  \n",
      " 23  browser_Chrome                 57894 non-null  uint8  \n",
      " 24  browser_Edge                   57894 non-null  uint8  \n",
      " 25  browser_Firefox                57894 non-null  uint8  \n",
      " 26  browser_Internet Explorer      57894 non-null  uint8  \n",
      " 27  browser_Opera                  57894 non-null  uint8  \n",
      " 28  browser_Opera Mini             57894 non-null  uint8  \n",
      " 29  browser_Other                  57894 non-null  uint8  \n",
      " 30  browser_Safari                 57894 non-null  uint8  \n",
      " 31  browser_Safari (in-app)        57894 non-null  uint8  \n",
      " 32  browser_Samsung Internet       57894 non-null  uint8  \n",
      " 33  browser_UC Browser             57894 non-null  uint8  \n",
      " 34  operatingSystem_Android        57894 non-null  uint8  \n",
      " 35  operatingSystem_BlackBerry     57894 non-null  uint8  \n",
      " 36  operatingSystem_Chrome OS      57894 non-null  uint8  \n",
      " 37  operatingSystem_Linux          57894 non-null  uint8  \n",
      " 38  operatingSystem_Macintosh      57894 non-null  uint8  \n",
      " 39  operatingSystem_Other          57894 non-null  uint8  \n",
      " 40  operatingSystem_Windows        57894 non-null  uint8  \n",
      " 41  operatingSystem_iOS            57894 non-null  uint8  \n",
      " 42  deviceCategory_desktop         57894 non-null  uint8  \n",
      " 43  deviceCategory_mobile          57894 non-null  uint8  \n",
      " 44  deviceCategory_tablet          57894 non-null  uint8  \n",
      " 45  subContinent_Australasia       57894 non-null  uint8  \n",
      " 46  subContinent_Caribbean         57894 non-null  uint8  \n",
      " 47  subContinent_Central America   57894 non-null  uint8  \n",
      " 48  subContinent_Eastern Africa    57894 non-null  uint8  \n",
      " 49  subContinent_Eastern Asia      57894 non-null  uint8  \n",
      " 50  subContinent_Eastern Europe    57894 non-null  uint8  \n",
      " 51  subContinent_Northern Africa   57894 non-null  uint8  \n",
      " 52  subContinent_Northern America  57894 non-null  uint8  \n",
      " 53  subContinent_Northern Europe   57894 non-null  uint8  \n",
      " 54  subContinent_Other             57894 non-null  uint8  \n",
      " 55  subContinent_South America     57894 non-null  uint8  \n",
      " 56  subContinent_Southeast Asia    57894 non-null  uint8  \n",
      " 57  subContinent_Southern Africa   57894 non-null  uint8  \n",
      " 58  subContinent_Southern Asia     57894 non-null  uint8  \n",
      " 59  subContinent_Southern Europe   57894 non-null  uint8  \n",
      " 60  subContinent_Western Africa    57894 non-null  uint8  \n",
      " 61  subContinent_Western Asia      57894 non-null  uint8  \n",
      " 62  subContinent_Western Europe    57894 non-null  uint8  \n",
      " 63  source_(direct)                57894 non-null  uint8  \n",
      " 64  source_Other                   57894 non-null  uint8  \n",
      " 65  source_Partners                57894 non-null  uint8  \n",
      " 66  source_analytics.google.com    57894 non-null  uint8  \n",
      " 67  source_baidu                   57894 non-null  uint8  \n",
      " 68  source_dfa                     57894 non-null  uint8  \n",
      " 69  source_google                  57894 non-null  uint8  \n",
      " 70  source_google.com              57894 non-null  uint8  \n",
      " 71  source_m.facebook.com          57894 non-null  uint8  \n",
      " 72  source_reddit.com              57894 non-null  uint8  \n",
      " 73  source_sites.google.com        57894 non-null  uint8  \n",
      " 74  source_youtube.com             57894 non-null  uint8  \n",
      "dtypes: float64(2), int64(12), uint8(61)\n",
      "memory usage: 10.0 MB\n"
     ]
    }
   ],
   "source": [
    "X_train.info()"
   ]
  },
  {
   "cell_type": "code",
   "execution_count": 215,
   "metadata": {},
   "outputs": [
    {
     "name": "stdout",
     "output_type": "stream",
     "text": [
      "<class 'pandas.core.frame.DataFrame'>\n",
      "Int64Index: 24813 entries, 30405 to 38495\n",
      "Data columns (total 75 columns):\n",
      " #   Column                         Non-Null Count  Dtype  \n",
      "---  ------                         --------------  -----  \n",
      " 0   visitNumber                    24813 non-null  int64  \n",
      " 1   visitStartTime                 24813 non-null  float64\n",
      " 2   isMobile                       24813 non-null  float64\n",
      " 3   hits_y                         24813 non-null  int64  \n",
      " 4   pageviews                      24813 non-null  int64  \n",
      " 5   bounces                        24813 non-null  int64  \n",
      " 6   newVisits                      24813 non-null  int64  \n",
      " 7   sessionQualityDim              24813 non-null  int64  \n",
      " 8   timeOnSite                     24813 non-null  int64  \n",
      " 9   transactions                   24813 non-null  int64  \n",
      " 10  weekday                        24813 non-null  int64  \n",
      " 11  day                            24813 non-null  int64  \n",
      " 12  month                          24813 non-null  int64  \n",
      " 13  year                           24813 non-null  int64  \n",
      " 14  channel_(Other)                24813 non-null  uint8  \n",
      " 15  channel_Affiliates             24813 non-null  uint8  \n",
      " 16  channel_Direct                 24813 non-null  uint8  \n",
      " 17  channel_Display                24813 non-null  uint8  \n",
      " 18  channel_Organic Search         24813 non-null  uint8  \n",
      " 19  channel_Paid Search            24813 non-null  uint8  \n",
      " 20  channel_Referral               24813 non-null  uint8  \n",
      " 21  channel_Social                 24813 non-null  uint8  \n",
      " 22  browser_Android Webview        24813 non-null  uint8  \n",
      " 23  browser_Chrome                 24813 non-null  uint8  \n",
      " 24  browser_Edge                   24813 non-null  uint8  \n",
      " 25  browser_Firefox                24813 non-null  uint8  \n",
      " 26  browser_Internet Explorer      24813 non-null  uint8  \n",
      " 27  browser_Opera                  24813 non-null  uint8  \n",
      " 28  browser_Opera Mini             24813 non-null  uint8  \n",
      " 29  browser_Other                  24813 non-null  uint8  \n",
      " 30  browser_Safari                 24813 non-null  uint8  \n",
      " 31  browser_Safari (in-app)        24813 non-null  uint8  \n",
      " 32  browser_Samsung Internet       24813 non-null  uint8  \n",
      " 33  browser_UC Browser             24813 non-null  uint8  \n",
      " 34  operatingSystem_Android        24813 non-null  uint8  \n",
      " 35  operatingSystem_BlackBerry     24813 non-null  uint8  \n",
      " 36  operatingSystem_Chrome OS      24813 non-null  uint8  \n",
      " 37  operatingSystem_Linux          24813 non-null  uint8  \n",
      " 38  operatingSystem_Macintosh      24813 non-null  uint8  \n",
      " 39  operatingSystem_Other          24813 non-null  uint8  \n",
      " 40  operatingSystem_Windows        24813 non-null  uint8  \n",
      " 41  operatingSystem_iOS            24813 non-null  uint8  \n",
      " 42  deviceCategory_desktop         24813 non-null  uint8  \n",
      " 43  deviceCategory_mobile          24813 non-null  uint8  \n",
      " 44  deviceCategory_tablet          24813 non-null  uint8  \n",
      " 45  subContinent_Australasia       24813 non-null  uint8  \n",
      " 46  subContinent_Caribbean         24813 non-null  uint8  \n",
      " 47  subContinent_Central America   24813 non-null  uint8  \n",
      " 48  subContinent_Eastern Africa    24813 non-null  uint8  \n",
      " 49  subContinent_Eastern Asia      24813 non-null  uint8  \n",
      " 50  subContinent_Eastern Europe    24813 non-null  uint8  \n",
      " 51  subContinent_Northern Africa   24813 non-null  uint8  \n",
      " 52  subContinent_Northern America  24813 non-null  uint8  \n",
      " 53  subContinent_Northern Europe   24813 non-null  uint8  \n",
      " 54  subContinent_Other             24813 non-null  uint8  \n",
      " 55  subContinent_South America     24813 non-null  uint8  \n",
      " 56  subContinent_Southeast Asia    24813 non-null  uint8  \n",
      " 57  subContinent_Southern Africa   24813 non-null  uint8  \n",
      " 58  subContinent_Southern Asia     24813 non-null  uint8  \n",
      " 59  subContinent_Southern Europe   24813 non-null  uint8  \n",
      " 60  subContinent_Western Africa    24813 non-null  uint8  \n",
      " 61  subContinent_Western Asia      24813 non-null  uint8  \n",
      " 62  subContinent_Western Europe    24813 non-null  uint8  \n",
      " 63  source_(direct)                24813 non-null  uint8  \n",
      " 64  source_Other                   24813 non-null  uint8  \n",
      " 65  source_Partners                24813 non-null  uint8  \n",
      " 66  source_analytics.google.com    24813 non-null  uint8  \n",
      " 67  source_baidu                   24813 non-null  uint8  \n",
      " 68  source_dfa                     24813 non-null  uint8  \n",
      " 69  source_google                  24813 non-null  uint8  \n",
      " 70  source_google.com              24813 non-null  uint8  \n",
      " 71  source_m.facebook.com          24813 non-null  uint8  \n",
      " 72  source_reddit.com              24813 non-null  uint8  \n",
      " 73  source_sites.google.com        24813 non-null  uint8  \n",
      " 74  source_youtube.com             24813 non-null  uint8  \n",
      "dtypes: float64(2), int64(12), uint8(61)\n",
      "memory usage: 4.3 MB\n"
     ]
    }
   ],
   "source": [
    "X_test.info()"
   ]
  },
  {
   "cell_type": "markdown",
   "metadata": {},
   "source": [
    "### Dummy Regressor"
   ]
  },
  {
   "cell_type": "code",
   "execution_count": 216,
   "metadata": {},
   "outputs": [
    {
     "data": {
      "text/plain": [
       "1919598.7494386293"
      ]
     },
     "execution_count": 216,
     "metadata": {},
     "output_type": "execute_result"
    }
   ],
   "source": [
    "#Calculate the mean of `y_train`\n",
    "train_mean = y_train.mean()\n",
    "train_mean"
   ]
  },
  {
   "cell_type": "code",
   "execution_count": 217,
   "metadata": {},
   "outputs": [
    {
     "data": {
      "text/plain": [
       "array([[1919598.75]])"
      ]
     },
     "execution_count": 217,
     "metadata": {},
     "output_type": "execute_result"
    }
   ],
   "source": [
    "#Fit the dummy regressor on the training data\n",
    "dumb_reg = DummyRegressor(strategy='mean')\n",
    "dumb_reg.fit(X_train, y_train)\n",
    "dumb_reg.constant_"
   ]
  },
  {
   "cell_type": "markdown",
   "metadata": {},
   "source": [
    "### R-Squared"
   ]
  },
  {
   "cell_type": "code",
   "execution_count": 218,
   "metadata": {},
   "outputs": [
    {
     "data": {
      "text/plain": [
       "array([1919598.75, 1919598.75, 1919598.75, 1919598.75, 1919598.75])"
      ]
     },
     "execution_count": 218,
     "metadata": {},
     "output_type": "execute_result"
    }
   ],
   "source": [
    "y_tr_pred_ = train_mean * np.ones(len(y_train))\n",
    "y_tr_pred_[:5]"
   ]
  },
  {
   "cell_type": "code",
   "execution_count": 219,
   "metadata": {},
   "outputs": [],
   "source": [
    "y_tr_pred = dumb_reg.predict(X_train)\n",
    "y_te_pred = train_mean * np.ones(len(y_test))"
   ]
  },
  {
   "cell_type": "code",
   "execution_count": 220,
   "metadata": {},
   "outputs": [
    {
     "data": {
      "text/plain": [
       "(0.0, -0.00014508860797213252)"
      ]
     },
     "execution_count": 220,
     "metadata": {},
     "output_type": "execute_result"
    }
   ],
   "source": [
    "r2_score(y_train, y_tr_pred), r2_score(y_test, y_te_pred)"
   ]
  },
  {
   "cell_type": "markdown",
   "metadata": {},
   "source": [
    "### Mean Absolute Error"
   ]
  },
  {
   "cell_type": "code",
   "execution_count": 221,
   "metadata": {},
   "outputs": [
    {
     "data": {
      "text/plain": [
       "(3796424.80418047, 3441745.9292575517)"
      ]
     },
     "execution_count": 221,
     "metadata": {},
     "output_type": "execute_result"
    }
   ],
   "source": [
    "mean_absolute_error(y_train, y_tr_pred), mean_absolute_error(y_test, y_te_pred)"
   ]
  },
  {
   "cell_type": "markdown",
   "metadata": {},
   "source": [
    "### Mean Squared Error"
   ]
  },
  {
   "cell_type": "code",
   "execution_count": 222,
   "metadata": {},
   "outputs": [
    {
     "data": {
      "text/plain": [
       "(1.6122377656468358e+16, 842704989041355.8)"
      ]
     },
     "execution_count": 222,
     "metadata": {},
     "output_type": "execute_result"
    }
   ],
   "source": [
    "mean_squared_error(y_train, y_tr_pred), mean_squared_error(y_test, y_te_pred)"
   ]
  },
  {
   "cell_type": "markdown",
   "metadata": {},
   "source": [
    "### Scaling Data"
   ]
  },
  {
   "cell_type": "code",
   "execution_count": 223,
   "metadata": {},
   "outputs": [],
   "source": [
    "#Call the StandardScaler`s fit method\n",
    "scaler = StandardScaler()\n",
    "scaler.fit(X_train)\n",
    "X_train_scaled = scaler.transform(X_train)\n",
    "X_test_scaled = scaler.transform(X_test)"
   ]
  },
  {
   "cell_type": "markdown",
   "metadata": {},
   "source": [
    "### LinearRegression"
   ]
  },
  {
   "cell_type": "code",
   "execution_count": 224,
   "metadata": {},
   "outputs": [],
   "source": [
    "lm = LinearRegression().fit(X_train_scaled, y_train)"
   ]
  },
  {
   "cell_type": "code",
   "execution_count": 225,
   "metadata": {},
   "outputs": [],
   "source": [
    "y_train_pred = lm.predict(X_train_scaled)\n",
    "y_test_pred = lm.predict(X_test_scaled)"
   ]
  },
  {
   "cell_type": "code",
   "execution_count": 226,
   "metadata": {},
   "outputs": [
    {
     "data": {
      "text/plain": [
       "(0.38291465424265514, -3.5376161570781006)"
      ]
     },
     "execution_count": 226,
     "metadata": {},
     "output_type": "execute_result"
    }
   ],
   "source": [
    "median_r2 = r2_score(y_train, y_train_pred), r2_score(y_test, y_test_pred)\n",
    "median_r2"
   ]
  },
  {
   "cell_type": "code",
   "execution_count": 227,
   "metadata": {},
   "outputs": [
    {
     "data": {
      "text/plain": [
       "(27358147.058286894, 27380983.043233044)"
      ]
     },
     "execution_count": 227,
     "metadata": {},
     "output_type": "execute_result"
    }
   ],
   "source": [
    "median_mae = mean_absolute_error(y_train, y_train_pred), mean_absolute_error(y_test, y_test_pred)\n",
    "median_mae"
   ]
  },
  {
   "cell_type": "code",
   "execution_count": 228,
   "metadata": {},
   "outputs": [
    {
     "data": {
      "text/plain": [
       "(1.6122377656468358e+16, 842704989041355.8)"
      ]
     },
     "execution_count": 228,
     "metadata": {},
     "output_type": "execute_result"
    }
   ],
   "source": [
    "median_mse = mean_squared_error(y_train, y_tr_pred), mean_squared_error(y_test, y_te_pred)\n",
    "median_mse"
   ]
  },
  {
   "cell_type": "markdown",
   "metadata": {},
   "source": [
    "### Pipeline"
   ]
  },
  {
   "cell_type": "code",
   "execution_count": 229,
   "metadata": {},
   "outputs": [],
   "source": [
    "pipe = make_pipeline(\n",
    "    SimpleImputer(strategy='median'), \n",
    "    StandardScaler(),\n",
    "    SelectKBest(f_regression),\n",
    "    LinearRegression()\n",
    ")"
   ]
  },
  {
   "cell_type": "code",
   "execution_count": 230,
   "metadata": {},
   "outputs": [
    {
     "data": {
      "text/plain": [
       "Pipeline(steps=[('simpleimputer', SimpleImputer(strategy='median')),\n",
       "                ('standardscaler', StandardScaler()),\n",
       "                ('selectkbest',\n",
       "                 SelectKBest(score_func=<function f_regression at 0x7f80d5ee73a0>)),\n",
       "                ('linearregression', LinearRegression())])"
      ]
     },
     "execution_count": 230,
     "metadata": {},
     "output_type": "execute_result"
    }
   ],
   "source": [
    "pipe.fit(X_train, y_train)"
   ]
  },
  {
   "cell_type": "code",
   "execution_count": 231,
   "metadata": {},
   "outputs": [],
   "source": [
    "y_train_pred = pipe.predict(X_train)\n",
    "y_test_pred = pipe.predict(X_test)"
   ]
  },
  {
   "cell_type": "code",
   "execution_count": 232,
   "metadata": {},
   "outputs": [
    {
     "data": {
      "text/plain": [
       "(0.36216362816800907, -3.451261364539058)"
      ]
     },
     "execution_count": 232,
     "metadata": {},
     "output_type": "execute_result"
    }
   ],
   "source": [
    "r2_score(y_train, y_train_pred), r2_score(y_test, y_test_pred)"
   ]
  },
  {
   "cell_type": "code",
   "execution_count": 233,
   "metadata": {},
   "outputs": [
    {
     "data": {
      "text/plain": [
       "(29796485.828166027, 29815715.842431497)"
      ]
     },
     "execution_count": 233,
     "metadata": {},
     "output_type": "execute_result"
    }
   ],
   "source": [
    "mean_absolute_error(y_train, y_train_pred), mean_absolute_error(y_test, y_test_pred)"
   ]
  },
  {
   "cell_type": "markdown",
   "metadata": {},
   "source": [
    "### New pipeline"
   ]
  },
  {
   "cell_type": "code",
   "execution_count": 234,
   "metadata": {},
   "outputs": [],
   "source": [
    "pipe30 = make_pipeline(\n",
    "    SimpleImputer(strategy='median'), \n",
    "    StandardScaler(),\n",
    "    SelectKBest(f_regression, k=30),\n",
    "    LinearRegression()\n",
    ")"
   ]
  },
  {
   "cell_type": "code",
   "execution_count": 235,
   "metadata": {},
   "outputs": [
    {
     "data": {
      "text/plain": [
       "Pipeline(steps=[('simpleimputer', SimpleImputer(strategy='median')),\n",
       "                ('standardscaler', StandardScaler()),\n",
       "                ('selectkbest',\n",
       "                 SelectKBest(k=30,\n",
       "                             score_func=<function f_regression at 0x7f80d5ee73a0>)),\n",
       "                ('linearregression', LinearRegression())])"
      ]
     },
     "execution_count": 235,
     "metadata": {},
     "output_type": "execute_result"
    }
   ],
   "source": [
    "pipe30.fit(X_train, y_train)"
   ]
  },
  {
   "cell_type": "code",
   "execution_count": 236,
   "metadata": {},
   "outputs": [],
   "source": [
    "y_train_pred = pipe30.predict(X_train)\n",
    "y_test_pred = pipe30.predict(X_test)"
   ]
  },
  {
   "cell_type": "code",
   "execution_count": 237,
   "metadata": {},
   "outputs": [
    {
     "data": {
      "text/plain": [
       "(0.3663147787239911, -3.4663825188697146)"
      ]
     },
     "execution_count": 237,
     "metadata": {},
     "output_type": "execute_result"
    }
   ],
   "source": [
    "r2_score(y_train, y_train_pred), r2_score(y_test, y_test_pred)"
   ]
  },
  {
   "cell_type": "code",
   "execution_count": 238,
   "metadata": {},
   "outputs": [
    {
     "data": {
      "text/plain": [
       "(29879146.57524418, 29936323.27797937)"
      ]
     },
     "execution_count": 238,
     "metadata": {},
     "output_type": "execute_result"
    }
   ],
   "source": [
    "mean_absolute_error(y_train, y_train_pred), mean_absolute_error(y_test, y_test_pred)"
   ]
  },
  {
   "cell_type": "markdown",
   "metadata": {},
   "source": [
    "### Cross Validation"
   ]
  },
  {
   "cell_type": "code",
   "execution_count": 239,
   "metadata": {},
   "outputs": [],
   "source": [
    "cv_results = cross_validate(pipe15, X_train, y_train, cv=5)"
   ]
  },
  {
   "cell_type": "code",
   "execution_count": 240,
   "metadata": {},
   "outputs": [
    {
     "data": {
      "text/plain": [
       "array([-8.71, -2.7 ,  0.04, -4.14, -7.95])"
      ]
     },
     "execution_count": 240,
     "metadata": {},
     "output_type": "execute_result"
    }
   ],
   "source": [
    "cv_scores = cv_results['test_score']\n",
    "cv_scores"
   ]
  },
  {
   "cell_type": "code",
   "execution_count": 241,
   "metadata": {},
   "outputs": [
    {
     "data": {
      "text/plain": [
       "(-4.691906491044728, 3.270373926147989)"
      ]
     },
     "execution_count": 241,
     "metadata": {},
     "output_type": "execute_result"
    }
   ],
   "source": [
    "np.mean(cv_scores), np.std(cv_scores)"
   ]
  },
  {
   "cell_type": "code",
   "execution_count": 242,
   "metadata": {},
   "outputs": [
    {
     "data": {
      "text/plain": [
       "array([-11.23,   1.85])"
      ]
     },
     "execution_count": 242,
     "metadata": {},
     "output_type": "execute_result"
    }
   ],
   "source": [
    "np.round((np.mean(cv_scores) - 2 * np.std(cv_scores), np.mean(cv_scores) + 2 * np.std(cv_scores)), 2)"
   ]
  },
  {
   "cell_type": "markdown",
   "metadata": {},
   "source": [
    "### Hyperparameter search using GridSearchCV"
   ]
  },
  {
   "cell_type": "code",
   "execution_count": 243,
   "metadata": {},
   "outputs": [
    {
     "data": {
      "text/plain": [
       "dict_keys(['memory', 'steps', 'verbose', 'simpleimputer', 'standardscaler', 'selectkbest', 'linearregression', 'simpleimputer__add_indicator', 'simpleimputer__copy', 'simpleimputer__fill_value', 'simpleimputer__missing_values', 'simpleimputer__strategy', 'simpleimputer__verbose', 'standardscaler__copy', 'standardscaler__with_mean', 'standardscaler__with_std', 'selectkbest__k', 'selectkbest__score_func', 'linearregression__copy_X', 'linearregression__fit_intercept', 'linearregression__n_jobs', 'linearregression__normalize'])"
      ]
     },
     "execution_count": 243,
     "metadata": {},
     "output_type": "execute_result"
    }
   ],
   "source": [
    "pipe.get_params().keys()"
   ]
  },
  {
   "cell_type": "code",
   "execution_count": 244,
   "metadata": {},
   "outputs": [],
   "source": [
    "k = [k+1 for k in range(len(X_train.columns))]\n",
    "grid_params = {'selectkbest__k': k}"
   ]
  },
  {
   "cell_type": "code",
   "execution_count": 246,
   "metadata": {},
   "outputs": [],
   "source": [
    "lr_grid_cv = GridSearchCV(pipe, param_grid=grid_params, cv=5, n_jobs=-1)"
   ]
  },
  {
   "cell_type": "code",
   "execution_count": 247,
   "metadata": {},
   "outputs": [
    {
     "data": {
      "text/plain": [
       "GridSearchCV(cv=5,\n",
       "             estimator=Pipeline(steps=[('simpleimputer',\n",
       "                                        SimpleImputer(strategy='median')),\n",
       "                                       ('standardscaler', StandardScaler()),\n",
       "                                       ('selectkbest',\n",
       "                                        SelectKBest(score_func=<function f_regression at 0x7f80d5ee73a0>)),\n",
       "                                       ('linearregression',\n",
       "                                        LinearRegression())]),\n",
       "             n_jobs=-1,\n",
       "             param_grid={'selectkbest__k': [1, 2, 3, 4, 5, 6, 7, 8, 9, 10, 11,\n",
       "                                            12, 13, 14, 15, 16, 17, 18, 19, 20,\n",
       "                                            21, 22, 23, 24, 25, 26, 27, 28, 29,\n",
       "                                            30, ...]})"
      ]
     },
     "execution_count": 247,
     "metadata": {},
     "output_type": "execute_result"
    }
   ],
   "source": [
    "lr_grid_cv.fit(X_train, y_train)"
   ]
  },
  {
   "cell_type": "code",
   "execution_count": 248,
   "metadata": {},
   "outputs": [
    {
     "data": {
      "text/plain": [
       "{'selectkbest__k': 1}"
      ]
     },
     "execution_count": 248,
     "metadata": {},
     "output_type": "execute_result"
    }
   ],
   "source": [
    "score_mean = lr_grid_cv.cv_results_['mean_test_score']\n",
    "score_std = lr_grid_cv.cv_results_['std_test_score']\n",
    "cv_k = [k for k in lr_grid_cv.cv_results_['param_selectkbest__k']]\n",
    "lr_grid_cv.best_params_"
   ]
  },
  {
   "cell_type": "code",
   "execution_count": 249,
   "metadata": {},
   "outputs": [
    {
     "data": {
      "image/png": "[encoded data removed]",
      "text/plain": [
       "<Figure size 720x360 with 1 Axes>"
      ]
     },
     "metadata": {
      "needs_background": "light"
     },
     "output_type": "display_data"
    }
   ],
   "source": [
    "best_k = lr_grid_cv.best_params_['selectkbest__k']\n",
    "plt.subplots(figsize=(10, 5))\n",
    "plt.errorbar(cv_k, score_mean, yerr=score_std)\n",
    "plt.axvline(x=best_k, c='r', ls='--', alpha=.5)\n",
    "plt.xlabel('k')\n",
    "plt.ylabel('CV score (r-squared)')\n",
    "plt.title('Pipeline mean CV score (error bars +/- 1sd)');"
   ]
  },
  {
   "cell_type": "code",
   "execution_count": 250,
   "metadata": {},
   "outputs": [],
   "source": [
    "selected = lr_grid_cv.best_estimator_.named_steps.selectkbest.get_support()"
   ]
  },
  {
   "cell_type": "code",
   "execution_count": 251,
   "metadata": {},
   "outputs": [],
   "source": [
    "pd.options.display.max_rows = 4000"
   ]
  },
  {
   "cell_type": "code",
   "execution_count": 252,
   "metadata": {},
   "outputs": [
    {
     "data": {
      "text/plain": [
       "pageviews    5.676820e+07\n",
       "dtype: float64"
      ]
     },
     "execution_count": 252,
     "metadata": {},
     "output_type": "execute_result"
    }
   ],
   "source": [
    "coefs = lr_grid_cv.best_estimator_.named_steps.linearregression.coef_\n",
    "features = X_train.columns[selected]\n",
    "pd.Series(coefs, index=features).sort_values(ascending=False)"
   ]
  },
  {
   "cell_type": "markdown",
   "metadata": {},
   "source": [
    "### Random Forest"
   ]
  },
  {
   "cell_type": "code",
   "execution_count": 253,
   "metadata": {},
   "outputs": [],
   "source": [
    "RF_pipe = make_pipeline(\n",
    "    SimpleImputer(strategy='median'),\n",
    "    StandardScaler(),\n",
    "    RandomForestRegressor(random_state=47)\n",
    ")"
   ]
  },
  {
   "cell_type": "code",
   "execution_count": 254,
   "metadata": {},
   "outputs": [],
   "source": [
    "rf_default_cv_results = cross_validate(RF_pipe, X_train, y_train, cv=5)"
   ]
  },
  {
   "cell_type": "code",
   "execution_count": 255,
   "metadata": {},
   "outputs": [
    {
     "data": {
      "text/plain": [
       "array([-0.41, -0.14,  0.07, -0.01, -0.14])"
      ]
     },
     "execution_count": 255,
     "metadata": {},
     "output_type": "execute_result"
    }
   ],
   "source": [
    "rf_cv_scores = rf_default_cv_results['test_score']\n",
    "rf_cv_scores"
   ]
  },
  {
   "cell_type": "code",
   "execution_count": 256,
   "metadata": {},
   "outputs": [
    {
     "data": {
      "text/plain": [
       "(-0.12525145585531194, 0.1647957074019922)"
      ]
     },
     "execution_count": 256,
     "metadata": {},
     "output_type": "execute_result"
    }
   ],
   "source": [
    "np.mean(rf_cv_scores), np.std(rf_cv_scores)"
   ]
  },
  {
   "cell_type": "markdown",
   "metadata": {},
   "source": [
    "### Random Forest Hyperparameter search using GridSearchCV"
   ]
  },
  {
   "cell_type": "code",
   "execution_count": 257,
   "metadata": {},
   "outputs": [
    {
     "data": {
      "text/plain": [
       "{'randomforestregressor__n_estimators': [10,\n",
       "  12,\n",
       "  16,\n",
       "  20,\n",
       "  26,\n",
       "  33,\n",
       "  42,\n",
       "  54,\n",
       "  69,\n",
       "  88,\n",
       "  112,\n",
       "  143,\n",
       "  183,\n",
       "  233,\n",
       "  297,\n",
       "  379,\n",
       "  483,\n",
       "  615,\n",
       "  784,\n",
       "  1000],\n",
       " 'standardscaler': [StandardScaler(), None],\n",
       " 'simpleimputer__strategy': ['mean', 'median']}"
      ]
     },
     "execution_count": 257,
     "metadata": {},
     "output_type": "execute_result"
    }
   ],
   "source": [
    "n_est = [int(n) for n in np.logspace(start=1, stop=3, num=20)]\n",
    "grid_params = {\n",
    "        'randomforestregressor__n_estimators': n_est,\n",
    "        'standardscaler': [StandardScaler(), None],\n",
    "        'simpleimputer__strategy': ['mean', 'median']\n",
    "}\n",
    "grid_params"
   ]
  },
  {
   "cell_type": "code",
   "execution_count": 258,
   "metadata": {},
   "outputs": [],
   "source": [
    "rf_grid_cv = GridSearchCV(RF_pipe, param_grid=grid_params, cv=5, n_jobs=-1)"
   ]
  },
  {
   "cell_type": "code",
   "execution_count": 259,
   "metadata": {},
   "outputs": [
    {
     "data": {
      "text/plain": [
       "GridSearchCV(cv=5,\n",
       "             estimator=Pipeline(steps=[('simpleimputer',\n",
       "                                        SimpleImputer(strategy='median')),\n",
       "                                       ('standardscaler', StandardScaler()),\n",
       "                                       ('randomforestregressor',\n",
       "                                        RandomForestRegressor(random_state=47))]),\n",
       "             n_jobs=-1,\n",
       "             param_grid={'randomforestregressor__n_estimators': [10, 12, 16, 20,\n",
       "                                                                 26, 33, 42, 54,\n",
       "                                                                 69, 88, 112,\n",
       "                                                                 143, 183, 233,\n",
       "                                                                 297, 379, 483,\n",
       "                                                                 615, 784,\n",
       "                                                                 1000],\n",
       "                         'simpleimputer__strategy': ['mean', 'median'],\n",
       "                         'standardscaler': [StandardScaler(), None]})"
      ]
     },
     "execution_count": 259,
     "metadata": {},
     "output_type": "execute_result"
    }
   ],
   "source": [
    "rf_grid_cv.fit(X_train, y_train)"
   ]
  },
  {
   "cell_type": "code",
   "execution_count": 260,
   "metadata": {},
   "outputs": [
    {
     "data": {
      "text/plain": [
       "{'randomforestregressor__n_estimators': 1000,\n",
       " 'simpleimputer__strategy': 'mean',\n",
       " 'standardscaler': None}"
      ]
     },
     "execution_count": 260,
     "metadata": {},
     "output_type": "execute_result"
    }
   ],
   "source": [
    "rf_grid_cv.best_params_"
   ]
  },
  {
   "cell_type": "code",
   "execution_count": 261,
   "metadata": {},
   "outputs": [
    {
     "data": {
      "text/plain": [
       "array([-0.4 ,  0.03,  0.08,  0.01, -0.09])"
      ]
     },
     "execution_count": 261,
     "metadata": {},
     "output_type": "execute_result"
    }
   ],
   "source": [
    "rf_best_cv_results = cross_validate(rf_grid_cv.best_estimator_, X_train, y_train, cv=5)\n",
    "rf_best_scores = rf_best_cv_results['test_score']\n",
    "rf_best_scores"
   ]
  },
  {
   "cell_type": "code",
   "execution_count": 262,
   "metadata": {},
   "outputs": [
    {
     "data": {
      "text/plain": [
       "(-0.07463892418771205, 0.17318224026047627)"
      ]
     },
     "execution_count": 262,
     "metadata": {},
     "output_type": "execute_result"
    }
   ],
   "source": [
    "np.mean(rf_best_scores), np.std(rf_best_scores)"
   ]
  },
  {
   "cell_type": "code",
   "execution_count": 264,
   "metadata": {},
   "outputs": [
    {
     "data": {
      "image/png": "[encoded data removed]",
      "text/plain": [
       "<Figure size 720x360 with 1 Axes>"
      ]
     },
     "metadata": {
      "needs_background": "light"
     },
     "output_type": "display_data"
    }
   ],
   "source": [
    "plt.subplots(figsize=(10, 5))\n",
    "imps = rf_grid_cv.best_estimator_.named_steps.randomforestregressor.feature_importances_\n",
    "rf_feat_imps = pd.Series(imps, index=X_train.columns).sort_values(ascending=False)\n",
    "rf_feat_imps.plot(kind='bar')\n",
    "plt.xlabel('features')\n",
    "plt.ylabel('importance')\n",
    "plt.title('Best random forest regressor feature importances');"
   ]
  },
  {
   "cell_type": "code",
   "execution_count": 265,
   "metadata": {},
   "outputs": [
    {
     "name": "stdout",
     "output_type": "stream",
     "text": [
      "Random Forest: Accuracy=0.988\n",
      "Random Forest: f1-score=0.984\n"
     ]
    }
   ],
   "source": [
    "from sklearn.ensemble import RandomForestClassifier\n",
    "clf = RandomForestClassifier(n_estimators=10, random_state = 1,n_jobs=-1)\n",
    "model_res = clf.fit(X_train_scaled, y_train)\n",
    "y_pred = model_res.predict(X_test_scaled)\n",
    "y_pred_prob = model_res.predict_proba(X_test_scaled)\n",
    "lr_probs = y_pred_prob[:,1]\n",
    "ac = accuracy_score(y_test, y_pred)\n",
    "\n",
    "f1 = f1_score(y_test, y_pred, average='weighted')\n",
    "cm = confusion_matrix(y_test, y_pred)\n",
    "\n",
    "print('Random Forest: Accuracy=%.3f' % (ac))\n",
    "\n",
    "print('Random Forest: f1-score=%.3f' % (f1))"
   ]
  },
  {
   "cell_type": "code",
   "execution_count": null,
   "metadata": {},
   "outputs": [],
   "source": []
  },
  {
   "cell_type": "code",
   "execution_count": null,
   "metadata": {},
   "outputs": [],
   "source": []
  },
  {
   "cell_type": "code",
   "execution_count": null,
   "metadata": {},
   "outputs": [],
   "source": []
  }
 ],
 "metadata": {
  "kernelspec": {
   "display_name": "Python 3",
   "language": "python",
   "name": "python3"
  },
  "language_info": {
   "codemirror_mode": {
    "name": "ipython",
    "version": 3
   },
   "file_extension": ".py",
   "mimetype": "text/x-python",
   "name": "python",
   "nbconvert_exporter": "python",
   "pygments_lexer": "ipython3",
   "version": "3.8.2"
  }
 },
 "nbformat": 4,
 "nbformat_minor": 4
}
