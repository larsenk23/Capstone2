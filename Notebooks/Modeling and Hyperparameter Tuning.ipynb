{
 "cells": [
  {
   "cell_type": "markdown",
   "id": "3f6e211b",
   "metadata": {},
   "source": [
    "# Modeling and Hyperparameter Tuning - Google Analytics Customer Prediction"
   ]
  },
  {
   "cell_type": "markdown",
   "id": "2ca2911a",
   "metadata": {},
   "source": [
    "## Table of Contents"
   ]
  },
  {
   "cell_type": "markdown",
   "id": "65973ca2",
   "metadata": {},
   "source": [
    "    1. Introduction\n",
    "    2. Importing \n",
    "    3. Splitting and Preparing data for modeling\n",
    "    4. Modeling and Hyperparameter Tuning\n",
    "        a. Logistic Regession\n",
    "        b. Decision Tree Classifier\n",
    "        c. Random Forest Classifier\n",
    "        d. MultinomialNB\n",
    "        e. XGBClassifier\n",
    "    5. Model Selection\n",
    "    6. Future Work"
   ]
  },
  {
   "cell_type": "markdown",
   "id": "3c61cc5d",
   "metadata": {},
   "source": [
    "### 1. Introduction"
   ]
  },
  {
   "cell_type": "markdown",
   "id": "e49293b9",
   "metadata": {},
   "source": [
    "In this notebook, the data, that has previously been cleaned and formated, will be split into training and testing dataframes. It will be fit to machine learning models to create predictions for our target variable for transaction complete. "
   ]
  },
  {
   "cell_type": "markdown",
   "id": "e81175e7",
   "metadata": {},
   "source": [
    "### 2. Importing"
   ]
  },
  {
   "cell_type": "code",
   "execution_count": 54,
   "id": "e507cf24",
   "metadata": {},
   "outputs": [],
   "source": [
    "import pandas as pd\n",
    "import numpy as np\n",
    "from matplotlib import pyplot as plt"
   ]
  },
  {
   "cell_type": "code",
   "execution_count": 2,
   "id": "ffcf33a1",
   "metadata": {},
   "outputs": [],
   "source": [
    "from sklearn.model_selection import train_test_split\n",
    "from sklearn.model_selection import RandomizedSearchCV\n",
    "from sklearn.metrics import classification_report, confusion_matrix, plot_confusion_matrix\n",
    "from sklearn.linear_model import LogisticRegression\n",
    "from sklearn.tree import DecisionTreeClassifier\n",
    "from sklearn.ensemble import RandomForestClassifier\n",
    "from sklearn.naive_bayes import MultinomialNB\n",
    "from xgboost import XGBClassifier\n",
    "from imblearn.over_sampling import RandomOverSampler\n",
    "from sklearn.metrics import make_scorer\n",
    "from sklearn import preprocessing\n",
    "from sklearn.metrics import accuracy_score, precision_score, recall_score, f1_score"
   ]
  },
  {
   "cell_type": "code",
   "execution_count": 3,
   "id": "4a3374b0",
   "metadata": {},
   "outputs": [
    {
     "name": "stderr",
     "output_type": "stream",
     "text": [
      "/Users/kasey.larsen/opt/anaconda3/lib/python3.8/site-packages/IPython/core/interactiveshell.py:3165: DtypeWarning: Columns (1) have mixed types.Specify dtype option on import or set low_memory=False.\n",
      "  has_raised = await self.run_ast_nodes(code_ast.body, cell_name,\n"
     ]
    }
   ],
   "source": [
    "df = pd.read_csv('df_clean.csv')"
   ]
  },
  {
   "cell_type": "code",
   "execution_count": 4,
   "id": "6b83723e",
   "metadata": {},
   "outputs": [],
   "source": [
    "df = df.drop(['fullVisitorId', 'transactions', 'total_transactions', 'transactionRevenue', \n",
    "              'totalTransactionRevenue'], axis=1)"
   ]
  },
  {
   "cell_type": "code",
   "execution_count": 5,
   "id": "9ab05823",
   "metadata": {
    "scrolled": true
   },
   "outputs": [
    {
     "name": "stdout",
     "output_type": "stream",
     "text": [
      "<class 'pandas.core.frame.DataFrame'>\n",
      "RangeIndex: 85417 entries, 0 to 85416\n",
      "Data columns (total 35 columns):\n",
      " #   Column                          Non-Null Count  Dtype  \n",
      "---  ------                          --------------  -----  \n",
      " 0   channelGrouping                 85417 non-null  object \n",
      " 1   visitNumber                     85417 non-null  int64  \n",
      " 2   browser                         85417 non-null  object \n",
      " 3   operatingSystem                 85417 non-null  object \n",
      " 4   isMobile                        85417 non-null  int64  \n",
      " 5   deviceCategory                  85417 non-null  object \n",
      " 6   continent                       85417 non-null  object \n",
      " 7   subContinent                    85417 non-null  object \n",
      " 8   country                         85417 non-null  object \n",
      " 9   region                          85417 non-null  object \n",
      " 10  metro                           85417 non-null  object \n",
      " 11  city                            85417 non-null  object \n",
      " 12  networkDomain                   85417 non-null  object \n",
      " 13  hits_y                          85417 non-null  int64  \n",
      " 14  pageviews                       85417 non-null  int64  \n",
      " 15  newVisits                       85417 non-null  int64  \n",
      " 16  sessionQualityDim               85417 non-null  int64  \n",
      " 17  timeOnSite                      85417 non-null  int64  \n",
      " 18  source                          85417 non-null  object \n",
      " 19  medium                          85417 non-null  object \n",
      " 20  keyword                         85417 non-null  object \n",
      " 21  referralPath                    85417 non-null  object \n",
      " 22  isTrueDirect                    85417 non-null  object \n",
      " 23  adContent                       85417 non-null  object \n",
      " 24  adwordsClickInfo.page           85417 non-null  int64  \n",
      " 25  adwordsClickInfo.slot           85417 non-null  object \n",
      " 26  adwordsClickInfo.gclId          85417 non-null  object \n",
      " 27  adwordsClickInfo.adNetworkType  85417 non-null  object \n",
      " 28  campaignCode                    85417 non-null  int64  \n",
      " 29  weekday                         85417 non-null  int64  \n",
      " 30  day                             85417 non-null  int64  \n",
      " 31  month                           85417 non-null  int64  \n",
      " 32  year                            85417 non-null  int64  \n",
      " 33  previousCustomer                85417 non-null  float64\n",
      " 34  transaction_Complete            85417 non-null  int64  \n",
      "dtypes: float64(1), int64(14), object(20)\n",
      "memory usage: 22.8+ MB\n"
     ]
    }
   ],
   "source": [
    "df.info()"
   ]
  },
  {
   "cell_type": "markdown",
   "id": "3074a72b",
   "metadata": {},
   "source": [
    "### 3. Splitting and Preparing data for modeling"
   ]
  },
  {
   "cell_type": "code",
   "execution_count": 6,
   "id": "83fea3ff",
   "metadata": {},
   "outputs": [],
   "source": [
    "categorical_feat = ['channelGrouping', 'browser', 'operatingSystem', 'deviceCategory', 'continent', 'subContinent',\n",
    "                    'country', 'region', 'metro', 'city', 'networkDomain', 'source', 'medium', 'keyword', \n",
    "                    'referralPath', 'adwordsClickInfo.slot', 'adwordsClickInfo.gclId', 'adContent', 'isTrueDirect',\n",
    "                    'adwordsClickInfo.adNetworkType']"
   ]
  },
  {
   "cell_type": "code",
   "execution_count": 7,
   "id": "7c726e21",
   "metadata": {},
   "outputs": [
    {
     "name": "stdout",
     "output_type": "stream",
     "text": [
      "for feature channelGrouping: label-encoding was done succesfully\n",
      "for feature browser: label-encoding was done succesfully\n",
      "for feature operatingSystem: label-encoding was done succesfully\n",
      "for feature deviceCategory: label-encoding was done succesfully\n",
      "for feature continent: label-encoding was done succesfully\n",
      "for feature subContinent: label-encoding was done succesfully\n",
      "for feature country: label-encoding was done succesfully\n",
      "for feature region: label-encoding was done succesfully\n",
      "for feature metro: label-encoding was done succesfully\n",
      "for feature city: label-encoding was done succesfully\n",
      "for feature networkDomain: label-encoding was done succesfully\n",
      "for feature source: label-encoding was done succesfully\n",
      "for feature medium: label-encoding was done succesfully\n",
      "for feature keyword: label-encoding was done succesfully\n",
      "for feature referralPath: label-encoding was done succesfully\n",
      "for feature adwordsClickInfo.slot: label-encoding was done succesfully\n",
      "for feature adwordsClickInfo.gclId: label-encoding was done succesfully\n",
      "for feature adContent: label-encoding was done succesfully\n",
      "for feature isTrueDirect: label-encoding was done succesfully\n",
      "for feature adwordsClickInfo.adNetworkType: label-encoding was done succesfully\n"
     ]
    }
   ],
   "source": [
    "for feature in categorical_feat:\n",
    "    label_encoder = preprocessing.LabelEncoder()\n",
    "    label_encoder.fit(list(df[feature].values.astype('str')))\n",
    "    df[feature] = label_encoder.transform(list(df[feature].values.astype('str'))) \n",
    "    print(\"for feature {0}: label-encoding was done succesfully\".format(feature))"
   ]
  },
  {
   "cell_type": "code",
   "execution_count": 8,
   "id": "96766a5c",
   "metadata": {},
   "outputs": [],
   "source": [
    "X = df.drop(columns='transaction_Complete', axis = 1)\n",
    "y = df['transaction_Complete']"
   ]
  },
  {
   "cell_type": "code",
   "execution_count": 9,
   "id": "df24f0e6",
   "metadata": {},
   "outputs": [],
   "source": [
    "oversample = RandomOverSampler(sampling_strategy='minority')\n",
    "X_over, y_over = oversample.fit_resample(X, y)"
   ]
  },
  {
   "cell_type": "code",
   "execution_count": 10,
   "id": "50b11a07",
   "metadata": {},
   "outputs": [],
   "source": [
    "X_train, X_test, y_train, y_test = train_test_split(X_over, y_over, test_size=0.3, random_state=47)"
   ]
  },
  {
   "cell_type": "markdown",
   "id": "b241c919",
   "metadata": {},
   "source": [
    "### 4a. Logistic Regression"
   ]
  },
  {
   "cell_type": "code",
   "execution_count": 11,
   "id": "22bf9922",
   "metadata": {},
   "outputs": [],
   "source": [
    "model = LogisticRegression()\n",
    "\n",
    "parameters = {'class_weight': ['balanced', None],\n",
    "              'penalty' : ['l1', 'l2', 'none'],\n",
    "              'C': np.arange(0.5, 20.0, 0.5),\n",
    "              'fit_intercept': [True, False],\n",
    "             'multi_class': ['auto','ovr','multinomial']}"
   ]
  },
  {
   "cell_type": "code",
   "execution_count": 12,
   "id": "3332969b",
   "metadata": {},
   "outputs": [
    {
     "name": "stderr",
     "output_type": "stream",
     "text": [
      "/Users/kasey.larsen/opt/anaconda3/lib/python3.8/site-packages/sklearn/model_selection/_search.py:918: UserWarning: One or more of the test scores are non-finite: [0.93530296 0.93418651 0.9312515  0.93438949        nan        nan\n",
      " 0.9352607  0.93158983 0.93438949        nan]\n",
      "  warnings.warn(\n"
     ]
    },
    {
     "name": "stdout",
     "output_type": "stream",
     "text": [
      " Results from Random Search \n",
      "\n",
      " The best estimator across ALL searched params:\n",
      " LogisticRegression(C=16.0, class_weight='balanced', fit_intercept=False)\n"
     ]
    },
    {
     "name": "stderr",
     "output_type": "stream",
     "text": [
      "/Users/kasey.larsen/opt/anaconda3/lib/python3.8/site-packages/sklearn/linear_model/_logistic.py:763: ConvergenceWarning: lbfgs failed to converge (status=1):\n",
      "STOP: TOTAL NO. of ITERATIONS REACHED LIMIT.\n",
      "\n",
      "Increase the number of iterations (max_iter) or scale the data as shown in:\n",
      "    https://scikit-learn.org/stable/modules/preprocessing.html\n",
      "Please also refer to the documentation for alternative solver options:\n",
      "    https://scikit-learn.org/stable/modules/linear_model.html#logistic-regression\n",
      "  n_iter_i = _check_optimize_result(\n"
     ]
    }
   ],
   "source": [
    "lg_random = RandomizedSearchCV(estimator = model, param_distributions = parameters,\n",
    "                               verbose = False, n_iter = 10, cv = 5, random_state=42, n_jobs = -1)\n",
    "lg_random.fit(X_train, y_train)\n",
    "\n",
    "print(\" Results from Random Search \" )\n",
    "print(\"\\n The best estimator across ALL searched params:\\n\", lg_random.best_estimator_)"
   ]
  },
  {
   "cell_type": "code",
   "execution_count": 13,
   "id": "5025e13e",
   "metadata": {},
   "outputs": [
    {
     "name": "stdout",
     "output_type": "stream",
     "text": [
      "Confusion matrix: \n",
      " [[23944  1410]\n",
      " [ 1707 23609]]\n",
      "Classification report: \n",
      "               precision    recall  f1-score   support\n",
      "\n",
      "           0       0.93      0.94      0.94     25354\n",
      "           1       0.94      0.93      0.94     25316\n",
      "\n",
      "    accuracy                           0.94     50670\n",
      "   macro avg       0.94      0.94      0.94     50670\n",
      "weighted avg       0.94      0.94      0.94     50670\n",
      "\n"
     ]
    }
   ],
   "source": [
    "y_pred = lg_random.predict(X_test)\n",
    "print('Confusion matrix: \\n', confusion_matrix(y_test, y_pred))\n",
    "print('Classification report: \\n', classification_report(y_test, y_pred))"
   ]
  },
  {
   "cell_type": "code",
   "execution_count": 14,
   "id": "51a3ef27",
   "metadata": {},
   "outputs": [
    {
     "data": {
      "text/plain": [
       "<sklearn.metrics._plot.confusion_matrix.ConfusionMatrixDisplay at 0x7f8e155f84c0>"
      ]
     },
     "execution_count": 14,
     "metadata": {},
     "output_type": "execute_result"
    },
    {
     "data": {
      "image/png": "[encoded data removed]",
      "text/plain": [
       "<Figure size 432x288 with 2 Axes>"
      ]
     },
     "metadata": {
      "needs_background": "light"
     },
     "output_type": "display_data"
    }
   ],
   "source": [
    "plot_confusion_matrix(lg_random, X_test, y_test,xticks_rotation='vertical')"
   ]
  },
  {
   "cell_type": "code",
   "execution_count": 15,
   "id": "acf36abf",
   "metadata": {},
   "outputs": [],
   "source": [
    "lg_acc_score = accuracy_score(y_test, y_pred)\n",
    "lg_pre_score = precision_score(y_test, y_pred)\n",
    "lg_rec_score = recall_score(y_test, y_pred)\n",
    "lg_f1_score = f1_score(y_test, y_pred)"
   ]
  },
  {
   "cell_type": "markdown",
   "id": "542b78ae",
   "metadata": {},
   "source": [
    "### 4b. Decision Tree Classifier"
   ]
  },
  {
   "cell_type": "code",
   "execution_count": 16,
   "id": "218b3cd6",
   "metadata": {},
   "outputs": [],
   "source": [
    "model = DecisionTreeClassifier()\n",
    "\n",
    "parameters = {'criterion': ['gini', 'entropy'],\n",
    "              'splitter': ['best', 'random'],\n",
    "               'max_depth': [3,4,5,10,15,20,25,50,75,100,125,150,200, None],\n",
    "               'min_samples_split': [3,10,50,100,150,200,250,300,350,400,450,500,550,600,650,700],\n",
    "               'min_samples_leaf': [1,2,3,4,5,10,20,25, 30, 50, 75, 100],\n",
    "               'max_features': ['auto', 'sqrt', 'log2'],\n",
    "               'max_leaf_nodes': [3,4,5,10,15,20,25,50,75,100,125,150,200, None]}"
   ]
  },
  {
   "cell_type": "code",
   "execution_count": 17,
   "id": "4822de22",
   "metadata": {},
   "outputs": [
    {
     "name": "stdout",
     "output_type": "stream",
     "text": [
      " Results from Random Search \n",
      "\n",
      " The best estimator across ALL searched params:\n",
      " DecisionTreeClassifier(max_depth=50, max_features='sqrt', max_leaf_nodes=100,\n",
      "                       min_samples_leaf=25, min_samples_split=100)\n"
     ]
    }
   ],
   "source": [
    "dt_random = RandomizedSearchCV(estimator = model, param_distributions = parameters, n_iter = 10, cv = 5, \n",
    "                               random_state=42, n_jobs = -1)\n",
    "dt_random.fit(X_train, y_train)\n",
    "\n",
    "print(\" Results from Random Search \" )\n",
    "print(\"\\n The best estimator across ALL searched params:\\n\", dt_random.best_estimator_)"
   ]
  },
  {
   "cell_type": "code",
   "execution_count": 18,
   "id": "c3d0a0df",
   "metadata": {},
   "outputs": [
    {
     "name": "stdout",
     "output_type": "stream",
     "text": [
      "Confusion matrix: \n",
      " [[24193  1161]\n",
      " [   76 25240]]\n",
      "Classification report: \n",
      "               precision    recall  f1-score   support\n",
      "\n",
      "           0       1.00      0.95      0.98     25354\n",
      "           1       0.96      1.00      0.98     25316\n",
      "\n",
      "    accuracy                           0.98     50670\n",
      "   macro avg       0.98      0.98      0.98     50670\n",
      "weighted avg       0.98      0.98      0.98     50670\n",
      "\n"
     ]
    }
   ],
   "source": [
    "y_pred = dt_random.predict(X_test)\n",
    "print('Confusion matrix: \\n', confusion_matrix(y_test, y_pred))\n",
    "print('Classification report: \\n', classification_report(y_test, y_pred))"
   ]
  },
  {
   "cell_type": "code",
   "execution_count": 19,
   "id": "773907a9",
   "metadata": {},
   "outputs": [
    {
     "data": {
      "text/plain": [
       "<sklearn.metrics._plot.confusion_matrix.ConfusionMatrixDisplay at 0x7f8e11a115e0>"
      ]
     },
     "execution_count": 19,
     "metadata": {},
     "output_type": "execute_result"
    },
    {
     "data": {
      "image/png": "[encoded data removed]",
      "text/plain": [
       "<Figure size 432x288 with 2 Axes>"
      ]
     },
     "metadata": {
      "needs_background": "light"
     },
     "output_type": "display_data"
    }
   ],
   "source": [
    "plot_confusion_matrix(dt_random, X_test, y_test,xticks_rotation='vertical')"
   ]
  },
  {
   "cell_type": "code",
   "execution_count": 20,
   "id": "aea42ace",
   "metadata": {},
   "outputs": [],
   "source": [
    "dt_acc_score = accuracy_score(y_test, y_pred)\n",
    "dt_pre_score = precision_score(y_test, y_pred)\n",
    "dt_rec_score = recall_score(y_test, y_pred)\n",
    "dt_f1_score = f1_score(y_test, y_pred)"
   ]
  },
  {
   "cell_type": "markdown",
   "id": "c947b09b",
   "metadata": {},
   "source": [
    "### 4c. Random Forest Classifier"
   ]
  },
  {
   "cell_type": "code",
   "execution_count": 21,
   "id": "40a45dc0",
   "metadata": {},
   "outputs": [],
   "source": [
    "model = RandomForestClassifier()\n",
    "\n",
    "parameters = {'n_estimators': [5,6,7,8,9,10,15,20,25,30,35,40,45,50,75,100,200],\n",
    "              'criterion': ['gini', 'entropy'],\n",
    "               'max_features': ['auto', 'sqrt', 'log2'],\n",
    "               'max_depth': [3,4,5,10,15,20,25,50,75,100,125,150,200, None],\n",
    "               'min_samples_split': [3,10,50,100,150,200,250,300,350,400,450,500,550,600,650,700],\n",
    "               'min_samples_leaf': [1,2,3,4,5,10,20,25, 30, 50, 75, 100],\n",
    "               'min_weight_fraction_leaf': [0.01, 0.1, 0.25, 0.001, 0.5, 0.75, 0.9],\n",
    "               'bootstrap': [True, False]}"
   ]
  },
  {
   "cell_type": "code",
   "execution_count": 22,
   "id": "bebb8568",
   "metadata": {},
   "outputs": [
    {
     "name": "stderr",
     "output_type": "stream",
     "text": [
      "/Users/kasey.larsen/opt/anaconda3/lib/python3.8/site-packages/sklearn/model_selection/_search.py:918: UserWarning: One or more of the test scores are non-finite: [       nan 0.95937512        nan        nan 0.96005178        nan\n",
      " 0.52004568        nan        nan 0.95026558]\n",
      "  warnings.warn(\n"
     ]
    },
    {
     "name": "stdout",
     "output_type": "stream",
     "text": [
      " Results from Random Search \n",
      "\n",
      " The best estimator across ALL searched params:\n",
      " RandomForestClassifier(bootstrap=False, max_depth=25, max_features='sqrt',\n",
      "                       min_samples_leaf=2, min_samples_split=400,\n",
      "                       min_weight_fraction_leaf=0.01, n_estimators=40)\n"
     ]
    }
   ],
   "source": [
    "rf_random = RandomizedSearchCV(estimator = model, param_distributions = parameters, n_iter = 10, cv = 5, \n",
    "                               verbose = False, random_state=42, n_jobs = -1)\n",
    "rf_random.fit(X_train, y_train)\n",
    "\n",
    "print(\" Results from Random Search \" )\n",
    "print(\"\\n The best estimator across ALL searched params:\\n\", rf_random.best_estimator_)"
   ]
  },
  {
   "cell_type": "code",
   "execution_count": 23,
   "id": "c6f7e67e",
   "metadata": {},
   "outputs": [
    {
     "name": "stdout",
     "output_type": "stream",
     "text": [
      "Confusion matrix: \n",
      " [[23837  1517]\n",
      " [  362 24954]]\n",
      "Classification report: \n",
      "               precision    recall  f1-score   support\n",
      "\n",
      "           0       0.99      0.94      0.96     25354\n",
      "           1       0.94      0.99      0.96     25316\n",
      "\n",
      "    accuracy                           0.96     50670\n",
      "   macro avg       0.96      0.96      0.96     50670\n",
      "weighted avg       0.96      0.96      0.96     50670\n",
      "\n"
     ]
    }
   ],
   "source": [
    "y_pred = rf_random.predict(X_test)\n",
    "print('Confusion matrix: \\n', confusion_matrix(y_test, y_pred))\n",
    "print('Classification report: \\n', classification_report(y_test, y_pred))"
   ]
  },
  {
   "cell_type": "code",
   "execution_count": 24,
   "id": "1ffde64d",
   "metadata": {},
   "outputs": [
    {
     "data": {
      "text/plain": [
       "<sklearn.metrics._plot.confusion_matrix.ConfusionMatrixDisplay at 0x7f8deaacf6a0>"
      ]
     },
     "execution_count": 24,
     "metadata": {},
     "output_type": "execute_result"
    },
    {
     "data": {
      "image/png": "[encoded data removed]",
      "text/plain": [
       "<Figure size 432x288 with 2 Axes>"
      ]
     },
     "metadata": {
      "needs_background": "light"
     },
     "output_type": "display_data"
    }
   ],
   "source": [
    "plot_confusion_matrix(rf_random, X_test, y_test,xticks_rotation='vertical')"
   ]
  },
  {
   "cell_type": "code",
   "execution_count": 25,
   "id": "5eb00dff",
   "metadata": {},
   "outputs": [],
   "source": [
    "rf_acc_score = accuracy_score(y_test, y_pred)\n",
    "rf_pre_score = precision_score(y_test, y_pred)\n",
    "rf_rec_score = recall_score(y_test, y_pred)\n",
    "rf_f1_score = f1_score(y_test, y_pred)"
   ]
  },
  {
   "cell_type": "markdown",
   "id": "69eb9d92",
   "metadata": {},
   "source": [
    "### 4d. MultinomialNB"
   ]
  },
  {
   "cell_type": "code",
   "execution_count": 26,
   "id": "b20d7a42",
   "metadata": {},
   "outputs": [],
   "source": [
    "model = MultinomialNB()\n",
    "\n",
    "parameters = {\"alpha\":[0.001,0.005,0.1,0.2,0.3,0.4,0.5,0.6,0.7,0.8,0.9,1],\n",
    "                \"fit_prior\":[True,False]}"
   ]
  },
  {
   "cell_type": "code",
   "execution_count": 27,
   "id": "9a5e5726",
   "metadata": {},
   "outputs": [
    {
     "name": "stdout",
     "output_type": "stream",
     "text": [
      " Results from Random Search \n",
      "\n",
      " The best estimator across ALL searched params:\n",
      " MultinomialNB(alpha=0.3)\n"
     ]
    }
   ],
   "source": [
    "mnb_random = RandomizedSearchCV(estimator = model, param_distributions = parameters, n_iter = 10, cv = 5, \n",
    "                               verbose = False, random_state=42, n_jobs = -1)\n",
    "mnb_random.fit(X_train, y_train)\n",
    "\n",
    "print(\" Results from Random Search \" )\n",
    "print(\"\\n The best estimator across ALL searched params:\\n\", mnb_random.best_estimator_)"
   ]
  },
  {
   "cell_type": "code",
   "execution_count": 28,
   "id": "35e01181",
   "metadata": {},
   "outputs": [
    {
     "name": "stdout",
     "output_type": "stream",
     "text": [
      "Confusion matrix: \n",
      " [[20025  5329]\n",
      " [ 4169 21147]]\n",
      "Classification report: \n",
      "               precision    recall  f1-score   support\n",
      "\n",
      "           0       0.83      0.79      0.81     25354\n",
      "           1       0.80      0.84      0.82     25316\n",
      "\n",
      "    accuracy                           0.81     50670\n",
      "   macro avg       0.81      0.81      0.81     50670\n",
      "weighted avg       0.81      0.81      0.81     50670\n",
      "\n"
     ]
    }
   ],
   "source": [
    "y_pred = mnb_random.predict(X_test)\n",
    "print('Confusion matrix: \\n', confusion_matrix(y_test, y_pred))\n",
    "print('Classification report: \\n', classification_report(y_test, y_pred))"
   ]
  },
  {
   "cell_type": "code",
   "execution_count": 29,
   "id": "a1928526",
   "metadata": {},
   "outputs": [
    {
     "data": {
      "text/plain": [
       "<sklearn.metrics._plot.confusion_matrix.ConfusionMatrixDisplay at 0x7f8e11a11610>"
      ]
     },
     "execution_count": 29,
     "metadata": {},
     "output_type": "execute_result"
    },
    {
     "data": {
      "image/png": "[encoded data removed]",
      "text/plain": [
       "<Figure size 432x288 with 2 Axes>"
      ]
     },
     "metadata": {
      "needs_background": "light"
     },
     "output_type": "display_data"
    }
   ],
   "source": [
    "plot_confusion_matrix(mnb_random, X_test, y_test,xticks_rotation='vertical')"
   ]
  },
  {
   "cell_type": "code",
   "execution_count": 30,
   "id": "70c61c77",
   "metadata": {},
   "outputs": [],
   "source": [
    "mnb_acc_score = accuracy_score(y_test, y_pred)\n",
    "mnb_pre_score = precision_score(y_test, y_pred)\n",
    "mnb_rec_score = recall_score(y_test, y_pred)\n",
    "mnb_f1_score = f1_score(y_test, y_pred)"
   ]
  },
  {
   "cell_type": "markdown",
   "id": "df4fe6d9",
   "metadata": {},
   "source": [
    "### 4e. XGBClassifier"
   ]
  },
  {
   "cell_type": "code",
   "execution_count": 31,
   "id": "db79bd0b",
   "metadata": {},
   "outputs": [],
   "source": [
    "model = XGBClassifier()\n",
    "\n",
    "parameters = {'n_estimators':[5,6,7,8,9,10,15,20,25,30,35,40,45,50,75,100,200],\n",
    "          'min_child_weight': [1, 5, 10],\n",
    "          'gamma': [0.1, 0.25, 0.5, 1, 1.5, 2, 5],\n",
    "          'subsample': [0.6, 0.8, 1.0],\n",
    "          'colsample_bytree': [0.6, 0.8, 1.0],\n",
    "          'class_weight':[None,'balanced'],\n",
    "          'max_depth': [1,2,3,4,5,10,15,20,25,50,75,100,125,150,200],\n",
    "          'learning_rate':[0.001,0.01,0.05,0.1,0.2,0.3]\n",
    "         }"
   ]
  },
  {
   "cell_type": "code",
   "execution_count": 32,
   "id": "59ef9344",
   "metadata": {},
   "outputs": [
    {
     "name": "stderr",
     "output_type": "stream",
     "text": [
      "/Users/kasey.larsen/opt/anaconda3/lib/python3.8/site-packages/xgboost/sklearn.py:1146: UserWarning: The use of label encoder in XGBClassifier is deprecated and will be removed in a future release. To remove this warning, do the following: 1) Pass option use_label_encoder=False when constructing XGBClassifier object; and 2) Encode your labels (y) as integers starting with 0, i.e. 0, 1, 2, ..., [num_class - 1].\n",
      "  warnings.warn(label_encoder_deprecation_msg, UserWarning)\n"
     ]
    },
    {
     "name": "stdout",
     "output_type": "stream",
     "text": [
      "[21:10:04] WARNING: /Users/travis/build/dmlc/xgboost/src/learner.cc:1095: Starting in XGBoost 1.3.0, the default evaluation metric used with the objective 'binary:logistic' was changed from 'error' to 'logloss'. Explicitly set eval_metric if you'd like to restore the old behavior.\n",
      " Results from Random Search \n",
      "\n",
      " The best estimator across ALL searched params:\n",
      " XGBClassifier(base_score=0.5, booster='gbtree', class_weight=None,\n",
      "              colsample_bylevel=1, colsample_bynode=1, colsample_bytree=0.8,\n",
      "              gamma=0.5, gpu_id=-1, importance_type='gain',\n",
      "              interaction_constraints='', learning_rate=0.1, max_delta_step=0,\n",
      "              max_depth=20, min_child_weight=1, missing=nan,\n",
      "              monotone_constraints='()', n_estimators=100, n_jobs=8,\n",
      "              num_parallel_tree=1, random_state=0, reg_alpha=0, reg_lambda=1,\n",
      "              scale_pos_weight=1, subsample=0.8, tree_method='exact',\n",
      "              validate_parameters=1, verbosity=None)\n"
     ]
    }
   ],
   "source": [
    "xgb_random = RandomizedSearchCV(estimator = model, param_distributions = parameters, n_iter = 10, cv = 5, \n",
    "                               verbose = False, random_state=42, n_jobs = -1)\n",
    "xgb_random.fit(X_train, y_train)\n",
    "\n",
    "print(\" Results from Random Search \" )\n",
    "print(\"\\n The best estimator across ALL searched params:\\n\", xgb_random.best_estimator_)"
   ]
  },
  {
   "cell_type": "code",
   "execution_count": 33,
   "id": "226a5a0c",
   "metadata": {},
   "outputs": [
    {
     "name": "stdout",
     "output_type": "stream",
     "text": [
      "Confusion matrix: \n",
      " [[25068   286]\n",
      " [    0 25316]]\n",
      "Classification report: \n",
      "               precision    recall  f1-score   support\n",
      "\n",
      "           0       1.00      0.99      0.99     25354\n",
      "           1       0.99      1.00      0.99     25316\n",
      "\n",
      "    accuracy                           0.99     50670\n",
      "   macro avg       0.99      0.99      0.99     50670\n",
      "weighted avg       0.99      0.99      0.99     50670\n",
      "\n"
     ]
    }
   ],
   "source": [
    "y_pred = xgb_random.predict(X_test)\n",
    "print('Confusion matrix: \\n', confusion_matrix(y_test, y_pred))\n",
    "print('Classification report: \\n', classification_report(y_test, y_pred))"
   ]
  },
  {
   "cell_type": "code",
   "execution_count": 34,
   "id": "d1571fcf",
   "metadata": {},
   "outputs": [
    {
     "data": {
      "text/plain": [
       "<sklearn.metrics._plot.confusion_matrix.ConfusionMatrixDisplay at 0x7f8dea6907c0>"
      ]
     },
     "execution_count": 34,
     "metadata": {},
     "output_type": "execute_result"
    },
    {
     "data": {
      "image/png": "[encoded data removed]",
      "text/plain": [
       "<Figure size 432x288 with 2 Axes>"
      ]
     },
     "metadata": {
      "needs_background": "light"
     },
     "output_type": "display_data"
    }
   ],
   "source": [
    "plot_confusion_matrix(xgb_random, X_test, y_test,xticks_rotation='vertical')"
   ]
  },
  {
   "cell_type": "code",
   "execution_count": 35,
   "id": "1f2493dd",
   "metadata": {},
   "outputs": [],
   "source": [
    "xgb_acc_score = accuracy_score(y_test, y_pred)\n",
    "xgb_pre_score = precision_score(y_test, y_pred)\n",
    "xgb_rec_score = recall_score(y_test, y_pred)\n",
    "xgb_f1_score = f1_score(y_test, y_pred)"
   ]
  },
  {
   "cell_type": "markdown",
   "id": "424bf449",
   "metadata": {},
   "source": [
    "### 5. Model Selection"
   ]
  },
  {
   "cell_type": "code",
   "execution_count": 40,
   "id": "789cc1e1",
   "metadata": {},
   "outputs": [],
   "source": [
    "# Creating a models table\n",
    "model_selection=pd.DataFrame({'Model':['Logistic Regession', 'Decision Tree Classifier', 'Random Forest Classifier',\n",
    "                                        'MultinomialNB', 'XGBClassifier'], \n",
    "                             'Accuracy Score':[lg_acc_score, dt_acc_score, rf_acc_score, mnb_acc_score, xgb_acc_score],\n",
    "                             'Precision Score':[lg_pre_score, dt_pre_score, rf_pre_score, mnb_pre_score,xgb_pre_score],\n",
    "                             'Recall Score':[lg_rec_score, dt_rec_score, rf_rec_score, mnb_rec_score, xgb_rec_score],\n",
    "                             'F1 Score':[lg_f1_score, dt_f1_score, rf_f1_score, mnb_f1_score, xgb_f1_score]})"
   ]
  },
  {
   "cell_type": "code",
   "execution_count": 41,
   "id": "5e92990d",
   "metadata": {},
   "outputs": [
    {
     "data": {
      "text/html": [
       "<div>\n",
       "<style scoped>\n",
       "    .dataframe tbody tr th:only-of-type {\n",
       "        vertical-align: middle;\n",
       "    }\n",
       "\n",
       "    .dataframe tbody tr th {\n",
       "        vertical-align: top;\n",
       "    }\n",
       "\n",
       "    .dataframe thead th {\n",
       "        text-align: right;\n",
       "    }\n",
       "</style>\n",
       "<table border=\"1\" class=\"dataframe\">\n",
       "  <thead>\n",
       "    <tr style=\"text-align: right;\">\n",
       "      <th></th>\n",
       "      <th>Model</th>\n",
       "      <th>Accuracy Score</th>\n",
       "      <th>Precision Score</th>\n",
       "      <th>Recall Score</th>\n",
       "      <th>F1 Score</th>\n",
       "    </tr>\n",
       "  </thead>\n",
       "  <tbody>\n",
       "    <tr>\n",
       "      <th>0</th>\n",
       "      <td>Logistic Regession</td>\n",
       "      <td>0.938484</td>\n",
       "      <td>0.943643</td>\n",
       "      <td>0.932572</td>\n",
       "      <td>0.938075</td>\n",
       "    </tr>\n",
       "    <tr>\n",
       "      <th>1</th>\n",
       "      <td>Decision Tree Classifier</td>\n",
       "      <td>0.975587</td>\n",
       "      <td>0.956024</td>\n",
       "      <td>0.996998</td>\n",
       "      <td>0.976081</td>\n",
       "    </tr>\n",
       "    <tr>\n",
       "      <th>2</th>\n",
       "      <td>Random Forest Classifier</td>\n",
       "      <td>0.962917</td>\n",
       "      <td>0.942692</td>\n",
       "      <td>0.985701</td>\n",
       "      <td>0.963717</td>\n",
       "    </tr>\n",
       "    <tr>\n",
       "      <th>3</th>\n",
       "      <td>MultinomialNB</td>\n",
       "      <td>0.812552</td>\n",
       "      <td>0.798723</td>\n",
       "      <td>0.835322</td>\n",
       "      <td>0.816613</td>\n",
       "    </tr>\n",
       "    <tr>\n",
       "      <th>4</th>\n",
       "      <td>XGBClassifier</td>\n",
       "      <td>0.994356</td>\n",
       "      <td>0.988829</td>\n",
       "      <td>1.000000</td>\n",
       "      <td>0.994383</td>\n",
       "    </tr>\n",
       "  </tbody>\n",
       "</table>\n",
       "</div>"
      ],
      "text/plain": [
       "                      Model  Accuracy Score  Precision Score  Recall Score  \\\n",
       "0        Logistic Regession        0.938484         0.943643      0.932572   \n",
       "1  Decision Tree Classifier        0.975587         0.956024      0.996998   \n",
       "2  Random Forest Classifier        0.962917         0.942692      0.985701   \n",
       "3             MultinomialNB        0.812552         0.798723      0.835322   \n",
       "4             XGBClassifier        0.994356         0.988829      1.000000   \n",
       "\n",
       "   F1 Score  \n",
       "0  0.938075  \n",
       "1  0.976081  \n",
       "2  0.963717  \n",
       "3  0.816613  \n",
       "4  0.994383  "
      ]
     },
     "execution_count": 41,
     "metadata": {},
     "output_type": "execute_result"
    }
   ],
   "source": [
    "model_selection"
   ]
  },
  {
   "cell_type": "markdown",
   "id": "fdb3153b",
   "metadata": {},
   "source": [
    "The XGBClassifier with hyperparameter tuning is a clear selection for the best model. It outscored the other models in all four of the scores. "
   ]
  },
  {
   "cell_type": "code",
   "execution_count": 55,
   "id": "769c5f7b",
   "metadata": {},
   "outputs": [
    {
     "data": {
      "image/png": "[encoded data removed]",
      "text/plain": [
       "<Figure size 432x288 with 1 Axes>"
      ]
     },
     "metadata": {
      "needs_background": "light"
     },
     "output_type": "display_data"
    }
   ],
   "source": [
    "feat_importances = pd.Series(xgb_random.best_estimator_.feature_importances_, index=X.columns)\n",
    "feat_importances.nlargest(15).plot(kind='barh')\n",
    "plt.title(\"Top 15 important features\")\n",
    "plt.show()"
   ]
  },
  {
   "cell_type": "markdown",
   "id": "14ccbaa0",
   "metadata": {},
   "source": [
    "### 6. Future Work"
   ]
  },
  {
   "cell_type": "markdown",
   "id": "4ffbb9a3",
   "metadata": {},
   "source": [
    "With further research, I would investigate to results of feature engineering new columns. \n",
    "This could potentially create some new features of importance and help make more accurate models. "
   ]
  },
  {
   "cell_type": "code",
   "execution_count": null,
   "id": "e5b4d8d3",
   "metadata": {},
   "outputs": [],
   "source": []
  }
 ],
 "metadata": {
  "kernelspec": {
   "display_name": "Python 3",
   "language": "python",
   "name": "python3"
  },
  "language_info": {
   "codemirror_mode": {
    "name": "ipython",
    "version": 3
   },
   "file_extension": ".py",
   "mimetype": "text/x-python",
   "name": "python",
   "nbconvert_exporter": "python",
   "pygments_lexer": "ipython3",
   "version": "3.8.8"
  }
 },
 "nbformat": 4,
 "nbformat_minor": 5
}
