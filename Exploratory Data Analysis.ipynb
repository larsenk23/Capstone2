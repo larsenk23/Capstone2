{
 "cells": [
  {
   "cell_type": "code",
   "execution_count": null,
   "metadata": {},
   "outputs": [],
   "source": [
    "import pandas as pd\n",
    "import numpy as np\n",
    "import matplotlib.pyplot as plt\n",
    "%matplotlib inline\n",
    "from matplotlib import pyplot as plt\n",
    "import matplotlib.patches as mpatches\n",
    "import seaborn as sns\n",
    "import math"
   ]
  },
  {
   "cell_type": "code",
   "execution_count": null,
   "metadata": {},
   "outputs": [],
   "source": [
    "df = pd.read_csv('df_clean.csv')"
   ]
  },
  {
   "cell_type": "code",
   "execution_count": null,
   "metadata": {},
   "outputs": [],
   "source": [
    "df.head()"
   ]
  },
  {
   "cell_type": "code",
   "execution_count": null,
   "metadata": {},
   "outputs": [],
   "source": [
    "df.info()"
   ]
  },
  {
   "cell_type": "code",
   "execution_count": null,
   "metadata": {},
   "outputs": [],
   "source": [
    "df['pageviews'] = df['pageviews'].astype(int)\n",
    "df['newVisits'] = df['newVisits'].astype(int)\n",
    "df['bounces'] = df['bounces'].astype(int)\n",
    "df['hits'] = df['hits'].astype(int)\n",
    "df['sessionQualityDim'] = df['sessionQualityDim'].astype(int)\n",
    "df['timeOnSite'] = df['timeOnSite'].astype(int)\n",
    "df['transactions'] = df['transactions'].astype(int)\n",
    "df['totalTransactionRevenue'] = df['totalTransactionRevenue'].astype(int)\n",
    "df['fullVisitorId'] = df['fullVisitorId'].astype(str)"
   ]
  },
  {
   "cell_type": "code",
   "execution_count": null,
   "metadata": {},
   "outputs": [],
   "source": [
    "df.dtypes"
   ]
  },
  {
   "cell_type": "code",
   "execution_count": null,
   "metadata": {
    "scrolled": true
   },
   "outputs": [],
   "source": [
    "# All histograms\n",
    "df.hist(figsize = (15,10))\n",
    "plt.subplots_adjust(hspace=0.5);"
   ]
  },
  {
   "cell_type": "code",
   "execution_count": null,
   "metadata": {},
   "outputs": [],
   "source": [
    "plt.figure(figsize=(12,10))\n",
    "print('Correlation between various features')\n",
    "p=sns.heatmap(df.corr(), annot=True,cmap ='Blues')"
   ]
  },
  {
   "cell_type": "code",
   "execution_count": null,
   "metadata": {},
   "outputs": [],
   "source": [
    "df_none_zero = df[df['totalTransactionRevenue'] > 0]"
   ]
  },
  {
   "cell_type": "code",
   "execution_count": null,
   "metadata": {},
   "outputs": [],
   "source": [
    "df['totalTransactionRevenue'].describe()"
   ]
  },
  {
   "cell_type": "code",
   "execution_count": null,
   "metadata": {},
   "outputs": [],
   "source": [
    "df_none_zero['totalTransactionRevenue'].describe()"
   ]
  },
  {
   "cell_type": "code",
   "execution_count": null,
   "metadata": {},
   "outputs": [],
   "source": [
    "# Total Transaction Revenue from None-Zero Transactions\n",
    "w = 50000000\n",
    "n = math.ceil((df['totalTransactionRevenue'].max() - df['totalTransactionRevenue'].min())/w)\n",
    "plt.figure(figsize=(10, 8))\n",
    "plt.hist(df_none_zero['totalTransactionRevenue'], bins = n)\n",
    "plt.title('Total Transaction Revenue from None-Zero Transactions')\n",
    "plt.xlabel('Total Transaction Revenue')\n",
    "plt.ylabel('Transactions');"
   ]
  },
  {
   "cell_type": "code",
   "execution_count": null,
   "metadata": {},
   "outputs": [],
   "source": [
    "# Total Transactions count from all Transactions\n",
    "plt.figure(figsize=(10,8))\n",
    "df.groupby('transactions')['totalTransactionRevenue'].count().sort_values(ascending=False).plot(kind='bar')\n",
    "plt.ylabel('Total Transaction Count')\n",
    "plt.xlabel('Transactions');"
   ]
  },
  {
   "cell_type": "code",
   "execution_count": null,
   "metadata": {},
   "outputs": [],
   "source": [
    "# Total Transaction Revenue from all Transactions\n",
    "plt.figure(figsize=(10,8))\n",
    "df.groupby('transactions')['totalTransactionRevenue'].sum().sort_values(ascending=False).plot(kind='bar')\n",
    "plt.ylabel('Total Transaction Revenue')\n",
    "plt.xlabel('Number of Transactions');"
   ]
  },
  {
   "cell_type": "code",
   "execution_count": null,
   "metadata": {},
   "outputs": [],
   "source": [
    "# Transaction revenue and visitnumber scatterplot sorted by transactions\n",
    "sns.relplot(data=df, x='totalTransactionRevenue', y='visitNumber', hue='transactions', size=3, aspect=1.5);"
   ]
  },
  {
   "cell_type": "code",
   "execution_count": null,
   "metadata": {},
   "outputs": [],
   "source": [
    "# Transaction revenue and visitStartTime scatterplot sorted by transactions\n",
    "sns.relplot(data=df, x='totalTransactionRevenue', y='visitStartTime', hue='transactions', size=3, aspect=1.5);"
   ]
  },
  {
   "cell_type": "code",
   "execution_count": null,
   "metadata": {},
   "outputs": [],
   "source": [
    "# Transaction revenue and timeOnSite scatterplot sorted by transactions\n",
    "sns.relplot(data=df, x='totalTransactionRevenue', y='timeOnSite', hue='transactions', size=3, aspect=1.5);"
   ]
  },
  {
   "cell_type": "code",
   "execution_count": null,
   "metadata": {},
   "outputs": [],
   "source": [
    "# Transaction count for all Transactions by browser\n",
    "df_grouped = df.groupby(['browser', 'transactions'])['totalTransactionRevenue'].count().unstack()\n",
    "df_grouped.plot(kind='barh', figsize=(10, 8), stacked=True);"
   ]
  },
  {
   "cell_type": "code",
   "execution_count": null,
   "metadata": {},
   "outputs": [],
   "source": [
    "# Transaction count for none zero transactions revenue by Browser\n",
    "df_grouped = df_none_zero.groupby(['browser', 'transactions'])['totalTransactionRevenue'].count().unstack()\n",
    "df_grouped[0]= 0\n",
    "df_grouped = df_grouped[[0, 1, 2, 3, 4, 5, 8]]\n",
    "df_grouped.plot(kind='barh', figsize=(10, 8), stacked=True);"
   ]
  },
  {
   "cell_type": "code",
   "execution_count": null,
   "metadata": {},
   "outputs": [],
   "source": [
    "# Transaction revenue by browser\n",
    "df_grouped = df.groupby(['browser', 'transactions'])['totalTransactionRevenue'].sum().unstack()\n",
    "df_grouped.plot(kind='barh', figsize=(10, 8), stacked=True);"
   ]
  },
  {
   "cell_type": "code",
   "execution_count": null,
   "metadata": {},
   "outputs": [],
   "source": [
    "# Transaction count for all Transactions by operating system\n",
    "df_grouped = df.groupby(['operatingSystem', 'transactions'])['totalTransactionRevenue'].count().unstack()\n",
    "df_grouped.plot(kind='barh', figsize=(10, 8), stacked=True);"
   ]
  },
  {
   "cell_type": "code",
   "execution_count": null,
   "metadata": {},
   "outputs": [],
   "source": [
    "# Transaction count for none zero Transactions by operating system\n",
    "df_grouped = df_none_zero.groupby(['operatingSystem', 'transactions'])['totalTransactionRevenue'].count().unstack()\n",
    "df_grouped[0]= 0\n",
    "df_grouped = df_grouped[[0, 1, 2, 3, 4, 5, 8]]\n",
    "df_grouped.plot(kind='barh', figsize=(10, 8), stacked=True);"
   ]
  },
  {
   "cell_type": "code",
   "execution_count": null,
   "metadata": {},
   "outputs": [],
   "source": [
    "# Transaction revenue by browser\n",
    "df_grouped = df.groupby(['operatingSystem', 'transactions'])['totalTransactionRevenue'].sum().unstack()\n",
    "df_grouped.plot(kind='barh', figsize=(10, 8), stacked=True);"
   ]
  },
  {
   "cell_type": "code",
   "execution_count": null,
   "metadata": {},
   "outputs": [],
   "source": [
    "# Transaction count for all Transactions by 'isMobile'\n",
    "df_grouped = df.groupby(['isMobile', 'transactions'])['totalTransactionRevenue'].count().unstack()\n",
    "df_grouped.plot(kind='barh', figsize=(10, 8), stacked=True);"
   ]
  },
  {
   "cell_type": "code",
   "execution_count": null,
   "metadata": {},
   "outputs": [],
   "source": [
    "# Transaction count for none zero Transactions by 'isMobile'\n",
    "df_grouped = df_none_zero.groupby(['isMobile', 'transactions'])['totalTransactionRevenue'].count().unstack()\n",
    "df_grouped[0]= 0\n",
    "df_grouped = df_grouped[[0, 1, 2, 3, 4, 5, 8]]\n",
    "df_grouped.plot(kind='barh', figsize=(10, 8), stacked=True);"
   ]
  },
  {
   "cell_type": "code",
   "execution_count": null,
   "metadata": {},
   "outputs": [],
   "source": [
    "# Transaction revenue by 'isMobile'\n",
    "df_grouped = df.groupby(['isMobile', 'transactions'])['totalTransactionRevenue'].sum().unstack()\n",
    "df_grouped.plot(kind='barh', figsize=(10, 8), stacked=True);"
   ]
  },
  {
   "cell_type": "code",
   "execution_count": null,
   "metadata": {},
   "outputs": [],
   "source": [
    "# Transaction count for all Transactions by 'deviceCategory'\n",
    "df_grouped = df.groupby(['deviceCategory', 'transactions'])['totalTransactionRevenue'].count().unstack()\n",
    "df_grouped.plot(kind='barh', figsize=(10, 8), stacked=True);"
   ]
  },
  {
   "cell_type": "code",
   "execution_count": null,
   "metadata": {},
   "outputs": [],
   "source": [
    "# Transaction count for none zero Transactions by 'deviceCategory'\n",
    "df_grouped = df_none_zero.groupby(['deviceCategory', 'transactions'])['totalTransactionRevenue'].count().unstack()\n",
    "df_grouped[0]= 0\n",
    "df_grouped = df_grouped[[0, 1, 2, 3, 4, 5, 8]]\n",
    "df_grouped.plot(kind='barh', figsize=(10, 8), stacked=True);"
   ]
  },
  {
   "cell_type": "code",
   "execution_count": null,
   "metadata": {},
   "outputs": [],
   "source": [
    "# Transaction revenue by 'deviceCategory'\n",
    "df_grouped = df.groupby(['deviceCategory', 'transactions'])['totalTransactionRevenue'].sum().unstack()\n",
    "df_grouped.plot(kind='barh', figsize=(10, 8), stacked=True);"
   ]
  },
  {
   "cell_type": "code",
   "execution_count": null,
   "metadata": {},
   "outputs": [],
   "source": [
    "# Transaction count for all Transactions by 'subContinent'\n",
    "df_grouped = df.groupby(['subContinent', 'transactions'])['totalTransactionRevenue'].count().unstack()\n",
    "df_grouped.plot(kind='barh', figsize=(10, 8),  stacked=True);"
   ]
  },
  {
   "cell_type": "code",
   "execution_count": null,
   "metadata": {},
   "outputs": [],
   "source": [
    "# Transaction count for none zero Transactions by 'subContinent'\n",
    "df_grouped = df_none_zero.groupby(['subContinent', 'transactions'])['totalTransactionRevenue'].count().unstack()\n",
    "df_grouped[0]= 0\n",
    "df_grouped = df_grouped[[0, 1, 2, 3, 4, 5, 8]]\n",
    "df_grouped.plot(kind='barh', figsize=(10, 8), stacked=True);"
   ]
  },
  {
   "cell_type": "code",
   "execution_count": null,
   "metadata": {},
   "outputs": [],
   "source": [
    "# Transaction revenue by 'subContinent'\n",
    "df_grouped = df.groupby(['subContinent', 'transactions'])['totalTransactionRevenue'].sum().unstack()\n",
    "df_grouped.plot(kind='barh', figsize=(10, 8), stacked=True);"
   ]
  },
  {
   "cell_type": "code",
   "execution_count": null,
   "metadata": {},
   "outputs": [],
   "source": [
    "# Transaction revenue and pageviews scartterplot sorted by transactions\n",
    "sns.relplot(data=df, x='totalTransactionRevenue', y='pageviews', hue='transactions', size=3, aspect=1.5);"
   ]
  },
  {
   "cell_type": "code",
   "execution_count": null,
   "metadata": {},
   "outputs": [],
   "source": [
    "# Transaction count for all Transactions by 'bounces'\n",
    "df_grouped = df.groupby(['bounces', 'transactions'])['totalTransactionRevenue'].count().unstack()\n",
    "df_grouped.plot(kind='barh', figsize=(10, 8), stacked=True);"
   ]
  },
  {
   "cell_type": "code",
   "execution_count": null,
   "metadata": {},
   "outputs": [],
   "source": [
    "# Transaction count for none zero Transactions by 'bounces'\n",
    "df_grouped = df_none_zero.groupby(['bounces', 'transactions'])['totalTransactionRevenue'].count().unstack()\n",
    "df_grouped[0]= 0\n",
    "df_grouped = df_grouped[[0, 1, 2, 3, 4, 5, 8]]\n",
    "df_grouped.plot(kind='barh', figsize=(10, 8), stacked=True);"
   ]
  },
  {
   "cell_type": "code",
   "execution_count": null,
   "metadata": {},
   "outputs": [],
   "source": [
    "# Transaction revenue by 'bounces'\n",
    "df_grouped = df.groupby(['bounces', 'transactions'])['totalTransactionRevenue'].sum().unstack()\n",
    "df_grouped.plot(kind='barh', figsize=(10, 8), stacked=True);"
   ]
  },
  {
   "cell_type": "code",
   "execution_count": null,
   "metadata": {},
   "outputs": [],
   "source": [
    "# Transaction count for all Transactions by 'newVisits'\n",
    "df_grouped = df.groupby(['newVisits', 'transactions'])['totalTransactionRevenue'].count().unstack()\n",
    "df_grouped.plot(kind='barh', figsize=(10, 8), stacked=True);"
   ]
  },
  {
   "cell_type": "code",
   "execution_count": null,
   "metadata": {},
   "outputs": [],
   "source": [
    "# Transaction count for none zero Transactions by ''newVisits'\n",
    "df_grouped = df_none_zero.groupby(['newVisits', 'transactions'])['totalTransactionRevenue'].count().unstack()\n",
    "df_grouped[0]= 0\n",
    "df_grouped = df_grouped[[0, 1, 2, 3, 4, 5, 8]]\n",
    "df_grouped.plot(kind='barh', figsize=(10, 8), stacked=True);"
   ]
  },
  {
   "cell_type": "code",
   "execution_count": null,
   "metadata": {},
   "outputs": [],
   "source": [
    "# Transaction revenue by 'newVisits'\n",
    "df_grouped = df.groupby(['newVisits', 'transactions'])['totalTransactionRevenue'].sum().unstack()\n",
    "df_grouped.plot(kind='barh', figsize=(10, 8), stacked=True);"
   ]
  },
  {
   "cell_type": "code",
   "execution_count": null,
   "metadata": {},
   "outputs": [],
   "source": [
    "# Transaction revenue and pageviews scatterpolt sorted by transactions\n",
    "sns.relplot(data=df, x='totalTransactionRevenue', y='sessionQualityDim', hue='transactions', size=3, aspect=1.5);"
   ]
  },
  {
   "cell_type": "code",
   "execution_count": null,
   "metadata": {},
   "outputs": [],
   "source": [
    "# Transaction count for all Transactions by 'weekday'\n",
    "df_grouped = df.groupby(['weekday', 'transactions'])['totalTransactionRevenue'].count().unstack()\n",
    "df_grouped.plot(kind='barh', figsize=(10, 8), stacked=True);"
   ]
  },
  {
   "cell_type": "code",
   "execution_count": null,
   "metadata": {},
   "outputs": [],
   "source": [
    "# Transaction count for none zero Transactions by ''weekday'\n",
    "df_grouped = df_none_zero.groupby(['weekday', 'transactions'])['totalTransactionRevenue'].count().unstack()\n",
    "df_grouped[0]= 0\n",
    "df_grouped = df_grouped[[0, 1, 2, 3, 4, 5, 8]]\n",
    "df_grouped.plot(kind='barh', figsize=(10, 8), stacked=True);"
   ]
  },
  {
   "cell_type": "code",
   "execution_count": null,
   "metadata": {},
   "outputs": [],
   "source": [
    "# Transaction revenue by 'weekday'\n",
    "df_grouped = df.groupby(['weekday', 'transactions'])['totalTransactionRevenue'].sum().unstack()\n",
    "df_grouped.plot(kind='barh', figsize=(10, 8), stacked=True);"
   ]
  },
  {
   "cell_type": "code",
   "execution_count": null,
   "metadata": {},
   "outputs": [],
   "source": [
    "# Transaction count for all Transactions by 'day'\n",
    "df_grouped = df.groupby(['day', 'transactions'])['totalTransactionRevenue'].count().unstack()\n",
    "df_grouped.plot(kind='barh', figsize=(10, 8), stacked=True);"
   ]
  },
  {
   "cell_type": "code",
   "execution_count": null,
   "metadata": {},
   "outputs": [],
   "source": [
    "# Transaction count for none zero Transactions by 'day'\n",
    "df_grouped = df_none_zero.groupby(['day', 'transactions'])['totalTransactionRevenue'].count().unstack()\n",
    "df_grouped[0]= 0\n",
    "df_grouped = df_grouped[[0, 1, 2, 3, 4, 5, 8]]\n",
    "df_grouped.plot(kind='barh', figsize=(10, 8), stacked=True);"
   ]
  },
  {
   "cell_type": "code",
   "execution_count": null,
   "metadata": {},
   "outputs": [],
   "source": [
    "# Transaction revenue by 'day'\n",
    "df_grouped = df.groupby(['day', 'transactions'])['totalTransactionRevenue'].sum().unstack()\n",
    "df_grouped.plot(kind='barh', figsize=(10, 8), stacked=True);"
   ]
  },
  {
   "cell_type": "code",
   "execution_count": null,
   "metadata": {},
   "outputs": [],
   "source": [
    "# Transaction count for all Transactions by 'month'\n",
    "df_grouped = df.groupby(['month', 'transactions'])['totalTransactionRevenue'].count().unstack()\n",
    "df_grouped.plot(kind='barh', figsize=(10, 8), stacked=True);"
   ]
  },
  {
   "cell_type": "code",
   "execution_count": null,
   "metadata": {},
   "outputs": [],
   "source": [
    "# Transaction count for none zero Transactions by 'month'\n",
    "df_grouped = df_none_zero.groupby(['month', 'transactions'])['totalTransactionRevenue'].count().unstack()\n",
    "df_grouped[0]= 0\n",
    "df_grouped = df_grouped[[0, 1, 2, 3, 4, 5, 8]]\n",
    "df_grouped.plot(kind='barh', figsize=(10, 8), stacked=True);"
   ]
  },
  {
   "cell_type": "code",
   "execution_count": null,
   "metadata": {},
   "outputs": [],
   "source": [
    "# Transaction revenue by 'month'\n",
    "df_grouped = df.groupby(['month', 'transactions'])['totalTransactionRevenue'].sum().unstack()\n",
    "df_grouped.plot(kind='barh', figsize=(10, 8), stacked=True);"
   ]
  },
  {
   "cell_type": "code",
   "execution_count": null,
   "metadata": {},
   "outputs": [],
   "source": [
    "# Transaction count for all Transactions by 'year'\n",
    "df_grouped = df.groupby(['year', 'transactions'])['totalTransactionRevenue'].count().unstack()\n",
    "df_grouped.plot(kind='barh', figsize=(10, 8), stacked=True);"
   ]
  },
  {
   "cell_type": "code",
   "execution_count": null,
   "metadata": {},
   "outputs": [],
   "source": [
    "# Transaction count for none zero Transactions by 'year'\n",
    "df_grouped = df_none_zero.groupby(['year', 'transactions'])['totalTransactionRevenue'].count().unstack()\n",
    "df_grouped[0]= 0\n",
    "df_grouped = df_grouped[[0, 1, 2, 3, 4, 5, 8]]\n",
    "df_grouped.plot(kind='barh', figsize=(10, 8), stacked=True);"
   ]
  },
  {
   "cell_type": "code",
   "execution_count": null,
   "metadata": {},
   "outputs": [],
   "source": [
    "# all transactions\n",
    "plt.figure(figsize = [10, 8]) \n",
    "sns.violinplot(data = df, x = 'weekday', y = 'totalTransactionRevenue')"
   ]
  },
  {
   "cell_type": "code",
   "execution_count": null,
   "metadata": {},
   "outputs": [],
   "source": [
    "# none zero transactions revenue\n",
    "plt.figure(figsize = [10, 8]) \n",
    "sns.violinplot(data = df_none_zero, x = 'weekday', y = 'totalTransactionRevenue')"
   ]
  },
  {
   "cell_type": "code",
   "execution_count": null,
   "metadata": {},
   "outputs": [],
   "source": [
    "# all transactions\n",
    "plt.figure(figsize = [10, 8]) \n",
    "sns.violinplot(data = df, x = 'year', y = 'totalTransactionRevenue')"
   ]
  },
  {
   "cell_type": "code",
   "execution_count": null,
   "metadata": {},
   "outputs": [],
   "source": [
    "# none zero transactions revenue\n",
    "plt.figure(figsize = [10, 8]) \n",
    "sns.violinplot(data = df_none_zero, x = 'year', y = 'totalTransactionRevenue')"
   ]
  },
  {
   "cell_type": "code",
   "execution_count": null,
   "metadata": {},
   "outputs": [],
   "source": [
    "# all transactions\n",
    "plt.figure(figsize = [10, 8]) \n",
    "sns.violinplot(data = df, x = 'transactions', y = 'totalTransactionRevenue')"
   ]
  },
  {
   "cell_type": "code",
   "execution_count": null,
   "metadata": {},
   "outputs": [],
   "source": [
    "# none zero transactions revenue\n",
    "plt.figure(figsize = [10, 8]) \n",
    "sns.violinplot(data = df_none_zero, x = 'transactions', y = 'totalTransactionRevenue')"
   ]
  },
  {
   "cell_type": "code",
   "execution_count": null,
   "metadata": {},
   "outputs": [],
   "source": [
    "df.to_csv('df.csv', index=False)"
   ]
  },
  {
   "cell_type": "code",
   "execution_count": null,
   "metadata": {},
   "outputs": [],
   "source": []
  }
 ],
 "metadata": {
  "kernelspec": {
   "display_name": "Python 3",
   "language": "python",
   "name": "python3"
  },
  "language_info": {
   "codemirror_mode": {
    "name": "ipython",
    "version": 3
   },
   "file_extension": ".py",
   "mimetype": "text/x-python",
   "name": "python",
   "nbconvert_exporter": "python",
   "pygments_lexer": "ipython3",
   "version": "3.8.8"
  }
 },
 "nbformat": 4,
 "nbformat_minor": 4
}
